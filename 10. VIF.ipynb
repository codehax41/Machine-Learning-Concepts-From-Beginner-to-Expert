{
 "cells": [
  {
   "cell_type": "markdown",
   "id": "0a3d7570",
   "metadata": {},
   "source": [
    "## Assumption 5: MultiCollinearity\n"
   ]
  },
  {
   "cell_type": "markdown",
   "id": "e7bac881",
   "metadata": {},
   "source": [
    "#### 1. High Correlated Feature using Numpy"
   ]
  },
  {
   "cell_type": "code",
   "execution_count": 24,
   "id": "6161cc21",
   "metadata": {},
   "outputs": [],
   "source": [
    "import numpy as np\n",
    "\n",
    "x1 = np.linspace(1, 10, 100)\n",
    "x2 = 2 * x1 + np.random.normal(0,1, 100)\n",
    "x3 = 3 * x1 + np.random.normal(0,1, 100)"
   ]
  },
  {
   "cell_type": "code",
   "execution_count": 25,
   "id": "1a4c91b0",
   "metadata": {},
   "outputs": [],
   "source": [
    "corr_matrix = np.corrcoef([x1, x2, x3])"
   ]
  },
  {
   "cell_type": "code",
   "execution_count": 26,
   "id": "2e29b4b5",
   "metadata": {},
   "outputs": [
    {
     "name": "stdout",
     "output_type": "stream",
     "text": [
      "Correlation Matrix\n"
     ]
    },
    {
     "data": {
      "text/plain": [
       "array([[1.        , 0.98372337, 0.99129241],\n",
       "       [0.98372337, 1.        , 0.97665502],\n",
       "       [0.99129241, 0.97665502, 1.        ]])"
      ]
     },
     "execution_count": 26,
     "metadata": {},
     "output_type": "execute_result"
    }
   ],
   "source": [
    "print(\"Correlation Matrix\",)\n",
    "corr_matrix"
   ]
  },
  {
   "cell_type": "code",
   "execution_count": null,
   "id": "818800ee",
   "metadata": {},
   "outputs": [],
   "source": []
  },
  {
   "cell_type": "markdown",
   "id": "083485f2",
   "metadata": {},
   "source": [
    "### 2 using Statsmodel"
   ]
  },
  {
   "cell_type": "code",
   "execution_count": 31,
   "id": "70c46d6d",
   "metadata": {},
   "outputs": [],
   "source": [
    "import pandas as pd"
   ]
  },
  {
   "cell_type": "code",
   "execution_count": 27,
   "id": "0761b56c",
   "metadata": {},
   "outputs": [],
   "source": [
    "from statsmodels.stats.outliers_influence import variance_inflation_factor"
   ]
  },
  {
   "cell_type": "code",
   "execution_count": 28,
   "id": "47d8789b",
   "metadata": {},
   "outputs": [],
   "source": [
    "np.random.seed(0)\n",
    "x1 = np.random.rand(100)\n",
    "x2 = 2*x1+np.random.normal(0,0.1, 100)\n",
    "x3 = 3*x1+np.random.normal(0,0.1, 100)\n",
    "y = 2 * x1 + 3 * x2 + 4 * x3 + np.random.normal(0,0.1, 100)"
   ]
  },
  {
   "cell_type": "code",
   "execution_count": 32,
   "id": "f8a582ce",
   "metadata": {},
   "outputs": [],
   "source": [
    "data = pd.DataFrame({'X1':x1, 'X2':x2, 'X3':x3})\n",
    "vif = pd.DataFrame()"
   ]
  },
  {
   "cell_type": "code",
   "execution_count": 33,
   "id": "9faedcc7",
   "metadata": {},
   "outputs": [],
   "source": [
    "vif['Variable'] = data.columns"
   ]
  },
  {
   "cell_type": "code",
   "execution_count": 36,
   "id": "93baf683",
   "metadata": {},
   "outputs": [
    {
     "name": "stdout",
     "output_type": "stream",
     "text": [
      "  Variable         VIF\n",
      "0       X1  369.430949\n",
      "1       X2  128.148334\n",
      "2       X3  287.073160\n"
     ]
    }
   ],
   "source": [
    "vif['VIF'] = [variance_inflation_factor(data.values, i) for i in range(data.shape[1])]\n",
    "\n",
    "print(vif)"
   ]
  },
  {
   "cell_type": "code",
   "execution_count": null,
   "id": "a32f6ab7",
   "metadata": {},
   "outputs": [],
   "source": []
  },
  {
   "cell_type": "code",
   "execution_count": 37,
   "id": "27c6b426",
   "metadata": {},
   "outputs": [
    {
     "name": "stdout",
     "output_type": "stream",
     "text": [
      "  Variable       VIF\n",
      "0       X1  2.631252\n",
      "1       X2  2.696521\n",
      "2       X3  2.569448\n"
     ]
    }
   ],
   "source": [
    "np.random.seed(0)\n",
    "x1 = np.random.rand(100)\n",
    "x2 = np.random.rand(100)\n",
    "x3 = np.random.rand(100)\n",
    "y = 2 * x1 + 3 * x2 + 4 * x3 + np.random.normal(0,0.1, 100)\n",
    "\n",
    "data = pd.DataFrame({'X1':x1, 'X2':x2, 'X3':x3})\n",
    "vif = pd.DataFrame()\n",
    "\n",
    "vif['Variable'] = data.columns\n",
    "\n",
    "vif['VIF'] = [variance_inflation_factor(data.values, i) for i in range(data.shape[1])]\n",
    "\n",
    "print(vif)"
   ]
  },
  {
   "cell_type": "code",
   "execution_count": null,
   "id": "562e6e6d",
   "metadata": {},
   "outputs": [],
   "source": []
  },
  {
   "cell_type": "code",
   "execution_count": null,
   "id": "3fbd973c",
   "metadata": {},
   "outputs": [],
   "source": []
  },
  {
   "cell_type": "code",
   "execution_count": null,
   "id": "33bc8ff8",
   "metadata": {},
   "outputs": [],
   "source": []
  },
  {
   "cell_type": "code",
   "execution_count": null,
   "id": "bedd8e2e",
   "metadata": {},
   "outputs": [],
   "source": []
  },
  {
   "cell_type": "code",
   "execution_count": null,
   "id": "85a9d11a",
   "metadata": {},
   "outputs": [],
   "source": []
  },
  {
   "cell_type": "code",
   "execution_count": null,
   "id": "7b9e6e4b",
   "metadata": {},
   "outputs": [],
   "source": []
  },
  {
   "cell_type": "code",
   "execution_count": null,
   "id": "b7aaf5b0",
   "metadata": {},
   "outputs": [],
   "source": []
  },
  {
   "cell_type": "code",
   "execution_count": null,
   "id": "dee9e2b4",
   "metadata": {},
   "outputs": [],
   "source": []
  },
  {
   "cell_type": "code",
   "execution_count": null,
   "id": "be054723",
   "metadata": {},
   "outputs": [],
   "source": []
  },
  {
   "cell_type": "code",
   "execution_count": null,
   "id": "fc009eed",
   "metadata": {},
   "outputs": [],
   "source": []
  }
 ],
 "metadata": {
  "kernelspec": {
   "display_name": "Python 3 (ipykernel)",
   "language": "python",
   "name": "python3"
  },
  "language_info": {
   "codemirror_mode": {
    "name": "ipython",
    "version": 3
   },
   "file_extension": ".py",
   "mimetype": "text/x-python",
   "name": "python",
   "nbconvert_exporter": "python",
   "pygments_lexer": "ipython3",
   "version": "3.11.5"
  }
 },
 "nbformat": 4,
 "nbformat_minor": 5
}
