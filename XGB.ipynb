{
 "cells": [
  {
   "cell_type": "code",
   "execution_count": 29,
   "id": "1f305ece",
   "metadata": {},
   "outputs": [],
   "source": [
    "import numpy as np\n",
    "from sklearn.datasets import load_iris, load_wine\n",
    "from sklearn.model_selection import train_test_split"
   ]
  },
  {
   "cell_type": "markdown",
   "id": "eb6eb14a",
   "metadata": {},
   "source": [
    "## Numpy way"
   ]
  },
  {
   "cell_type": "code",
   "execution_count": 13,
   "id": "589bd80d",
   "metadata": {},
   "outputs": [],
   "source": [
    "class SimpleDicisionTree:\n",
    "    def __init__(self, max_depth=None):\n",
    "        self.max_depth = max_depth\n",
    "        self.left = None\n",
    "        self.right = None\n",
    "        self.feature_index = None\n",
    "        self.threshold = None\n",
    "        self.value = None\n",
    "        \n",
    "    def fit(self, X,y, depth=0):\n",
    "        if depth == self.max_depth or len(np.unique(y))==1:\n",
    "            self.value = np.argmax(np.bincount(y.astype(int)))\n",
    "            return\n",
    "        \n",
    "        n_samples, n_features = X.shape\n",
    "        best_gini = 1.0\n",
    "        for feature in range(n_features):\n",
    "            thresholds = np.unique(X[:, feature])\n",
    "            for threshold in thresholds:\n",
    "                left_indices = X[:, feature] <= threshold\n",
    "                right_indices = X[:, feature] > threshold\n",
    "            if sum(left_indices) == 0 or sum(right_indices)==0:\n",
    "                continue\n",
    "            gini = self._calculate_gini(y[left_indices], y[right_indices])\n",
    "            if gini < best_gini:\n",
    "                best_gini = gini\n",
    "                self.feature_index = feature\n",
    "                self.threshold = threshold\n",
    "        if self.feature_index is not None:\n",
    "            left_indices = X[:, self.feature_index] <= self.threhold\n",
    "            right_indices = X[:, self.feature_index] > self.threhold\n",
    "            self.left = SimpleDicisionTree(max_depth=self.max_depth)\n",
    "            self.left.fit(X[left_indices], y[left_indices], deph+1)\n",
    "            self.right = SimpleDicisionTree(max_depth=self.max_depth)\n",
    "            self.right.fit(X[right_indices], y[right_indices], deph+1)\n",
    "        else:\n",
    "            self.value = np.argmax(np.bincount(y.astype(int)))\n",
    "            \n",
    "    def _calulate_gini(self, left_labels, right_labels):\n",
    "        total = len(left_labels) + len(right_labels)\n",
    "        gini_left = 1.0 - sum([(left_labels == c).mean()**2 for c in np.unique(left_labels)])\n",
    "        gini_right = 1.0 - sum([(right_labels == c).mean()**2 for c in np.unique(right_labels)])\n",
    "        return (len(left_labels) * gini_left + len(right_labels) * gini_right)/total\n",
    "        \n",
    "    def predict(self, X):\n",
    "        if self.feature_index is None:\n",
    "            return np.array([self.value] * len(X))\n",
    "        else:\n",
    "            left_indices = X[:, self.feature_index] <= self.threshold\n",
    "            right_indices = X[:, self.feature_index] > self.threshold\n",
    "            predictions = np.zeros(len(X), dtype=int)\n",
    "            predictions[left_indices] = self.left.predict(X[left_indices])\n",
    "            predictions[right_indices] = self.right.predict(X[right_indices])\n",
    "            return predictions\n",
    "            \n",
    "        \n",
    "class SimpleXGBoost:\n",
    "    def __init__(self, n_estimators=100, max_depth=3, learning_rate=0.1):\n",
    "        self.n_estimators = n_estimators\n",
    "        self.max_depth = max_depth\n",
    "        self.learning_rate = learning_rate\n",
    "        self.estimators = []\n",
    "        \n",
    "        \n",
    "    def fit(self, X, y):\n",
    "        y = np.asarray(y, dtype=int)\n",
    "        y_pred = np.zeros(len(y))\n",
    "        \n",
    "        for _ in range(self.n_estimators):\n",
    "            residual = y - y_pred\n",
    "            tree = SimpleDicisionTree(max_depth=self.max_depth)\n",
    "            tree.fit(X, residual)\n",
    "            y_pred += self.learning_rate * tree.predict(X)\n",
    "            self.estimators.append(tree)\n",
    "            \n",
    "    def predict(self, X):\n",
    "        predictions = np.zeros((len(X), len(self.estimators)))\n",
    "        for i, tree in enumerate(self.estimators):\n",
    "            predictions[:, i] = tree.predict(X)\n",
    "        return np.array([np.bincount(row.astype(int)).argmax() for row in predictions])\n",
    "        "
   ]
  },
  {
   "cell_type": "code",
   "execution_count": 4,
   "id": "05d29fef",
   "metadata": {},
   "outputs": [],
   "source": [
    "#LOad the dataset\n",
    "iris = load_iris()\n",
    "X_train, X_test, y_train, y_test = train_test_split(iris.data, iris.target, test_size=0.2, random_state=42)"
   ]
  },
  {
   "cell_type": "code",
   "execution_count": 15,
   "id": "addb60d6",
   "metadata": {},
   "outputs": [],
   "source": [
    "xgb = SimpleXGBoost(n_estimators=100, max_depth=3, learning_rate=0.1)"
   ]
  },
  {
   "cell_type": "code",
   "execution_count": 16,
   "id": "7bc825fa",
   "metadata": {},
   "outputs": [],
   "source": [
    "xgb.fit(X_train, y_train)\n",
    "predictions = xgb.predict(X_test)"
   ]
  },
  {
   "cell_type": "code",
   "execution_count": 17,
   "id": "755a9770",
   "metadata": {},
   "outputs": [
    {
     "name": "stdout",
     "output_type": "stream",
     "text": [
      "Accuracy: 0.3333333333333333\n"
     ]
    }
   ],
   "source": [
    "#Evaluating the model\n",
    "accuracy = np.mean(predictions == y_test)\n",
    "print(f\"Accuracy: {accuracy}\")"
   ]
  },
  {
   "cell_type": "code",
   "execution_count": null,
   "id": "49f4d27e",
   "metadata": {},
   "outputs": [],
   "source": []
  },
  {
   "cell_type": "markdown",
   "id": "cd023cf3",
   "metadata": {},
   "source": [
    "## Sklearn"
   ]
  },
  {
   "cell_type": "code",
   "execution_count": 26,
   "id": "0d59235d",
   "metadata": {},
   "outputs": [
    {
     "name": "stdout",
     "output_type": "stream",
     "text": [
      "Requirement already satisfied: xgboost in c:\\users\\ramsu\\anaconda3\\lib\\site-packages (2.0.2)\n",
      "Requirement already satisfied: numpy in c:\\users\\ramsu\\anaconda3\\lib\\site-packages (from xgboost) (1.24.3)\n",
      "Requirement already satisfied: scipy in c:\\users\\ramsu\\anaconda3\\lib\\site-packages (from xgboost) (1.11.1)\n"
     ]
    }
   ],
   "source": [
    "!pip install xgboost"
   ]
  },
  {
   "cell_type": "code",
   "execution_count": 27,
   "id": "4455b960",
   "metadata": {},
   "outputs": [],
   "source": [
    "from xgboost import XGBClassifier"
   ]
  },
  {
   "cell_type": "code",
   "execution_count": 30,
   "id": "4616a7c3",
   "metadata": {},
   "outputs": [],
   "source": [
    "#LOad the dataset\n",
    "wine = load_wine()\n",
    "X_train, X_test, y_train, y_test = train_test_split(wine.data, wine.target, test_size=0.2, random_state=42)"
   ]
  },
  {
   "cell_type": "code",
   "execution_count": 31,
   "id": "1099ed63",
   "metadata": {},
   "outputs": [],
   "source": [
    "xgb = XGBClassifier(n_estimators=100, max_depth=3, learning_rate=0.1)"
   ]
  },
  {
   "cell_type": "code",
   "execution_count": 32,
   "id": "04deb4c9",
   "metadata": {},
   "outputs": [],
   "source": [
    "xgb.fit(X_train, y_train)\n",
    "predictions = xgb.predict(X_test)"
   ]
  },
  {
   "cell_type": "code",
   "execution_count": 33,
   "id": "bd178890",
   "metadata": {},
   "outputs": [
    {
     "name": "stdout",
     "output_type": "stream",
     "text": [
      "Accuracy: 0.9722222222222222\n"
     ]
    }
   ],
   "source": [
    "#Evaluating the model\n",
    "accuracy = np.mean(predictions == y_test)\n",
    "print(f\"Accuracy: {accuracy}\")"
   ]
  },
  {
   "cell_type": "code",
   "execution_count": null,
   "id": "18b4104c",
   "metadata": {},
   "outputs": [],
   "source": []
  },
  {
   "cell_type": "code",
   "execution_count": null,
   "id": "11b2945d",
   "metadata": {},
   "outputs": [],
   "source": []
  }
 ],
 "metadata": {
  "kernelspec": {
   "display_name": "Python 3 (ipykernel)",
   "language": "python",
   "name": "python3"
  },
  "language_info": {
   "codemirror_mode": {
    "name": "ipython",
    "version": 3
   },
   "file_extension": ".py",
   "mimetype": "text/x-python",
   "name": "python",
   "nbconvert_exporter": "python",
   "pygments_lexer": "ipython3",
   "version": "3.11.5"
  }
 },
 "nbformat": 4,
 "nbformat_minor": 5
}
