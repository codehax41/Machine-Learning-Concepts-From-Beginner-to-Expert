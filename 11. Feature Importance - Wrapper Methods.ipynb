{
 "cells": [
  {
   "cell_type": "code",
   "execution_count": 3,
   "id": "391d0267",
   "metadata": {},
   "outputs": [],
   "source": [
    "import numpy as np\n",
    "from sklearn.datasets import make_regression\n",
    "from sklearn.linear_model import LinearRegression\n",
    "from sklearn.feature_selection import SelectKBest, f_regression\n",
    "from itertools import combinations\n",
    "from mlxtend.feature_selection import SequentialFeatureSelector"
   ]
  },
  {
   "cell_type": "code",
   "execution_count": 4,
   "id": "05a796b9",
   "metadata": {},
   "outputs": [],
   "source": [
    "#Synthetic Data\n",
    "X, y = make_regression(n_samples=1000, n_features=10, noise=0.3, random_state=0)"
   ]
  },
  {
   "cell_type": "code",
   "execution_count": 6,
   "id": "808590c7",
   "metadata": {},
   "outputs": [
    {
     "data": {
      "text/plain": [
       "array([[-0.88718094,  0.58725938,  0.81267404, ..., -1.60183605,\n",
       "        -0.93278904, -0.51029274],\n",
       "       [-0.91798431, -0.20357067, -0.47336093, ...,  0.24622276,\n",
       "        -0.6518565 ,  0.39710624],\n",
       "       [ 0.05549223,  0.28005786,  0.4595849 , ...,  1.45580795,\n",
       "         1.4849256 , -2.08663498],\n",
       "       ...,\n",
       "       [-0.14893382,  0.62317373,  1.07784157, ..., -1.84853034,\n",
       "        -0.75127222, -0.5772585 ],\n",
       "       [ 0.93610755,  1.20169786,  0.40665709, ..., -0.48024903,\n",
       "         0.8091803 , -2.53455446],\n",
       "       [ 0.66833899, -3.39229999, -1.34550773, ...,  0.10864712,\n",
       "        -0.9531795 , -1.02370145]])"
      ]
     },
     "execution_count": 6,
     "metadata": {},
     "output_type": "execute_result"
    }
   ],
   "source": [
    "X"
   ]
  },
  {
   "cell_type": "markdown",
   "id": "b4c82bc3",
   "metadata": {},
   "source": [
    "## 1. Forward Selection Method"
   ]
  },
  {
   "cell_type": "code",
   "execution_count": 7,
   "id": "5318b040",
   "metadata": {},
   "outputs": [
    {
     "name": "stdout",
     "output_type": "stream",
     "text": [
      "Forward selection best features [3, 8, 6, 4, 0, 9, 1, 7, 5, 2]\n"
     ]
    }
   ],
   "source": [
    "best_features_forward = []\n",
    "model  = LinearRegression()\n",
    "for _ in range(X.shape[1]):\n",
    "    best_score = 0\n",
    "    best_features = None\n",
    "    for feature in range(X.shape[1]):\n",
    "        if feature in best_features_forward:\n",
    "            continue\n",
    "        selected_features = best_features_forward + [feature]\n",
    "        X_subset = X[:, selected_features]\n",
    "        model.fit(X_subset, y)\n",
    "        score = model.score(X_subset, y)\n",
    "        if score> best_score:\n",
    "            best_score = score\n",
    "            best_features = feature\n",
    "    best_features_forward.append(best_features)\n",
    "print(\"Forward selection best features\", best_features_forward)"
   ]
  },
  {
   "cell_type": "code",
   "execution_count": null,
   "id": "deed4364",
   "metadata": {},
   "outputs": [],
   "source": []
  },
  {
   "cell_type": "markdown",
   "id": "37184e43",
   "metadata": {},
   "source": [
    "## 2. Backward Elimination"
   ]
  },
  {
   "cell_type": "code",
   "execution_count": 11,
   "id": "3f165caf",
   "metadata": {},
   "outputs": [
    {
     "name": "stdout",
     "output_type": "stream",
     "text": [
      "Backward Elimination Best Features: [7]\n"
     ]
    }
   ],
   "source": [
    "selected_features = list(range(X.shape[1]))\n",
    "model = LinearRegression()\n",
    "while len(selected_features) > 1:\n",
    "    worst_score = 1\n",
    "    worst_feature = None\n",
    "    for feature in selected_features:\n",
    "        subset = selected_features.copy()\n",
    "        subset.remove(feature)\n",
    "        X_subset = X[:, subset]\n",
    "        model.fit(X_subset, y)\n",
    "        score = model.score(X_subset, y)\n",
    "        if score < worst_score:\n",
    "            worst_score = score\n",
    "            worst_feature = feature\n",
    "    selected_features.remove(worst_feature)\n",
    "print(\"Backward Elimination Best Features:\", selected_features)"
   ]
  },
  {
   "cell_type": "code",
   "execution_count": null,
   "id": "dec5eeeb",
   "metadata": {},
   "outputs": [],
   "source": []
  },
  {
   "cell_type": "markdown",
   "id": "f7313888",
   "metadata": {},
   "source": [
    "## 3. RFE"
   ]
  },
  {
   "cell_type": "code",
   "execution_count": 12,
   "id": "b930b8a8",
   "metadata": {},
   "outputs": [
    {
     "name": "stdout",
     "output_type": "stream",
     "text": [
      "RFE Best Features [3]\n"
     ]
    }
   ],
   "source": [
    "rfe = SequentialFeatureSelector(model, k_features=1, forward=False)\n",
    "rfe.fit(X, y)\n",
    "best_features_rfe = list(rfe.k_feature_idx_)\n",
    "print(\"RFE Best Features\", best_features_rfe)"
   ]
  },
  {
   "cell_type": "code",
   "execution_count": 13,
   "id": "78e33f9b",
   "metadata": {},
   "outputs": [
    {
     "name": "stdout",
     "output_type": "stream",
     "text": [
      "RFE Best Features [0, 3, 4, 6, 8]\n"
     ]
    }
   ],
   "source": [
    "rfe = SequentialFeatureSelector(model, k_features=5, forward=False)\n",
    "rfe.fit(X, y)\n",
    "best_features_rfe = list(rfe.k_feature_idx_)\n",
    "print(\"RFE Best Features\", best_features_rfe)"
   ]
  },
  {
   "cell_type": "code",
   "execution_count": null,
   "id": "64fbbe7a",
   "metadata": {},
   "outputs": [],
   "source": []
  },
  {
   "cell_type": "markdown",
   "id": "29cae0f6",
   "metadata": {},
   "source": [
    "## 4. Exhaustive Feature Selection"
   ]
  },
  {
   "cell_type": "code",
   "execution_count": 16,
   "id": "1c8575d1",
   "metadata": {},
   "outputs": [
    {
     "name": "stdout",
     "output_type": "stream",
     "text": [
      "Exhaustive Feature Selection best features: (0, 1, 2, 3, 4, 5, 6, 7, 8, 9)\n"
     ]
    }
   ],
   "source": [
    "best_score_exhaustive = 0\n",
    "best_features_exhaustive = None\n",
    "model = LinearRegression()\n",
    "for k in range(1, X.shape[1] + 1):\n",
    "    for subset in combinations(range(X.shape[1]), k):\n",
    "        X_subset = X[:, subset]\n",
    "        model.fit(X_subset, y)\n",
    "        score = model.score(X_subset, y)\n",
    "        if score > best_score_exhaustive:\n",
    "            best_score_exhaustive = score\n",
    "            best_features_exhaustive = subset\n",
    "print(\"Exhaustive Feature Selection best features:\",  best_features_exhaustive)"
   ]
  },
  {
   "cell_type": "code",
   "execution_count": null,
   "id": "eb858b6a",
   "metadata": {},
   "outputs": [],
   "source": []
  },
  {
   "cell_type": "code",
   "execution_count": null,
   "id": "a185bb4d",
   "metadata": {},
   "outputs": [],
   "source": []
  },
  {
   "cell_type": "code",
   "execution_count": null,
   "id": "063999be",
   "metadata": {},
   "outputs": [],
   "source": []
  },
  {
   "cell_type": "code",
   "execution_count": null,
   "id": "12b813fa",
   "metadata": {},
   "outputs": [],
   "source": []
  },
  {
   "cell_type": "code",
   "execution_count": null,
   "id": "21b724fc",
   "metadata": {},
   "outputs": [],
   "source": []
  },
  {
   "cell_type": "code",
   "execution_count": null,
   "id": "4bbd85c4",
   "metadata": {},
   "outputs": [],
   "source": []
  },
  {
   "cell_type": "code",
   "execution_count": null,
   "id": "39f4a84f",
   "metadata": {},
   "outputs": [],
   "source": []
  },
  {
   "cell_type": "code",
   "execution_count": null,
   "id": "3ef82125",
   "metadata": {},
   "outputs": [],
   "source": []
  }
 ],
 "metadata": {
  "kernelspec": {
   "display_name": "Python 3 (ipykernel)",
   "language": "python",
   "name": "python3"
  },
  "language_info": {
   "codemirror_mode": {
    "name": "ipython",
    "version": 3
   },
   "file_extension": ".py",
   "mimetype": "text/x-python",
   "name": "python",
   "nbconvert_exporter": "python",
   "pygments_lexer": "ipython3",
   "version": "3.11.5"
  }
 },
 "nbformat": 4,
 "nbformat_minor": 5
}
