{
 "cells": [
  {
   "cell_type": "code",
   "execution_count": 1,
   "id": "61dcb320",
   "metadata": {},
   "outputs": [],
   "source": [
    "import numpy as np\n",
    "from sklearn.datasets import load_wine\n",
    "from sklearn.model_selection import train_test_split\n",
    "from sklearn.linear_model import LogisticRegression\n",
    "from sklearn.metrics import accuracy_score"
   ]
  },
  {
   "cell_type": "code",
   "execution_count": 2,
   "id": "3e33dd84",
   "metadata": {},
   "outputs": [],
   "source": [
    "#Load wine data\n",
    "wine = load_wine()\n",
    "X = wine.data\n",
    "y = wine.target"
   ]
  },
  {
   "cell_type": "code",
   "execution_count": 3,
   "id": "8a7a684a",
   "metadata": {},
   "outputs": [
    {
     "data": {
      "text/plain": [
       "array([0, 0, 0, 0, 0, 0, 0, 0, 0, 0, 0, 0, 0, 0, 0, 0, 0, 0, 0, 0, 0, 0,\n",
       "       0, 0, 0, 0, 0, 0, 0, 0, 0, 0, 0, 0, 0, 0, 0, 0, 0, 0, 0, 0, 0, 0,\n",
       "       0, 0, 0, 0, 0, 0, 0, 0, 0, 0, 0, 0, 0, 0, 0, 1, 1, 1, 1, 1, 1, 1,\n",
       "       1, 1, 1, 1, 1, 1, 1, 1, 1, 1, 1, 1, 1, 1, 1, 1, 1, 1, 1, 1, 1, 1,\n",
       "       1, 1, 1, 1, 1, 1, 1, 1, 1, 1, 1, 1, 1, 1, 1, 1, 1, 1, 1, 1, 1, 1,\n",
       "       1, 1, 1, 1, 1, 1, 1, 1, 1, 1, 1, 1, 1, 1, 1, 1, 1, 1, 1, 1, 2, 2,\n",
       "       2, 2, 2, 2, 2, 2, 2, 2, 2, 2, 2, 2, 2, 2, 2, 2, 2, 2, 2, 2, 2, 2,\n",
       "       2, 2, 2, 2, 2, 2, 2, 2, 2, 2, 2, 2, 2, 2, 2, 2, 2, 2, 2, 2, 2, 2,\n",
       "       2, 2])"
      ]
     },
     "execution_count": 3,
     "metadata": {},
     "output_type": "execute_result"
    }
   ],
   "source": [
    "y"
   ]
  },
  {
   "cell_type": "code",
   "execution_count": 4,
   "id": "2cea8469",
   "metadata": {},
   "outputs": [],
   "source": [
    "X_train, X_test, y_train, y_test = train_test_split(X, y, test_size=.2, random_state=42)"
   ]
  },
  {
   "cell_type": "markdown",
   "id": "9bac8ee8",
   "metadata": {},
   "source": [
    "## 1st method: Multinomial/Softmax"
   ]
  },
  {
   "cell_type": "code",
   "execution_count": 5,
   "id": "29424b9d",
   "metadata": {},
   "outputs": [],
   "source": [
    "multi_lr = LogisticRegression(solver='lbfgs', multi_class='multinomial', max_iter=10000)\n",
    "multi_lr.fit(X_train, y_train)\n",
    "y_pred_multi_lr = multi_lr.predict(X_test)\n",
    "accuracy_score_multi_lr = accuracy_score(y_test, y_pred_multi_lr)"
   ]
  },
  {
   "cell_type": "code",
   "execution_count": null,
   "id": "dbeae734",
   "metadata": {},
   "outputs": [],
   "source": []
  },
  {
   "cell_type": "markdown",
   "id": "ac98dabe",
   "metadata": {},
   "source": [
    "## 2nd method: One vs Rest"
   ]
  },
  {
   "cell_type": "code",
   "execution_count": 8,
   "id": "76d8d670",
   "metadata": {},
   "outputs": [],
   "source": [
    "ovr_lr = LogisticRegression(solver='lbfgs', multi_class='ovr', max_iter=10000)\n",
    "ovr_lr.fit(X_train, y_train)\n",
    "y_pred_ovr_lr = ovr_lr.predict(X_test)\n",
    "accuracy_score_ovr_lr = accuracy_score(y_test, y_pred_ovr_lr)"
   ]
  },
  {
   "cell_type": "code",
   "execution_count": null,
   "id": "d349d10d",
   "metadata": {},
   "outputs": [],
   "source": []
  },
  {
   "cell_type": "markdown",
   "id": "22c4d2d5",
   "metadata": {},
   "source": [
    "## 3nd method: Auto"
   ]
  },
  {
   "cell_type": "code",
   "execution_count": 6,
   "id": "2665fd83",
   "metadata": {},
   "outputs": [],
   "source": [
    "auto_lr = LogisticRegression(solver='lbfgs', multi_class='auto', max_iter=10000)\n",
    "auto_lr.fit(X_train, y_train)\n",
    "y_pred_auto_lr = auto_lr.predict(X_test)\n",
    "accuracy_score_auto_lr = accuracy_score(y_test, y_pred_auto_lr)"
   ]
  },
  {
   "cell_type": "code",
   "execution_count": null,
   "id": "c9b4fabb",
   "metadata": {},
   "outputs": [],
   "source": []
  },
  {
   "cell_type": "code",
   "execution_count": 9,
   "id": "d065099f",
   "metadata": {},
   "outputs": [
    {
     "name": "stdout",
     "output_type": "stream",
     "text": [
      "Accuracy Multinomial/Softmax Method 1.0\n",
      "Accuracy OvR Method 1.0\n",
      "Accuracy Auto Method 1.0\n"
     ]
    }
   ],
   "source": [
    "print(\"Accuracy Multinomial/Softmax Method\", accuracy_score_multi_lr)\n",
    "print(\"Accuracy OvR Method\", accuracy_score_ovr_lr)\n",
    "print(\"Accuracy Auto Method\", accuracy_score_auto_lr)"
   ]
  },
  {
   "cell_type": "code",
   "execution_count": null,
   "id": "374d0506",
   "metadata": {},
   "outputs": [],
   "source": []
  },
  {
   "cell_type": "code",
   "execution_count": null,
   "id": "00e33107",
   "metadata": {},
   "outputs": [],
   "source": []
  },
  {
   "cell_type": "code",
   "execution_count": null,
   "id": "529a534e",
   "metadata": {},
   "outputs": [],
   "source": []
  },
  {
   "cell_type": "code",
   "execution_count": null,
   "id": "06d48cc0",
   "metadata": {},
   "outputs": [],
   "source": []
  },
  {
   "cell_type": "code",
   "execution_count": null,
   "id": "58a012da",
   "metadata": {},
   "outputs": [],
   "source": []
  }
 ],
 "metadata": {
  "kernelspec": {
   "display_name": "Python 3 (ipykernel)",
   "language": "python",
   "name": "python3"
  },
  "language_info": {
   "codemirror_mode": {
    "name": "ipython",
    "version": 3
   },
   "file_extension": ".py",
   "mimetype": "text/x-python",
   "name": "python",
   "nbconvert_exporter": "python",
   "pygments_lexer": "ipython3",
   "version": "3.11.5"
  }
 },
 "nbformat": 4,
 "nbformat_minor": 5
}
