{
 "cells": [
  {
   "cell_type": "code",
   "execution_count": 1,
   "id": "498f92f6",
   "metadata": {},
   "outputs": [],
   "source": [
    "import numpy as np\n",
    "import time"
   ]
  },
  {
   "cell_type": "code",
   "execution_count": 2,
   "id": "8e2bfb6d",
   "metadata": {},
   "outputs": [],
   "source": [
    "def generate_synthetic_data():\n",
    "    X = np.random.randn(100, 2)\n",
    "    y = 1 + 2 * X[:, 0] + 3*X[:, 1]\n",
    "    return X, y"
   ]
  },
  {
   "cell_type": "code",
   "execution_count": 3,
   "id": "feddd95a",
   "metadata": {},
   "outputs": [],
   "source": [
    "def calculating_mse(predictions, y):\n",
    "    mse = np.mean((predictions - y)**2)\n",
    "    return mse"
   ]
  },
  {
   "cell_type": "code",
   "execution_count": 4,
   "id": "74e87864",
   "metadata": {},
   "outputs": [],
   "source": [
    "def batch_gradient_decent(X, y, learning_rate, epochs):\n",
    "    m, n = X.shape\n",
    "    theta = np.zeros(n)\n",
    "    start_time = time.time()\n",
    "    for epochs in range(epochs):\n",
    "        predictions = X.dot(theta)\n",
    "        errors = predictions - y\n",
    "        gradient = (1/m) * X.T.dot(errors)\n",
    "        theta -= learning_rate * gradient\n",
    "    end_time = time.time()\n",
    "    train_time = end_time - start_time\n",
    "    return theta, train_time"
   ]
  },
  {
   "cell_type": "code",
   "execution_count": 5,
   "id": "53f6e4bc",
   "metadata": {},
   "outputs": [],
   "source": [
    "def stochastic_gradient_decent(X, y, learning_rate, epochs):\n",
    "    m, n = X.shape\n",
    "    theta = np.zeros(n)\n",
    "    start_time = time.time()\n",
    "    for epochs in range(epochs):\n",
    "        for i in range(m):\n",
    "            predictions = X[i, :].dot(theta)\n",
    "            error = predictions - y[i]\n",
    "            gradient = (1/m) * X[i, :].T.dot(error)\n",
    "            theta -= learning_rate * gradient\n",
    "    end_time = time.time()\n",
    "    train_time = end_time - start_time\n",
    "    return theta, train_time"
   ]
  },
  {
   "cell_type": "code",
   "execution_count": 6,
   "id": "3aebddbb",
   "metadata": {},
   "outputs": [],
   "source": [
    "def mini_batch_gradient_decent(X, y, learning_rate, epochs, batch_size):\n",
    "    m, n = X.shape\n",
    "    theta = np.zeros(n)\n",
    "    start_time = time.time()\n",
    "    for epoch in range(epochs):\n",
    "        for i in range(0, m, batch_size):\n",
    "            batch_X = X[i:i +batch_size, :]\n",
    "            batch_y = y[i:i +batch_size]\n",
    "            predictions = batch_X.dot(theta)\n",
    "            errors = predictions - batch_y\n",
    "            gradient = (1/batch_size) * batch_X.T.dot(errors)\n",
    "            theta -= learning_rate * gradient\n",
    "    end_time = time.time()\n",
    "    train_time = end_time - start_time\n",
    "    return theta, train_time"
   ]
  },
  {
   "cell_type": "code",
   "execution_count": 7,
   "id": "827b4747",
   "metadata": {},
   "outputs": [],
   "source": [
    "def main():\n",
    "    X, y = generate_synthetic_data()\n",
    "    theta_batch, training_time_batch = batch_gradient_decent(X, y, learning_rate=0.01, epochs=1000)\n",
    "    mse_batch = calculating_mse(X.dot(theta_batch,), y)\n",
    "    \n",
    "    theta_stochastic, training_time_stoch = stochastic_gradient_decent(X, y, learning_rate=0.01, epochs=1000)\n",
    "    mse_stoch = calculating_mse(X.dot(theta_stochastic,), y)\n",
    "    \n",
    "    theta_mini_batch, training_time_mini_batch = mini_batch_gradient_decent(X, y, learning_rate=0.01, epochs=1000, batch_size = 16)\n",
    "    mse_mini_batch = calculating_mse(X.dot(theta_mini_batch,), y)\n",
    "    \n",
    "    print(\"Gradient Decent Method      | MSE |     Training Time (sec)\")\n",
    "    print(\"Batch GD                    | {}  |          {}            \".format(mse_batch, training_time_batch))\n",
    "    print(\"Stochastic GD                    | {}  |          {}            \".format(mse_stoch, training_time_stoch))\n",
    "    print(\"Mini Batch GD                    | {}  |          {}            \".format(mse_mini_batch, training_time_mini_batch))"
   ]
  },
  {
   "cell_type": "code",
   "execution_count": 8,
   "id": "a06c47f1",
   "metadata": {},
   "outputs": [
    {
     "name": "stdout",
     "output_type": "stream",
     "text": [
      "Gradient Decent Method      | MSE |     Training Time (sec)\n",
      "Batch GD                    | 0.9727138615974852  |          0.0050580501556396484            \n",
      "Stochastic GD                    | 0.9727140423228863  |          0.45127034187316895            \n",
      "Mini Batch GD                    | 0.9727162457652786  |          0.03677535057067871            \n"
     ]
    }
   ],
   "source": [
    "if __name__ == \"__main__\":\n",
    "    main()"
   ]
  },
  {
   "cell_type": "code",
   "execution_count": null,
   "id": "dd9d3dc5",
   "metadata": {},
   "outputs": [],
   "source": []
  },
  {
   "cell_type": "code",
   "execution_count": null,
   "id": "4c95075e",
   "metadata": {},
   "outputs": [],
   "source": []
  },
  {
   "cell_type": "markdown",
   "id": "361ba884",
   "metadata": {},
   "source": [
    "## using SKlearn"
   ]
  },
  {
   "cell_type": "code",
   "execution_count": 1,
   "id": "fe799b80",
   "metadata": {},
   "outputs": [],
   "source": [
    "import numpy as np\n",
    "from sklearn.datasets import make_regression\n",
    "from sklearn.linear_model import SGDRegressor"
   ]
  },
  {
   "cell_type": "code",
   "execution_count": 2,
   "id": "12cde891",
   "metadata": {},
   "outputs": [],
   "source": [
    "#Synthetic dataset\n",
    "X, y = make_regression(n_samples = 1000, n_features=5, noise = 0.2, random_state=2)"
   ]
  },
  {
   "cell_type": "code",
   "execution_count": 3,
   "id": "24e706f5",
   "metadata": {},
   "outputs": [],
   "source": [
    "y = y.reshape(-1)"
   ]
  },
  {
   "cell_type": "code",
   "execution_count": 4,
   "id": "e6a0f85d",
   "metadata": {},
   "outputs": [],
   "source": [
    "#Batch GD\n",
    "batch_gd = SGDRegressor(learning_rate='constant', eta0 = 0.01, max_iter = 100, penalty = None)\n",
    "batch_gd.fit(X,y)\n",
    "batch_gd_coef = batch_gd.coef_\n",
    "batch_dg_intercept = batch_gd.intercept_"
   ]
  },
  {
   "cell_type": "code",
   "execution_count": 5,
   "id": "8fc210bb",
   "metadata": {},
   "outputs": [],
   "source": [
    "#Stochastic GD\n",
    "sgd_gd = SGDRegressor(learning_rate='constant', eta0 = 0.01, max_iter = 100, penalty = None, shuffle=True)\n",
    "sgd_gd.fit(X,y)\n",
    "sgd_gd_coef = sgd_gd.coef_\n",
    "sgd_dg_intercept = sgd_gd.intercept_"
   ]
  },
  {
   "cell_type": "code",
   "execution_count": 6,
   "id": "771f84d1",
   "metadata": {},
   "outputs": [],
   "source": [
    "#Mini Batch GD\n",
    "mini_batch_gd = SGDRegressor(learning_rate='constant', eta0 = 0.01, max_iter = 100, penalty = None, shuffle=True, average=True)\n",
    "mini_batch_gd.fit(X,y)\n",
    "mini_batch_gd_coef = mini_batch_gd.coef_\n",
    "mini_batch_dg_intercept = mini_batch_gd.intercept_"
   ]
  },
  {
   "cell_type": "code",
   "execution_count": 7,
   "id": "15da72d6",
   "metadata": {},
   "outputs": [
    {
     "name": "stdout",
     "output_type": "stream",
     "text": [
      "Batch GD\n",
      "Coefficient [58.43152709 61.03051627 55.24939478 91.7721952  20.97079464]\n",
      "Intercept [-0.00287888]\n"
     ]
    }
   ],
   "source": [
    "print(\"Batch GD\")\n",
    "print(\"Coefficient\", batch_gd_coef)\n",
    "print(\"Intercept\", batch_dg_intercept)"
   ]
  },
  {
   "cell_type": "code",
   "execution_count": 8,
   "id": "dd6fd390",
   "metadata": {},
   "outputs": [
    {
     "name": "stdout",
     "output_type": "stream",
     "text": [
      "Stochastic GD\n",
      "Coefficient [58.42854908 61.04310667 55.21799773 91.78369602 20.95509972]\n",
      "Intercept [-0.01290805]\n"
     ]
    }
   ],
   "source": [
    "print(\"Stochastic GD\")\n",
    "print(\"Coefficient\", sgd_gd_coef)\n",
    "print(\"Intercept\", sgd_dg_intercept)"
   ]
  },
  {
   "cell_type": "code",
   "execution_count": 9,
   "id": "1b1c3b66",
   "metadata": {},
   "outputs": [
    {
     "name": "stdout",
     "output_type": "stream",
     "text": [
      "Mini Batch GD\n",
      "Coefficient [57.46804705 60.21223582 54.23121625 90.57071855 20.50637689]\n",
      "Intercept [-0.06860011]\n"
     ]
    }
   ],
   "source": [
    "print(\"Mini Batch GD\")\n",
    "print(\"Coefficient\", mini_batch_gd_coef)\n",
    "print(\"Intercept\", mini_batch_dg_intercept)"
   ]
  },
  {
   "cell_type": "code",
   "execution_count": null,
   "id": "d1c1c662",
   "metadata": {},
   "outputs": [],
   "source": []
  },
  {
   "cell_type": "code",
   "execution_count": null,
   "id": "ad160de0",
   "metadata": {},
   "outputs": [],
   "source": []
  },
  {
   "cell_type": "code",
   "execution_count": null,
   "id": "a69cfbe1",
   "metadata": {},
   "outputs": [],
   "source": []
  },
  {
   "cell_type": "code",
   "execution_count": null,
   "id": "d5c0aaf3",
   "metadata": {},
   "outputs": [],
   "source": []
  },
  {
   "cell_type": "code",
   "execution_count": null,
   "id": "6292b328",
   "metadata": {},
   "outputs": [],
   "source": []
  },
  {
   "cell_type": "code",
   "execution_count": null,
   "id": "b7a1ea57",
   "metadata": {},
   "outputs": [],
   "source": []
  },
  {
   "cell_type": "code",
   "execution_count": null,
   "id": "2969cae0",
   "metadata": {},
   "outputs": [],
   "source": []
  },
  {
   "cell_type": "code",
   "execution_count": null,
   "id": "0590d1fc",
   "metadata": {},
   "outputs": [],
   "source": []
  }
 ],
 "metadata": {
  "kernelspec": {
   "display_name": "Python 3 (ipykernel)",
   "language": "python",
   "name": "python3"
  },
  "language_info": {
   "codemirror_mode": {
    "name": "ipython",
    "version": 3
   },
   "file_extension": ".py",
   "mimetype": "text/x-python",
   "name": "python",
   "nbconvert_exporter": "python",
   "pygments_lexer": "ipython3",
   "version": "3.11.5"
  }
 },
 "nbformat": 4,
 "nbformat_minor": 5
}
