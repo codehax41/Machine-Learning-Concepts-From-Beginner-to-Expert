{
 "cells": [
  {
   "cell_type": "markdown",
   "id": "64024fb0",
   "metadata": {},
   "source": [
    "# 1. using Numpy"
   ]
  },
  {
   "cell_type": "code",
   "execution_count": 1,
   "id": "d7a3d585",
   "metadata": {},
   "outputs": [],
   "source": [
    "import numpy as np\n",
    "import matplotlib.pyplot as plt"
   ]
  },
  {
   "cell_type": "code",
   "execution_count": 17,
   "id": "5b67f250",
   "metadata": {},
   "outputs": [],
   "source": [
    "#Function to generate synthetic data with 2 clusters\n",
    "def generate_synthetic_data():\n",
    "    np.random.seed(0)\n",
    "    #Cluster 1\n",
    "    cluster_1 = np.random.randn(100,2) + np.array([5,5])\n",
    "    #Cluster 2\n",
    "    cluster_2 = np.random.randn(100,2) + np.array([-5,-5])\n",
    "    #Combine the clusters\n",
    "    data = np.vstack([cluster_1, cluster_2])\n",
    "    return data"
   ]
  },
  {
   "cell_type": "code",
   "execution_count": 4,
   "id": "10a879af",
   "metadata": {},
   "outputs": [],
   "source": [
    "#Funcion to initialize centroids\n",
    "def initialize_centroid(data, k):\n",
    "    indices = np.random.choice(len(data), k, replace=False)\n",
    "    centroid = data[indices]\n",
    "    return centroid"
   ]
  },
  {
   "cell_type": "code",
   "execution_count": 6,
   "id": "b7218f00",
   "metadata": {},
   "outputs": [],
   "source": [
    "#Function to assign each data points to the nearest centroid\n",
    "def assign_to_cluster(data, centroid):\n",
    "    distances = np.linalg.norm(data[:, None, :] - centroid, axis=2)\n",
    "    labels = np.argmin(distances, axis=1)\n",
    "    return labels"
   ]
  },
  {
   "cell_type": "code",
   "execution_count": 7,
   "id": "c5526106",
   "metadata": {},
   "outputs": [],
   "source": [
    "#Function to update centroid based on the mean of ponts in each cluster\n",
    "def update_centroids(data, labels, k):\n",
    "    centroids = np.array([data[labels == i].mean(axis=0) for i in range(k)])\n",
    "    return centroids"
   ]
  },
  {
   "cell_type": "code",
   "execution_count": 8,
   "id": "0d598594",
   "metadata": {},
   "outputs": [],
   "source": [
    "def has_converged(old_centroid, centroid, tol=1e-4):\n",
    "    return np.linalg.norm(old_centroid - centroid) < tol"
   ]
  },
  {
   "cell_type": "code",
   "execution_count": 13,
   "id": "c0dd0c00",
   "metadata": {},
   "outputs": [],
   "source": [
    "def k_mean_clustering(data, k):\n",
    "    #Initialize centroids\n",
    "    centroids = initialize_centroid(data, k)\n",
    "    \n",
    "    while True:\n",
    "        #Assign each data points to the nearest centroid\n",
    "        labels = assign_to_cluster(data, centroids)\n",
    "        \n",
    "        #Store old centroid for convergence check\n",
    "        old_centroid = centroids.copy()\n",
    "        \n",
    "        #Update the centroid based on mean of points in each cluster\n",
    "        centroids = update_centroids(data, labels, k)\n",
    "        \n",
    "        #Check for convergence\n",
    "        if has_converged(old_centroid, centroids):\n",
    "            break\n",
    "    return labels, centroids"
   ]
  },
  {
   "cell_type": "code",
   "execution_count": 18,
   "id": "b327b1fc",
   "metadata": {},
   "outputs": [],
   "source": [
    "data = generate_synthetic_data()"
   ]
  },
  {
   "cell_type": "code",
   "execution_count": 19,
   "id": "3d2ecf63",
   "metadata": {},
   "outputs": [
    {
     "data": {
      "text/plain": [
       "array([[ 6.76405235,  5.40015721],\n",
       "       [ 5.97873798,  7.2408932 ],\n",
       "       [ 6.86755799,  4.02272212],\n",
       "       [ 5.95008842,  4.84864279],\n",
       "       [ 4.89678115,  5.4105985 ],\n",
       "       [ 5.14404357,  6.45427351],\n",
       "       [ 5.76103773,  5.12167502],\n",
       "       [ 5.44386323,  5.33367433],\n",
       "       [ 6.49407907,  4.79484174],\n",
       "       [ 5.3130677 ,  4.14590426],\n",
       "       [ 2.44701018,  5.6536186 ],\n",
       "       [ 5.8644362 ,  4.25783498],\n",
       "       [ 7.26975462,  3.54563433],\n",
       "       [ 5.04575852,  4.81281615],\n",
       "       [ 6.53277921,  6.46935877],\n",
       "       [ 5.15494743,  5.37816252],\n",
       "       [ 4.11221425,  3.01920353],\n",
       "       [ 4.65208785,  5.15634897],\n",
       "       [ 6.23029068,  6.20237985],\n",
       "       [ 4.61267318,  4.69769725],\n",
       "       [ 3.95144703,  3.57998206],\n",
       "       [ 3.29372981,  6.9507754 ],\n",
       "       [ 4.49034782,  4.5619257 ],\n",
       "       [ 3.74720464,  5.77749036],\n",
       "       [ 3.38610215,  4.78725972],\n",
       "       [ 4.10453344,  5.3869025 ],\n",
       "       [ 4.48919486,  3.81936782],\n",
       "       [ 4.97181777,  5.42833187],\n",
       "       [ 5.06651722,  5.3024719 ],\n",
       "       [ 4.36567791,  4.63725883],\n",
       "       [ 4.32753955,  4.64044684],\n",
       "       [ 4.18685372,  3.2737174 ],\n",
       "       [ 5.17742614,  4.59821906],\n",
       "       [ 3.36980165,  5.46278226],\n",
       "       [ 4.09270164,  5.0519454 ],\n",
       "       [ 5.72909056,  5.12898291],\n",
       "       [ 6.13940068,  3.76517418],\n",
       "       [ 5.40234164,  4.31518991],\n",
       "       [ 4.12920285,  4.42115034],\n",
       "       [ 4.68844747,  5.05616534],\n",
       "       [ 3.83485016,  5.90082649],\n",
       "       [ 5.46566244,  3.46375631],\n",
       "       [ 6.48825219,  6.89588918],\n",
       "       [ 6.17877957,  4.82007516],\n",
       "       [ 3.92924738,  6.05445173],\n",
       "       [ 4.59682305,  6.22244507],\n",
       "       [ 5.20827498,  5.97663904],\n",
       "       [ 5.3563664 ,  5.70657317],\n",
       "       [ 5.01050002,  6.78587049],\n",
       "       [ 5.12691209,  5.40198936],\n",
       "       [ 6.8831507 ,  3.65224094],\n",
       "       [ 3.729515  ,  5.96939671],\n",
       "       [ 3.82687659,  6.94362119],\n",
       "       [ 4.58638102,  4.25254519],\n",
       "       [ 6.92294203,  6.48051479],\n",
       "       [ 6.86755896,  5.90604466],\n",
       "       [ 4.13877431,  6.91006495],\n",
       "       [ 4.73199663,  5.8024564 ],\n",
       "       [ 5.94725197,  4.84498991],\n",
       "       [ 5.61407937,  5.92220667],\n",
       "       [ 5.37642553,  3.90059921],\n",
       "       [ 5.29823817,  6.3263859 ],\n",
       "       [ 4.30543214,  4.85036546],\n",
       "       [ 4.56484645,  6.84926373],\n",
       "       [ 5.67229476,  5.40746184],\n",
       "       [ 4.23008393,  5.53924919],\n",
       "       [ 4.32566734,  5.03183056],\n",
       "       [ 4.36415392,  5.67643329],\n",
       "       [ 5.57659082,  4.79170124],\n",
       "       [ 5.39600671,  3.90693849],\n",
       "       [ 3.50874241,  5.4393917 ],\n",
       "       [ 5.1666735 ,  5.63503144],\n",
       "       [ 7.38314477,  5.94447949],\n",
       "       [ 4.08717777,  6.11701629],\n",
       "       [ 3.68409259,  4.5384154 ],\n",
       "       [ 4.93175839,  6.71334272],\n",
       "       [ 4.25524518,  4.17356146],\n",
       "       [ 4.90154748,  4.33652171],\n",
       "       [ 6.12663592,  3.92006849],\n",
       "       [ 3.85253135,  4.56217996],\n",
       "       [ 4.50196755,  6.92953205],\n",
       "       [ 5.94942081,  5.08755124],\n",
       "       [ 3.77456448,  5.84436298],\n",
       "       [ 3.99978465,  3.4552289 ],\n",
       "       [ 6.18802979,  5.31694261],\n",
       "       [ 5.92085882,  5.31872765],\n",
       "       [ 5.85683061,  4.34897441],\n",
       "       [ 3.96575716,  5.68159452],\n",
       "       [ 4.19659034,  4.31045022],\n",
       "       [ 4.5444675 ,  5.01747916],\n",
       "       [ 4.64600609,  3.62504871],\n",
       "       [ 4.3563816 ,  2.77659685],\n",
       "       [ 5.62523145,  3.39794234],\n",
       "       [ 3.89561666,  5.05216508],\n",
       "       [ 4.260437  ,  6.5430146 ],\n",
       "       [ 3.70714309,  5.26705087],\n",
       "       [ 4.96071718,  3.8319065 ],\n",
       "       [ 5.52327666,  4.82845367],\n",
       "       [ 5.77179055,  5.82350415],\n",
       "       [ 7.16323595,  6.33652795],\n",
       "       [-5.36918184, -5.23937918],\n",
       "       [-3.9003404 , -4.34473627],\n",
       "       [-4.35986847, -6.61695604],\n",
       "       [-5.02432612, -5.73803091],\n",
       "       [-4.7200754 , -5.09815039],\n",
       "       [-4.08982109, -4.68278178],\n",
       "       [-4.21367204, -5.4664191 ],\n",
       "       [-5.94444626, -5.41004969],\n",
       "       [-5.01702041, -4.62084826],\n",
       "       [-2.74069105, -5.04225715],\n",
       "       [-5.955945  , -5.34598178],\n",
       "       [-5.46359597, -4.51851853],\n",
       "       [-6.54079701, -4.93673801],\n",
       "       [-4.84349346, -4.76781896],\n",
       "       [-5.59731607, -5.23792173],\n",
       "       [-6.42406091, -5.49331988],\n",
       "       [-5.54286148, -4.58394995],\n",
       "       [-6.15618243, -4.2188019 ],\n",
       "       [-3.50551546, -7.06998503],\n",
       "       [-4.57374127, -4.32309196],\n",
       "       [-5.63743703, -5.39727181],\n",
       "       [-5.13288058, -5.29779088],\n",
       "       [-5.30901297, -6.67600381],\n",
       "       [-3.84766844, -3.92038141],\n",
       "       [-5.81336426, -6.46642433],\n",
       "       [-4.47893512, -5.57578797],\n",
       "       [-4.85804684, -5.31932842],\n",
       "       [-4.30846125, -4.30525086],\n",
       "       [-5.72559738, -6.38336396],\n",
       "       [-6.5829384 , -4.38962062],\n",
       "       [-6.18885926, -5.50681635],\n",
       "       [-5.59631404, -5.0525673 ],\n",
       "       [-6.93627981, -4.8112214 ],\n",
       "       [-4.47610898, -4.91157791],\n",
       "       [-5.31088617, -4.90259983],\n",
       "       [-4.60095365, -7.77259276],\n",
       "       [-3.04408769, -4.60990668],\n",
       "       [-5.65240858, -5.39095338],\n",
       "       [-4.50625822, -5.11610394],\n",
       "       [-7.03068447, -2.93550714],\n",
       "       [-5.11054066, -3.97982729],\n",
       "       [-5.69204985, -3.46362295],\n",
       "       [-4.71365631, -4.39115617],\n",
       "       [-6.04525337, -3.78885471],\n",
       "       [-4.31018184, -3.69815377],\n",
       "       [-5.62808756, -5.48102712],\n",
       "       [-2.6960833 , -6.06001582],\n",
       "       [-5.1359497 , -3.86310864],\n",
       "       [-4.90227503, -4.41704632],\n",
       "       [-5.39944903, -4.62994411],\n",
       "       [-6.30652685, -3.34186932],\n",
       "       [-5.11816405, -5.6801782 ],\n",
       "       [-4.33361692, -5.46071979],\n",
       "       [-6.33425847, -6.34671751],\n",
       "       [-4.30622685, -5.15957344],\n",
       "       [-5.13370156, -3.92225619],\n",
       "       [-6.12682581, -5.73067775],\n",
       "       [-5.38487981, -4.90564841],\n",
       "       [-5.04217145, -5.28688719],\n",
       "       [-5.0616264 , -5.10730528],\n",
       "       [-5.71960439, -5.81299299],\n",
       "       [-4.72548364, -5.89091508],\n",
       "       [-6.15735526, -5.31229225],\n",
       "       [-5.15766702, -2.7432765 ],\n",
       "       [-5.70470028, -4.05673928],\n",
       "       [-4.25281167, -6.18894496],\n",
       "       [-4.22674702, -6.18388064],\n",
       "       [-7.65917224, -4.39368048],\n",
       "       [-6.75589058, -4.54906554],\n",
       "       [-5.6840109 , -3.3404492 ],\n",
       "       [-3.9314906 , -5.4533858 ],\n",
       "       [-5.68783761, -6.2140774 ],\n",
       "       [-5.44092263, -5.2803555 ],\n",
       "       [-5.36469354, -4.84329614],\n",
       "       [-4.4214785 , -4.65034554],\n",
       "       [-5.76414392, -6.43779147],\n",
       "       [-3.63546815, -5.68944918],\n",
       "       [-5.6522936 , -5.52118931],\n",
       "       [-6.84306955, -5.477974  ],\n",
       "       [-5.47965581, -4.3796417 ],\n",
       "       [-4.30154285, -4.99622911],\n",
       "       [-4.06815163, -4.66003502],\n",
       "       [-5.01568211, -4.83907183],\n",
       "       [-5.19065349, -5.39484951],\n",
       "       [-5.26773354, -6.12801133],\n",
       "       [-4.71955829, -5.99312361],\n",
       "       [-4.15836874, -5.24945858],\n",
       "       [-4.95050502, -4.50616322],\n",
       "       [-4.35668553, -6.57062341],\n",
       "       [-5.20690368, -4.11982109],\n",
       "       [-6.69810582, -4.61271952],\n",
       "       [-7.25556423, -6.02250684],\n",
       "       [-4.96136945, -6.6567151 ],\n",
       "       [-5.98551074, -6.47183501],\n",
       "       [-3.35186507, -4.83577224],\n",
       "       [-4.43270972, -5.2226751 ],\n",
       "       [-5.35343175, -6.61647419],\n",
       "       [-5.29183736, -5.76149221],\n",
       "       [-4.14207608, -3.85889813],\n",
       "       [-3.53342128, -4.14744806]])"
      ]
     },
     "execution_count": 19,
     "metadata": {},
     "output_type": "execute_result"
    }
   ],
   "source": [
    "data"
   ]
  },
  {
   "cell_type": "code",
   "execution_count": 20,
   "id": "d3913b95",
   "metadata": {},
   "outputs": [],
   "source": [
    "k = 2\n",
    "labels, centroid = k_mean_clustering(data, k)"
   ]
  },
  {
   "cell_type": "code",
   "execution_count": 21,
   "id": "26717ac4",
   "metadata": {},
   "outputs": [
    {
     "data": {
      "image/png": "[encoded data removed]",
      "text/plain": [
       "<Figure size 640x480 with 1 Axes>"
      ]
     },
     "metadata": {},
     "output_type": "display_data"
    }
   ],
   "source": [
    "#Plot the results\n",
    "plt.scatter(data[:, 0], data[:, 1], c=labels, cmap='viridis', s=50)\n",
    "plt.scatter(centroid[:, 0], centroid[:, 1], marker = \"X\", c='red', label='Centroids', s=200)\n",
    "plt.title('K-Mean Clustering')\n",
    "plt.legend()\n",
    "plt.show()"
   ]
  },
  {
   "cell_type": "code",
   "execution_count": null,
   "id": "7700ae3e",
   "metadata": {},
   "outputs": [],
   "source": []
  },
  {
   "cell_type": "markdown",
   "id": "7a07371a",
   "metadata": {},
   "source": [
    "# 2. using Sklearn"
   ]
  },
  {
   "cell_type": "code",
   "execution_count": 24,
   "id": "34f7e4cf",
   "metadata": {},
   "outputs": [],
   "source": [
    "import numpy as np\n",
    "import matplotlib.pyplot as plt\n",
    "from sklearn.cluster import KMeans"
   ]
  },
  {
   "cell_type": "code",
   "execution_count": 25,
   "id": "f79a6625",
   "metadata": {},
   "outputs": [],
   "source": [
    "#Function to generate synthetic data with 2 clusters\n",
    "def generate_synthetic_data():\n",
    "    np.random.seed(0)\n",
    "    #Cluster 1\n",
    "    cluster_1 = np.random.randn(100,2) + np.array([5,5])\n",
    "    #Cluster 2\n",
    "    cluster_2 = np.random.randn(100,2) + np.array([-5,-5])\n",
    "    #Combine the clusters\n",
    "    data = np.vstack([cluster_1, cluster_2])\n",
    "    return data"
   ]
  },
  {
   "cell_type": "code",
   "execution_count": 26,
   "id": "bb08f016",
   "metadata": {},
   "outputs": [],
   "source": [
    "data = generate_synthetic_data()"
   ]
  },
  {
   "cell_type": "code",
   "execution_count": 27,
   "id": "578553c6",
   "metadata": {},
   "outputs": [
    {
     "name": "stderr",
     "output_type": "stream",
     "text": [
      "C:\\Users\\ramsu\\anaconda3\\Lib\\site-packages\\sklearn\\cluster\\_kmeans.py:1412: FutureWarning: The default value of `n_init` will change from 10 to 'auto' in 1.4. Set the value of `n_init` explicitly to suppress the warning\n",
      "  super()._check_params_vs_input(X, default_n_init=10)\n",
      "C:\\Users\\ramsu\\anaconda3\\Lib\\site-packages\\sklearn\\cluster\\_kmeans.py:1436: UserWarning: KMeans is known to have a memory leak on Windows with MKL, when there are less chunks than available threads. You can avoid it by setting the environment variable OMP_NUM_THREADS=1.\n",
      "  warnings.warn(\n"
     ]
    }
   ],
   "source": [
    "k = 2\n",
    "kmeans = KMeans(n_clusters=k, random_state=0)\n",
    "labels = kmeans.fit_predict(data)\n",
    "centroid = kmeans.cluster_centers_"
   ]
  },
  {
   "cell_type": "code",
   "execution_count": 28,
   "id": "8aa24d4f",
   "metadata": {},
   "outputs": [
    {
     "data": {
      "image/png": "[encoded data removed]",
      "text/plain": [
       "<Figure size 640x480 with 1 Axes>"
      ]
     },
     "metadata": {},
     "output_type": "display_data"
    }
   ],
   "source": [
    "#Plot the results\n",
    "plt.scatter(data[:, 0], data[:, 1], c=labels, cmap='viridis', s=50)\n",
    "plt.scatter(centroid[:, 0], centroid[:, 1], marker = \"X\", c='red', label='Centroids', s=200)\n",
    "plt.title('K-Mean Clustering using SKlearn method')\n",
    "plt.legend()\n",
    "plt.show()"
   ]
  },
  {
   "cell_type": "code",
   "execution_count": null,
   "id": "cd102e9b",
   "metadata": {},
   "outputs": [],
   "source": []
  },
  {
   "cell_type": "code",
   "execution_count": null,
   "id": "6259ac1d",
   "metadata": {},
   "outputs": [],
   "source": []
  },
  {
   "cell_type": "code",
   "execution_count": null,
   "id": "deff6291",
   "metadata": {},
   "outputs": [],
   "source": []
  },
  {
   "cell_type": "code",
   "execution_count": null,
   "id": "4979bae4",
   "metadata": {},
   "outputs": [],
   "source": []
  },
  {
   "cell_type": "code",
   "execution_count": null,
   "id": "70f85c85",
   "metadata": {},
   "outputs": [],
   "source": []
  },
  {
   "cell_type": "code",
   "execution_count": null,
   "id": "5717fa17",
   "metadata": {},
   "outputs": [],
   "source": []
  },
  {
   "cell_type": "code",
   "execution_count": null,
   "id": "1d84fa92",
   "metadata": {},
   "outputs": [],
   "source": []
  },
  {
   "cell_type": "code",
   "execution_count": null,
   "id": "154f1c30",
   "metadata": {},
   "outputs": [],
   "source": []
  },
  {
   "cell_type": "code",
   "execution_count": null,
   "id": "ff1a0d2e",
   "metadata": {},
   "outputs": [],
   "source": []
  },
  {
   "cell_type": "code",
   "execution_count": null,
   "id": "a5e9cdb8",
   "metadata": {},
   "outputs": [],
   "source": []
  },
  {
   "cell_type": "code",
   "execution_count": null,
   "id": "061158a1",
   "metadata": {},
   "outputs": [],
   "source": []
  },
  {
   "cell_type": "code",
   "execution_count": null,
   "id": "89f4660c",
   "metadata": {},
   "outputs": [],
   "source": []
  },
  {
   "cell_type": "code",
   "execution_count": null,
   "id": "2ff51c92",
   "metadata": {},
   "outputs": [],
   "source": []
  },
  {
   "cell_type": "code",
   "execution_count": null,
   "id": "7d77746d",
   "metadata": {},
   "outputs": [],
   "source": []
  },
  {
   "cell_type": "code",
   "execution_count": null,
   "id": "da6f5f06",
   "metadata": {},
   "outputs": [],
   "source": []
  },
  {
   "cell_type": "code",
   "execution_count": null,
   "id": "706f4039",
   "metadata": {},
   "outputs": [],
   "source": []
  },
  {
   "cell_type": "code",
   "execution_count": null,
   "id": "e3f3e546",
   "metadata": {},
   "outputs": [],
   "source": []
  },
  {
   "cell_type": "code",
   "execution_count": null,
   "id": "c1733ed7",
   "metadata": {},
   "outputs": [],
   "source": []
  },
  {
   "cell_type": "code",
   "execution_count": null,
   "id": "affd803c",
   "metadata": {},
   "outputs": [],
   "source": []
  },
  {
   "cell_type": "code",
   "execution_count": null,
   "id": "b0a4b336",
   "metadata": {},
   "outputs": [],
   "source": []
  }
 ],
 "metadata": {
  "kernelspec": {
   "display_name": "Python 3 (ipykernel)",
   "language": "python",
   "name": "python3"
  },
  "language_info": {
   "codemirror_mode": {
    "name": "ipython",
    "version": 3
   },
   "file_extension": ".py",
   "mimetype": "text/x-python",
   "name": "python",
   "nbconvert_exporter": "python",
   "pygments_lexer": "ipython3",
   "version": "3.11.5"
  }
 },
 "nbformat": 4,
 "nbformat_minor": 5
}
