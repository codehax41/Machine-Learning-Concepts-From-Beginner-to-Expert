{
 "cells": [
  {
   "cell_type": "code",
   "execution_count": 1,
   "id": "22e38201",
   "metadata": {},
   "outputs": [],
   "source": [
    "#Import necessary libraries\n",
    "import numpy as np\n",
    "import pandas as pd\n",
    "from sklearn.metrics.pairwise import cosine_similarity\n",
    "from sklearn.feature_extraction.text import CountVectorizer"
   ]
  },
  {
   "cell_type": "code",
   "execution_count": 2,
   "id": "2f1320ae",
   "metadata": {},
   "outputs": [],
   "source": [
    "#Sample book data\n",
    "np.random.seed(42)\n",
    "\n",
    "titles = [f'Book {chr(65 + i)}' for i in range(30)]\n",
    "genres = np.random.choice(['Fiction', 'Non-Fiction', 'Mystery', 'Science-Fiction'], size=30)\n",
    "authors = np.random.choice(['Author X', 'Author Y', 'Author Z'], size=30)\n",
    "\n",
    "books_data = pd.DataFrame({\n",
    "    'title': titles,\n",
    "    'genre':genres,\n",
    "    'author': authors\n",
    "})"
   ]
  },
  {
   "cell_type": "code",
   "execution_count": 3,
   "id": "47b2590a",
   "metadata": {
    "scrolled": true
   },
   "outputs": [
    {
     "data": {
      "text/html": [
       "<div>\n",
       "<style scoped>\n",
       "    .dataframe tbody tr th:only-of-type {\n",
       "        vertical-align: middle;\n",
       "    }\n",
       "\n",
       "    .dataframe tbody tr th {\n",
       "        vertical-align: top;\n",
       "    }\n",
       "\n",
       "    .dataframe thead th {\n",
       "        text-align: right;\n",
       "    }\n",
       "</style>\n",
       "<table border=\"1\" class=\"dataframe\">\n",
       "  <thead>\n",
       "    <tr style=\"text-align: right;\">\n",
       "      <th></th>\n",
       "      <th>title</th>\n",
       "      <th>genre</th>\n",
       "      <th>author</th>\n",
       "    </tr>\n",
       "  </thead>\n",
       "  <tbody>\n",
       "    <tr>\n",
       "      <th>0</th>\n",
       "      <td>Book A</td>\n",
       "      <td>Mystery</td>\n",
       "      <td>Author X</td>\n",
       "    </tr>\n",
       "    <tr>\n",
       "      <th>1</th>\n",
       "      <td>Book B</td>\n",
       "      <td>Science-Fiction</td>\n",
       "      <td>Author X</td>\n",
       "    </tr>\n",
       "    <tr>\n",
       "      <th>2</th>\n",
       "      <td>Book C</td>\n",
       "      <td>Fiction</td>\n",
       "      <td>Author Y</td>\n",
       "    </tr>\n",
       "    <tr>\n",
       "      <th>3</th>\n",
       "      <td>Book D</td>\n",
       "      <td>Mystery</td>\n",
       "      <td>Author Y</td>\n",
       "    </tr>\n",
       "    <tr>\n",
       "      <th>4</th>\n",
       "      <td>Book E</td>\n",
       "      <td>Mystery</td>\n",
       "      <td>Author X</td>\n",
       "    </tr>\n",
       "    <tr>\n",
       "      <th>5</th>\n",
       "      <td>Book F</td>\n",
       "      <td>Science-Fiction</td>\n",
       "      <td>Author X</td>\n",
       "    </tr>\n",
       "    <tr>\n",
       "      <th>6</th>\n",
       "      <td>Book G</td>\n",
       "      <td>Fiction</td>\n",
       "      <td>Author X</td>\n",
       "    </tr>\n",
       "    <tr>\n",
       "      <th>7</th>\n",
       "      <td>Book H</td>\n",
       "      <td>Fiction</td>\n",
       "      <td>Author Z</td>\n",
       "    </tr>\n",
       "    <tr>\n",
       "      <th>8</th>\n",
       "      <td>Book I</td>\n",
       "      <td>Mystery</td>\n",
       "      <td>Author Z</td>\n",
       "    </tr>\n",
       "    <tr>\n",
       "      <th>9</th>\n",
       "      <td>Book J</td>\n",
       "      <td>Non-Fiction</td>\n",
       "      <td>Author Z</td>\n",
       "    </tr>\n",
       "    <tr>\n",
       "      <th>10</th>\n",
       "      <td>Book K</td>\n",
       "      <td>Mystery</td>\n",
       "      <td>Author Y</td>\n",
       "    </tr>\n",
       "    <tr>\n",
       "      <th>11</th>\n",
       "      <td>Book L</td>\n",
       "      <td>Mystery</td>\n",
       "      <td>Author Z</td>\n",
       "    </tr>\n",
       "    <tr>\n",
       "      <th>12</th>\n",
       "      <td>Book M</td>\n",
       "      <td>Mystery</td>\n",
       "      <td>Author Y</td>\n",
       "    </tr>\n",
       "    <tr>\n",
       "      <th>13</th>\n",
       "      <td>Book N</td>\n",
       "      <td>Mystery</td>\n",
       "      <td>Author Y</td>\n",
       "    </tr>\n",
       "    <tr>\n",
       "      <th>14</th>\n",
       "      <td>Book O</td>\n",
       "      <td>Science-Fiction</td>\n",
       "      <td>Author Z</td>\n",
       "    </tr>\n",
       "    <tr>\n",
       "      <th>15</th>\n",
       "      <td>Book P</td>\n",
       "      <td>Fiction</td>\n",
       "      <td>Author Y</td>\n",
       "    </tr>\n",
       "    <tr>\n",
       "      <th>16</th>\n",
       "      <td>Book Q</td>\n",
       "      <td>Science-Fiction</td>\n",
       "      <td>Author Z</td>\n",
       "    </tr>\n",
       "    <tr>\n",
       "      <th>17</th>\n",
       "      <td>Book R</td>\n",
       "      <td>Science-Fiction</td>\n",
       "      <td>Author Z</td>\n",
       "    </tr>\n",
       "    <tr>\n",
       "      <th>18</th>\n",
       "      <td>Book S</td>\n",
       "      <td>Science-Fiction</td>\n",
       "      <td>Author X</td>\n",
       "    </tr>\n",
       "    <tr>\n",
       "      <th>19</th>\n",
       "      <td>Book T</td>\n",
       "      <td>Mystery</td>\n",
       "      <td>Author Z</td>\n",
       "    </tr>\n",
       "    <tr>\n",
       "      <th>20</th>\n",
       "      <td>Book U</td>\n",
       "      <td>Non-Fiction</td>\n",
       "      <td>Author X</td>\n",
       "    </tr>\n",
       "    <tr>\n",
       "      <th>21</th>\n",
       "      <td>Book V</td>\n",
       "      <td>Fiction</td>\n",
       "      <td>Author Z</td>\n",
       "    </tr>\n",
       "    <tr>\n",
       "      <th>22</th>\n",
       "      <td>Book W</td>\n",
       "      <td>Non-Fiction</td>\n",
       "      <td>Author Z</td>\n",
       "    </tr>\n",
       "    <tr>\n",
       "      <th>23</th>\n",
       "      <td>Book X</td>\n",
       "      <td>Science-Fiction</td>\n",
       "      <td>Author X</td>\n",
       "    </tr>\n",
       "    <tr>\n",
       "      <th>24</th>\n",
       "      <td>Book Y</td>\n",
       "      <td>Science-Fiction</td>\n",
       "      <td>Author X</td>\n",
       "    </tr>\n",
       "    <tr>\n",
       "      <th>25</th>\n",
       "      <td>Book Z</td>\n",
       "      <td>Non-Fiction</td>\n",
       "      <td>Author Z</td>\n",
       "    </tr>\n",
       "    <tr>\n",
       "      <th>26</th>\n",
       "      <td>Book [</td>\n",
       "      <td>Non-Fiction</td>\n",
       "      <td>Author Y</td>\n",
       "    </tr>\n",
       "    <tr>\n",
       "      <th>27</th>\n",
       "      <td>Book \\</td>\n",
       "      <td>Non-Fiction</td>\n",
       "      <td>Author X</td>\n",
       "    </tr>\n",
       "    <tr>\n",
       "      <th>28</th>\n",
       "      <td>Book ]</td>\n",
       "      <td>Science-Fiction</td>\n",
       "      <td>Author Y</td>\n",
       "    </tr>\n",
       "    <tr>\n",
       "      <th>29</th>\n",
       "      <td>Book ^</td>\n",
       "      <td>Science-Fiction</td>\n",
       "      <td>Author Y</td>\n",
       "    </tr>\n",
       "  </tbody>\n",
       "</table>\n",
       "</div>"
      ],
      "text/plain": [
       "     title            genre    author\n",
       "0   Book A          Mystery  Author X\n",
       "1   Book B  Science-Fiction  Author X\n",
       "2   Book C          Fiction  Author Y\n",
       "3   Book D          Mystery  Author Y\n",
       "4   Book E          Mystery  Author X\n",
       "5   Book F  Science-Fiction  Author X\n",
       "6   Book G          Fiction  Author X\n",
       "7   Book H          Fiction  Author Z\n",
       "8   Book I          Mystery  Author Z\n",
       "9   Book J      Non-Fiction  Author Z\n",
       "10  Book K          Mystery  Author Y\n",
       "11  Book L          Mystery  Author Z\n",
       "12  Book M          Mystery  Author Y\n",
       "13  Book N          Mystery  Author Y\n",
       "14  Book O  Science-Fiction  Author Z\n",
       "15  Book P          Fiction  Author Y\n",
       "16  Book Q  Science-Fiction  Author Z\n",
       "17  Book R  Science-Fiction  Author Z\n",
       "18  Book S  Science-Fiction  Author X\n",
       "19  Book T          Mystery  Author Z\n",
       "20  Book U      Non-Fiction  Author X\n",
       "21  Book V          Fiction  Author Z\n",
       "22  Book W      Non-Fiction  Author Z\n",
       "23  Book X  Science-Fiction  Author X\n",
       "24  Book Y  Science-Fiction  Author X\n",
       "25  Book Z      Non-Fiction  Author Z\n",
       "26  Book [      Non-Fiction  Author Y\n",
       "27  Book \\      Non-Fiction  Author X\n",
       "28  Book ]  Science-Fiction  Author Y\n",
       "29  Book ^  Science-Fiction  Author Y"
      ]
     },
     "execution_count": 3,
     "metadata": {},
     "output_type": "execute_result"
    }
   ],
   "source": [
    "books_data"
   ]
  },
  {
   "cell_type": "code",
   "execution_count": 4,
   "id": "d9e50394",
   "metadata": {},
   "outputs": [],
   "source": [
    "# Combine text feature for each book\n",
    "def combine_features(row):\n",
    "    return row['author'] + ' ' + row['genre']"
   ]
  },
  {
   "cell_type": "code",
   "execution_count": 5,
   "id": "812a5b5d",
   "metadata": {},
   "outputs": [],
   "source": [
    "books_data['combined_features'] = books_data.apply(combine_features, axis=1)"
   ]
  },
  {
   "cell_type": "code",
   "execution_count": 6,
   "id": "8c167579",
   "metadata": {},
   "outputs": [],
   "source": [
    "#Use CountVectorizer to convert textual data into a matrix of token counts\n",
    "vectorizer = CountVectorizer()\n",
    "feature_matrix = vectorizer.fit_transform(books_data['combined_features'])"
   ]
  },
  {
   "cell_type": "code",
   "execution_count": 7,
   "id": "723e9114",
   "metadata": {},
   "outputs": [
    {
     "data": {
      "text/plain": [
       "<30x5 sparse matrix of type '<class 'numpy.int64'>'\n",
       "\twith 76 stored elements in Compressed Sparse Row format>"
      ]
     },
     "execution_count": 7,
     "metadata": {},
     "output_type": "execute_result"
    }
   ],
   "source": [
    "feature_matrix"
   ]
  },
  {
   "cell_type": "code",
   "execution_count": 8,
   "id": "7ea3ef51",
   "metadata": {},
   "outputs": [
    {
     "name": "stdout",
     "output_type": "stream",
     "text": [
      "[[1 0 1 0 0]\n",
      " [1 1 0 0 1]\n",
      " [1 1 0 0 0]\n",
      " [1 0 1 0 0]\n",
      " [1 0 1 0 0]\n",
      " [1 1 0 0 1]\n",
      " [1 1 0 0 0]\n",
      " [1 1 0 0 0]\n",
      " [1 0 1 0 0]\n",
      " [1 1 0 1 0]]\n"
     ]
    }
   ],
   "source": [
    "print(feature_matrix[:10, :10].toarray())"
   ]
  },
  {
   "cell_type": "code",
   "execution_count": 9,
   "id": "266768a1",
   "metadata": {},
   "outputs": [],
   "source": [
    "#Calculate cosine similarity between items (books)\n",
    "item_similarities = cosine_similarity(feature_matrix)"
   ]
  },
  {
   "cell_type": "code",
   "execution_count": 10,
   "id": "b49186c6",
   "metadata": {},
   "outputs": [],
   "source": [
    "def get_book_recommendation(user_profile, book_data, item_similarities):\n",
    "    preferred_books = books_data[(book_data['genre'] == user_profile['genre']) &\n",
    "                                (books_data['author'] == user_profile['author'])\n",
    "                                ]\n",
    "    if preferred_books.empty:\n",
    "        return \"No matching book found in the dataset for the given user profile.\"\n",
    "    \n",
    "    recommendations = {}\n",
    "    for index, book in preferred_books.iterrows():\n",
    "        book_similarities = item_similarities[index]\n",
    "        similar_books = list(books_data.iloc[np.argsort(-book_similarities)[1:4]]['title'])\n",
    "        recommendations[book['title']] = similar_books\n",
    "        \n",
    "    return recommendations"
   ]
  },
  {
   "cell_type": "code",
   "execution_count": 11,
   "id": "ff6245e9",
   "metadata": {},
   "outputs": [
    {
     "name": "stdout",
     "output_type": "stream",
     "text": [
      "Recommendation for the user profile {'Book A': ['Book N', 'Book M', 'Book L'], 'Book E': ['Book N', 'Book M', 'Book L']}\n"
     ]
    }
   ],
   "source": [
    "#Example user profile\n",
    "user_profile = {'genre':'Mystery', 'author':'Author X'}\n",
    "user_recommendations = get_book_recommendation(user_profile, books_data, item_similarities)\n",
    "print('Recommendation for the user profile', user_recommendations)"
   ]
  },
  {
   "cell_type": "code",
   "execution_count": null,
   "id": "cdf1f9d4",
   "metadata": {},
   "outputs": [],
   "source": []
  },
  {
   "cell_type": "code",
   "execution_count": null,
   "id": "e6179d19",
   "metadata": {},
   "outputs": [],
   "source": []
  },
  {
   "cell_type": "code",
   "execution_count": null,
   "id": "ee6b5e8c",
   "metadata": {},
   "outputs": [],
   "source": []
  },
  {
   "cell_type": "code",
   "execution_count": null,
   "id": "f4f4c613",
   "metadata": {},
   "outputs": [],
   "source": []
  },
  {
   "cell_type": "code",
   "execution_count": null,
   "id": "8249cb73",
   "metadata": {},
   "outputs": [],
   "source": []
  },
  {
   "cell_type": "code",
   "execution_count": null,
   "id": "d5b21b15",
   "metadata": {},
   "outputs": [],
   "source": []
  }
 ],
 "metadata": {
  "kernelspec": {
   "display_name": "Python 3 (ipykernel)",
   "language": "python",
   "name": "python3"
  },
  "language_info": {
   "codemirror_mode": {
    "name": "ipython",
    "version": 3
   },
   "file_extension": ".py",
   "mimetype": "text/x-python",
   "name": "python",
   "nbconvert_exporter": "python",
   "pygments_lexer": "ipython3",
   "version": "3.11.5"
  }
 },
 "nbformat": 4,
 "nbformat_minor": 5
}
