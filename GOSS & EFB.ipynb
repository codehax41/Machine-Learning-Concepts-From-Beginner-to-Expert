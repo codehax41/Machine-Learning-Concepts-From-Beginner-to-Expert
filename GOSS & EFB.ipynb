{
 "cells": [
  {
   "cell_type": "code",
   "execution_count": 2,
   "id": "4fc8781d",
   "metadata": {},
   "outputs": [],
   "source": [
    "import numpy as np"
   ]
  },
  {
   "cell_type": "markdown",
   "id": "67b2f2ed",
   "metadata": {},
   "source": [
    "## GOSS"
   ]
  },
  {
   "cell_type": "code",
   "execution_count": 3,
   "id": "d5381793",
   "metadata": {},
   "outputs": [],
   "source": [
    "#Gradients value for each instances\n",
    "gradient = [0.1, 0.5, 0.8, 1.2, 0.3, 0.9,0.6,0.4,1.0,0.7]"
   ]
  },
  {
   "cell_type": "code",
   "execution_count": 4,
   "id": "a1a651d6",
   "metadata": {},
   "outputs": [],
   "source": [
    "#Sort the imnstances based on gradients\n",
    "sorted_indices = sorted(range(len(gradient)), key=lambda i: gradient[i], reverse=True)\n",
    "sorted_gradients = [gradient[i] for i in sorted_indices]"
   ]
  },
  {
   "cell_type": "code",
   "execution_count": 5,
   "id": "69593ba8",
   "metadata": {},
   "outputs": [
    {
     "name": "stdout",
     "output_type": "stream",
     "text": [
      "Original Gradients [0.1, 0.5, 0.8, 1.2, 0.3, 0.9, 0.6, 0.4, 1.0, 0.7]\n",
      "Sorted Gradients [1.2, 1.0, 0.9, 0.8, 0.7, 0.6, 0.5, 0.4, 0.3, 0.1]\n",
      "Selected Gradient with GOSS [1.2, 1.0]\n"
     ]
    }
   ],
   "source": [
    "#retain a portion of the instances with larger gradients (top_rate=0.2)\n",
    "top_instances = int(len(gradient) * 0.2)\n",
    "selected_indices = sorted_indices[:top_instances]\n",
    "selected_gradients = [gradient[i] for i in selected_indices]\n",
    "\n",
    "print('Original Gradients', gradient)\n",
    "print('Sorted Gradients', sorted_gradients)\n",
    "print('Selected Gradient with GOSS', selected_gradients)"
   ]
  },
  {
   "cell_type": "code",
   "execution_count": null,
   "id": "13be4bd3",
   "metadata": {},
   "outputs": [],
   "source": []
  },
  {
   "cell_type": "markdown",
   "id": "ff49d3ef",
   "metadata": {},
   "source": [
    "## EFB"
   ]
  },
  {
   "cell_type": "code",
   "execution_count": 7,
   "id": "7fc6d2ad",
   "metadata": {},
   "outputs": [],
   "source": [
    "#Feature indicating exclusivity for bundling\n",
    "features = [['A','B'],\n",
    "           ['A', 'C'],\n",
    "           ['B','D'],\n",
    "           ['C','D'],\n",
    "           ['A','B','C'],\n",
    "           ['B','C','D'],\n",
    "           ['A','C','E'],\n",
    "           ['B','D', 'E'],\n",
    "           ['A', 'B','C','D'],\n",
    "           ['C','D','E'],\n",
    "           ]"
   ]
  },
  {
   "cell_type": "code",
   "execution_count": 8,
   "id": "4060ced5",
   "metadata": {},
   "outputs": [
    {
     "data": {
      "text/plain": [
       "[['A', 'B'],\n",
       " ['A', 'C'],\n",
       " ['B', 'D'],\n",
       " ['C', 'D'],\n",
       " ['A', 'B', 'C'],\n",
       " ['B', 'C', 'D'],\n",
       " ['A', 'C', 'E'],\n",
       " ['B', 'D', 'E'],\n",
       " ['A', 'B', 'C', 'D'],\n",
       " ['C', 'D', 'E']]"
      ]
     },
     "execution_count": 8,
     "metadata": {},
     "output_type": "execute_result"
    }
   ],
   "source": [
    "features"
   ]
  },
  {
   "cell_type": "code",
   "execution_count": 9,
   "id": "12fe2fbd",
   "metadata": {},
   "outputs": [],
   "source": [
    "#initialize an empty list to store bundled features\n",
    "bundled_features = []"
   ]
  },
  {
   "cell_type": "code",
   "execution_count": 10,
   "id": "551688b8",
   "metadata": {},
   "outputs": [
    {
     "name": "stdout",
     "output_type": "stream",
     "text": [
      "Original Features [['A', 'B'], ['A', 'C'], ['B', 'D'], ['C', 'D'], ['A', 'B', 'C'], ['B', 'C', 'D'], ['A', 'C', 'E'], ['B', 'D', 'E'], ['A', 'B', 'C', 'D'], ['C', 'D', 'E']]\n",
      "Bundled Features with EFB [['A', 'B', 'C', 'D'], ['A', 'C', 'B', 'D'], ['A', 'B', 'C'], ['B', 'C', 'D'], ['A', 'C', 'E'], ['B', 'D', 'E'], ['A', 'B', 'C', 'D'], ['C', 'D', 'E']]\n"
     ]
    }
   ],
   "source": [
    "#perform EFB\n",
    "for feature_set in features:\n",
    "    bundled = False\n",
    "    for bundle in bundled_features:\n",
    "        if set(feature_set).isdisjoint(bundle):\n",
    "            bundle.extend(feature_set)\n",
    "            bundled = True\n",
    "            break\n",
    "    if not bundled:\n",
    "        bundled_features.append(feature_set[:]) #This creates a copy to avoid original set\n",
    "        \n",
    "print('Original Features', features)\n",
    "print('Bundled Features with EFB', bundled_features)"
   ]
  },
  {
   "cell_type": "code",
   "execution_count": null,
   "id": "1f3e2bed",
   "metadata": {},
   "outputs": [],
   "source": []
  },
  {
   "cell_type": "code",
   "execution_count": null,
   "id": "e7526693",
   "metadata": {},
   "outputs": [],
   "source": []
  }
 ],
 "metadata": {
  "kernelspec": {
   "display_name": "Python 3 (ipykernel)",
   "language": "python",
   "name": "python3"
  },
  "language_info": {
   "codemirror_mode": {
    "name": "ipython",
    "version": 3
   },
   "file_extension": ".py",
   "mimetype": "text/x-python",
   "name": "python",
   "nbconvert_exporter": "python",
   "pygments_lexer": "ipython3",
   "version": "3.11.5"
  }
 },
 "nbformat": 4,
 "nbformat_minor": 5
}
