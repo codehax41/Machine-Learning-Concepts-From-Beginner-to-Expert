{
 "cells": [
  {
   "cell_type": "code",
   "execution_count": 1,
   "id": "19a3b69c",
   "metadata": {},
   "outputs": [],
   "source": [
    "import numpy as np\n",
    "from scipy import stats"
   ]
  },
  {
   "cell_type": "markdown",
   "id": "cd143e1e",
   "metadata": {},
   "source": [
    "## Cont. Data"
   ]
  },
  {
   "cell_type": "code",
   "execution_count": 2,
   "id": "329ca76d",
   "metadata": {},
   "outputs": [],
   "source": [
    "data1 = np.array([15,20,25,30,35])\n",
    "data2 = np.array([30, 25, 20, 15, 10])"
   ]
  },
  {
   "cell_type": "code",
   "execution_count": 7,
   "id": "7b7eba61",
   "metadata": {},
   "outputs": [],
   "source": [
    "#Pearson\n",
    "perason_c = stats.pearsonr(data1, data2)[0]\n",
    "\n",
    "#Spearman\n",
    "spearman_r = stats.spearmanr(data1, data2)[0]"
   ]
  },
  {
   "cell_type": "code",
   "execution_count": 8,
   "id": "c54b6d5d",
   "metadata": {},
   "outputs": [
    {
     "name": "stdout",
     "output_type": "stream",
     "text": [
      "Pearson Correlation Coef. -1.0\n",
      "Spearman Rank Correlation Coef. -0.9999999999999999\n"
     ]
    }
   ],
   "source": [
    "print(\"Pearson Correlation Coef.\", perason_c)\n",
    "print(\"Spearman Rank Correlation Coef.\", spearman_r)"
   ]
  },
  {
   "cell_type": "code",
   "execution_count": null,
   "id": "03c63230",
   "metadata": {},
   "outputs": [],
   "source": []
  },
  {
   "cell_type": "markdown",
   "id": "cc2fe2d7",
   "metadata": {},
   "source": [
    "## Cat. Data"
   ]
  },
  {
   "cell_type": "code",
   "execution_count": 9,
   "id": "3c3df9f6",
   "metadata": {},
   "outputs": [],
   "source": [
    "data1 = ['High', 'Low', 'Medium', 'High', 'Low']\n",
    "data2 = ['Low', 'High', 'Low', 'Low', 'Medium']"
   ]
  },
  {
   "cell_type": "code",
   "execution_count": 10,
   "id": "a908b09e",
   "metadata": {},
   "outputs": [],
   "source": [
    "rank_order = {\"Low\":1, \"Medium\":2, \"High\":3}"
   ]
  },
  {
   "cell_type": "code",
   "execution_count": 11,
   "id": "38749c32",
   "metadata": {},
   "outputs": [],
   "source": [
    "data1_rank = np.array([rank_order[val] for val in data1])\n",
    "data2_rank = np.array([rank_order[val] for val in data2])"
   ]
  },
  {
   "cell_type": "code",
   "execution_count": 12,
   "id": "e5d0eefc",
   "metadata": {},
   "outputs": [
    {
     "data": {
      "text/plain": [
       "array([3, 1, 2, 3, 1])"
      ]
     },
     "execution_count": 12,
     "metadata": {},
     "output_type": "execute_result"
    }
   ],
   "source": [
    "data1_rank"
   ]
  },
  {
   "cell_type": "code",
   "execution_count": 13,
   "id": "78e5a150",
   "metadata": {},
   "outputs": [],
   "source": [
    "#Pearson\n",
    "perason_c = stats.pearsonr(data1_rank, data2_rank)[0]\n",
    "\n",
    "#Spearman\n",
    "spearman_r = stats.spearmanr(data1_rank, data2_rank)[0]"
   ]
  },
  {
   "cell_type": "code",
   "execution_count": 14,
   "id": "a7f7a8dd",
   "metadata": {},
   "outputs": [
    {
     "name": "stdout",
     "output_type": "stream",
     "text": [
      "Pearson Correlation Coef. -0.8385254915624212\n",
      "Spearman Rank Correlation Coef. -0.8838834764831843\n"
     ]
    }
   ],
   "source": [
    "print(\"Pearson Correlation Coef.\", perason_c)\n",
    "print(\"Spearman Rank Correlation Coef.\", spearman_r)"
   ]
  },
  {
   "cell_type": "code",
   "execution_count": null,
   "id": "65fb684c",
   "metadata": {},
   "outputs": [],
   "source": []
  },
  {
   "cell_type": "code",
   "execution_count": null,
   "id": "fdbdc57a",
   "metadata": {},
   "outputs": [],
   "source": []
  },
  {
   "cell_type": "code",
   "execution_count": null,
   "id": "000969b2",
   "metadata": {},
   "outputs": [],
   "source": []
  },
  {
   "cell_type": "code",
   "execution_count": null,
   "id": "69b6ea83",
   "metadata": {},
   "outputs": [],
   "source": []
  },
  {
   "cell_type": "code",
   "execution_count": null,
   "id": "b73cc340",
   "metadata": {},
   "outputs": [],
   "source": []
  },
  {
   "cell_type": "code",
   "execution_count": null,
   "id": "57b7041c",
   "metadata": {},
   "outputs": [],
   "source": []
  },
  {
   "cell_type": "code",
   "execution_count": null,
   "id": "cfe28306",
   "metadata": {},
   "outputs": [],
   "source": []
  },
  {
   "cell_type": "code",
   "execution_count": null,
   "id": "95312b62",
   "metadata": {},
   "outputs": [],
   "source": []
  },
  {
   "cell_type": "code",
   "execution_count": null,
   "id": "eb9f2b03",
   "metadata": {},
   "outputs": [],
   "source": []
  },
  {
   "cell_type": "code",
   "execution_count": null,
   "id": "c844315c",
   "metadata": {},
   "outputs": [],
   "source": []
  }
 ],
 "metadata": {
  "kernelspec": {
   "display_name": "Python 3 (ipykernel)",
   "language": "python",
   "name": "python3"
  },
  "language_info": {
   "codemirror_mode": {
    "name": "ipython",
    "version": 3
   },
   "file_extension": ".py",
   "mimetype": "text/x-python",
   "name": "python",
   "nbconvert_exporter": "python",
   "pygments_lexer": "ipython3",
   "version": "3.11.5"
  }
 },
 "nbformat": 4,
 "nbformat_minor": 5
}
