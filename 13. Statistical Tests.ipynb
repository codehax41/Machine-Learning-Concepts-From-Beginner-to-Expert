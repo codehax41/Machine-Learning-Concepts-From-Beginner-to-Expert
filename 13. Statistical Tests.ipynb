{
 "cells": [
  {
   "cell_type": "markdown",
   "id": "d9143f43",
   "metadata": {},
   "source": [
    "## 1. T test"
   ]
  },
  {
   "cell_type": "code",
   "execution_count": 1,
   "id": "40dd1bbb",
   "metadata": {},
   "outputs": [],
   "source": [
    "import scipy.stats as stats"
   ]
  },
  {
   "cell_type": "code",
   "execution_count": 2,
   "id": "b81aab1e",
   "metadata": {},
   "outputs": [],
   "source": [
    "group1 = [23, 25, 27, 30, 32]\n",
    "group2 = [19, 22, 25, 28, 31]\n",
    "\n",
    "t_stat, p_value = stats.ttest_ind(group1, group2)"
   ]
  },
  {
   "cell_type": "code",
   "execution_count": 3,
   "id": "3bc26d41",
   "metadata": {},
   "outputs": [
    {
     "name": "stdout",
     "output_type": "stream",
     "text": [
      "There is a no statistically significant difference between the group\n"
     ]
    }
   ],
   "source": [
    "if p_value < 0.05:\n",
    "    print(\"There is a statistically significant difference between the group\")\n",
    "else:\n",
    "    print(\"There is a no statistically significant difference between the group\")"
   ]
  },
  {
   "cell_type": "code",
   "execution_count": 4,
   "id": "418bc629",
   "metadata": {},
   "outputs": [
    {
     "data": {
      "text/plain": [
       "0.8969221113023226"
      ]
     },
     "execution_count": 4,
     "metadata": {},
     "output_type": "execute_result"
    }
   ],
   "source": [
    "t_stat"
   ]
  },
  {
   "cell_type": "markdown",
   "id": "256093bd",
   "metadata": {},
   "source": [
    "## 2. F test"
   ]
  },
  {
   "cell_type": "code",
   "execution_count": 5,
   "id": "8d862598",
   "metadata": {},
   "outputs": [],
   "source": [
    "group1 = [23, 25, 27, 30, 32]\n",
    "group2 = [19, 22, 25, 28, 31]\n",
    "\n",
    "f_stat, p_value = stats.levene(group1, group2)"
   ]
  },
  {
   "cell_type": "code",
   "execution_count": 6,
   "id": "45f48766",
   "metadata": {},
   "outputs": [
    {
     "data": {
      "text/plain": [
       "0.3200000000000002"
      ]
     },
     "execution_count": 6,
     "metadata": {},
     "output_type": "execute_result"
    }
   ],
   "source": [
    "f_stat"
   ]
  },
  {
   "cell_type": "code",
   "execution_count": 7,
   "id": "39bb7ec4",
   "metadata": {},
   "outputs": [
    {
     "name": "stdout",
     "output_type": "stream",
     "text": [
      "The variances of the group are equal\n"
     ]
    }
   ],
   "source": [
    "if p_value < 0.05:\n",
    "    print(\"The variance of the group are not equal\")\n",
    "else:\n",
    "    print(\"The variances of the group are equal\")"
   ]
  },
  {
   "cell_type": "markdown",
   "id": "ae94b0f5",
   "metadata": {},
   "source": [
    "## 3. ANOVA Test"
   ]
  },
  {
   "cell_type": "code",
   "execution_count": 8,
   "id": "892a8dd1",
   "metadata": {},
   "outputs": [],
   "source": [
    "group1 = [23, 25, 27, 30, 32]\n",
    "group2 = [19, 22, 25, 28, 31]\n",
    "group3 = [18, 20, 23, 26, 29]\n",
    "\n",
    "f_stat, p_value = stats.f_oneway(group1, group2, group3)"
   ]
  },
  {
   "cell_type": "code",
   "execution_count": 9,
   "id": "cdde345a",
   "metadata": {},
   "outputs": [
    {
     "name": "stdout",
     "output_type": "stream",
     "text": [
      "There is a no statistically significant difference between the group\n"
     ]
    }
   ],
   "source": [
    "if p_value < 0.05:\n",
    "    print(\"There is a statistically significance difference at least one pair of group\")\n",
    "else:\n",
    "    print(\"There is a no statistically significant difference between the group\")"
   ]
  },
  {
   "cell_type": "code",
   "execution_count": null,
   "id": "6f7c19be",
   "metadata": {},
   "outputs": [],
   "source": []
  },
  {
   "cell_type": "code",
   "execution_count": null,
   "id": "0867b81f",
   "metadata": {},
   "outputs": [],
   "source": []
  },
  {
   "cell_type": "code",
   "execution_count": null,
   "id": "358a5fb3",
   "metadata": {},
   "outputs": [],
   "source": []
  }
 ],
 "metadata": {
  "kernelspec": {
   "display_name": "Python 3 (ipykernel)",
   "language": "python",
   "name": "python3"
  },
  "language_info": {
   "codemirror_mode": {
    "name": "ipython",
    "version": 3
   },
   "file_extension": ".py",
   "mimetype": "text/x-python",
   "name": "python",
   "nbconvert_exporter": "python",
   "pygments_lexer": "ipython3",
   "version": "3.11.5"
  }
 },
 "nbformat": 4,
 "nbformat_minor": 5
}
