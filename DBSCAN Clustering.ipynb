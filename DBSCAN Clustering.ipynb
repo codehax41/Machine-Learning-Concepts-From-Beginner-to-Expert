{
 "cells": [
  {
   "cell_type": "code",
   "execution_count": 1,
   "id": "8822ef48",
   "metadata": {},
   "outputs": [],
   "source": [
    "import numpy as np\n",
    "import matplotlib.pyplot as plt"
   ]
  },
  {
   "cell_type": "markdown",
   "id": "d6f4aec4",
   "metadata": {},
   "source": [
    "## using numpy"
   ]
  },
  {
   "cell_type": "code",
   "execution_count": 3,
   "id": "b250e60e",
   "metadata": {},
   "outputs": [],
   "source": [
    "#Function to calculate eucledian distance between 2 points\n",
    "def euclidean_distance(point1, point2):\n",
    "    return np.linalg.norm(point1-point2)\n",
    "\n",
    "#Function to find neighbors of a point within a given radius\n",
    "def find_neighbors(data, point_index, eps):\n",
    "    neighbors = []\n",
    "    for i, point in enumerate(data):\n",
    "        if euclidean_distance(data[point_index], point) < eps and i != point_index:\n",
    "            neighbors.append(i)\n",
    "    return neighbors"
   ]
  },
  {
   "cell_type": "code",
   "execution_count": 6,
   "id": "c7552d42",
   "metadata": {},
   "outputs": [],
   "source": [
    "#Function to expand a cluster\n",
    "def expand_cluster(data, labels, point_index, neighbors, cluster_id, eps, min_samples):\n",
    "    labels[point_index] = cluster_id\n",
    "    for neighbor in neighbors:\n",
    "        if labels[neighbor] == 0 :\n",
    "            labels[neighbor] = cluster_id\n",
    "            new_neighbours = find_neighbors(data, neighbor, eps)\n",
    "            if len(new_neighbours) >= min_samples:\n",
    "                neighbors.extend(new_neighbours)\n",
    "        elif labels[neighbor] == -1:\n",
    "                labels[neighbor] = cluster_id"
   ]
  },
  {
   "cell_type": "code",
   "execution_count": 7,
   "id": "be8a71c2",
   "metadata": {},
   "outputs": [],
   "source": [
    "def DBSCAN(data, sps, min_samples):\n",
    "    num_points = len(data)\n",
    "    labels = np.zeros(num_points, dtype=int)\n",
    "    \n",
    "    cluster_id = 0\n",
    "    for i in range(num_points):\n",
    "        if labels[i] != 0:\n",
    "            continue\n",
    "        neighbors = find_neighbors(data, i, eps)\n",
    "        if len(neighbors) < min_samples:\n",
    "            labels[i] = -1 #Mark as noise\n",
    "        else:\n",
    "            cluster_id += 1\n",
    "            expand_cluster(data, labels, i, neighbors, cluster_id, eps, min_samples)\n",
    "    return labels"
   ]
  },
  {
   "cell_type": "code",
   "execution_count": 8,
   "id": "c51e3430",
   "metadata": {},
   "outputs": [],
   "source": [
    "#Create the synthetic data"
   ]
  },
  {
   "cell_type": "code",
   "execution_count": 9,
   "id": "0c91af5a",
   "metadata": {},
   "outputs": [],
   "source": [
    "np.random.seed(0)\n",
    "data = np.concatenate([np.random.randn(100, 2) * 0.3 + np.array([2, 2]),\n",
    "                      np.random.randn(100, 2) * 0.3 + np.array([-2, -2]),\n",
    "                      np.random.randn(20, 2) * 0.3 + np.array([5, -5]),\n",
    "                      ])"
   ]
  },
  {
   "cell_type": "code",
   "execution_count": 10,
   "id": "c3d365da",
   "metadata": {},
   "outputs": [
    {
     "data": {
      "text/plain": [
       "array([[ 2.5292157 ,  2.12004716],\n",
       "       [ 2.2936214 ,  2.67226796],\n",
       "       [ 2.5602674 ,  1.70681664],\n",
       "       [ 2.28502653,  1.95459284],\n",
       "       [ 1.96903434,  2.12317955],\n",
       "       [ 2.04321307,  2.43628205],\n",
       "       [ 2.22831132,  2.0365025 ],\n",
       "       [ 2.13315897,  2.1001023 ],\n",
       "       [ 2.44822372,  1.93845252],\n",
       "       [ 2.09392031,  1.74377128],\n",
       "       [ 1.23410306,  2.19608558],\n",
       "       [ 2.25933086,  1.77735049],\n",
       "       [ 2.68092639,  1.5636903 ],\n",
       "       [ 2.01372756,  1.94384484],\n",
       "       [ 2.45983376,  2.44080763],\n",
       "       [ 2.04648423,  2.11344876],\n",
       "       [ 1.73366428,  1.40576106],\n",
       "       [ 1.89562636,  2.04690469],\n",
       "       [ 2.3690872 ,  2.36071395],\n",
       "       [ 1.88380195,  1.90930917],\n",
       "       [ 1.68543411,  1.57399462],\n",
       "       [ 1.48811894,  2.58523262],\n",
       "       [ 1.84710435,  1.86857771],\n",
       "       [ 1.62416139,  2.23324711],\n",
       "       [ 1.51583065,  1.93617792],\n",
       "       [ 1.73136003,  2.11607075],\n",
       "       [ 1.84675846,  1.64581034],\n",
       "       [ 1.99154533,  2.12849956],\n",
       "       [ 2.01995517,  2.09074157],\n",
       "       [ 1.80970337,  1.89117765],\n",
       "       [ 1.79826187,  1.89213405],\n",
       "       [ 1.75605612,  1.48211522],\n",
       "       [ 2.05322784,  1.87946572],\n",
       "       [ 1.5109405 ,  2.13883468],\n",
       "       [ 1.72781049,  2.01558362],\n",
       "       [ 2.21872717,  2.03869487],\n",
       "       [ 2.34182021,  1.62955225],\n",
       "       [ 2.12070249,  1.79455697],\n",
       "       [ 1.73876086,  1.8263451 ],\n",
       "       [ 1.90653424,  2.0168496 ],\n",
       "       [ 1.65045505,  2.27024795],\n",
       "       [ 2.13969873,  1.53912689],\n",
       "       [ 2.44647566,  2.56876675],\n",
       "       [ 2.35363387,  1.94602255],\n",
       "       [ 1.67877421,  2.31633552],\n",
       "       [ 1.87904692,  2.36673352],\n",
       "       [ 2.06248249,  2.29299171],\n",
       "       [ 2.10690992,  2.21197195],\n",
       "       [ 2.00315001,  2.53576115],\n",
       "       [ 2.03807363,  2.12059681],\n",
       "       [ 2.56494521,  1.59567228],\n",
       "       [ 1.6188545 ,  2.29081901],\n",
       "       [ 1.64806298,  2.58308636],\n",
       "       [ 1.87591431,  1.77576356],\n",
       "       [ 2.57688261,  2.44415444],\n",
       "       [ 2.56026769,  2.2718134 ],\n",
       "       [ 1.74163229,  2.57301949],\n",
       "       [ 1.91959899,  2.24073692],\n",
       "       [ 2.28417559,  1.95349697],\n",
       "       [ 2.18422381,  2.276662  ],\n",
       "       [ 2.11292766,  1.67017976],\n",
       "       [ 2.08947145,  2.39791577],\n",
       "       [ 1.79162964,  1.95510964],\n",
       "       [ 1.86945393,  2.55477912],\n",
       "       [ 2.20168843,  2.12223855],\n",
       "       [ 1.76902518,  2.16177476],\n",
       "       [ 1.7977002 ,  2.00954917],\n",
       "       [ 1.80924618,  2.20292999],\n",
       "       [ 2.17297724,  1.93751037],\n",
       "       [ 2.11880201,  1.67208155],\n",
       "       [ 1.55262272,  2.13181751],\n",
       "       [ 2.05000205,  2.19050943],\n",
       "       [ 2.71494343,  2.28334385],\n",
       "       [ 1.72615333,  2.33510489],\n",
       "       [ 1.60522778,  1.86152462],\n",
       "       [ 1.97952752,  2.51400282],\n",
       "       [ 1.77657355,  1.75206844],\n",
       "       [ 1.97046424,  1.80095651],\n",
       "       [ 2.33799078,  1.67602055],\n",
       "       [ 1.6557594 ,  1.86865399],\n",
       "       [ 1.85059026,  2.57885962],\n",
       "       [ 2.28482624,  2.02626537],\n",
       "       [ 1.63236934,  2.25330889],\n",
       "       [ 1.6999354 ,  1.53656867],\n",
       "       [ 2.35640894,  2.09508278],\n",
       "       [ 2.27625765,  2.0956183 ],\n",
       "       [ 2.25704918,  1.80469232],\n",
       "       [ 1.68972715,  2.20447836],\n",
       "       [ 1.7589771 ,  1.79313507],\n",
       "       [ 1.86334025,  2.00524375],\n",
       "       [ 1.89380183,  1.58751461],\n",
       "       [ 1.80691448,  1.33297905],\n",
       "       [ 2.18756944,  1.5193827 ],\n",
       "       [ 1.668685  ,  2.01564952],\n",
       "       [ 1.7781311 ,  2.46290438],\n",
       "       [ 1.61214293,  2.08011526],\n",
       "       [ 1.98821515,  1.64957195],\n",
       "       [ 2.156983  ,  1.9485361 ],\n",
       "       [ 2.23153717,  2.24705125],\n",
       "       [ 2.64897078,  2.40095838],\n",
       "       [-2.11075455, -2.07181375],\n",
       "       [-1.67010212, -1.80342088],\n",
       "       [-1.80796054, -2.48508681],\n",
       "       [-2.00729784, -2.22140927],\n",
       "       [-1.91602262, -2.02944512],\n",
       "       [-1.72694633, -1.90483454],\n",
       "       [-1.76410161, -2.13992573],\n",
       "       [-2.28333388, -2.12301491],\n",
       "       [-2.00510612, -1.88625448],\n",
       "       [-1.32220731, -2.01267715],\n",
       "       [-2.2867835 , -2.10379453],\n",
       "       [-2.13907879, -1.85555556],\n",
       "       [-2.4622391 , -1.9810214 ],\n",
       "       [-1.95304804, -1.93034569],\n",
       "       [-2.17919482, -2.07137652],\n",
       "       [-2.42721827, -2.14799597],\n",
       "       [-2.16285844, -1.87518499],\n",
       "       [-2.34685473, -1.76564057],\n",
       "       [-1.55165464, -2.62099551],\n",
       "       [-1.87212238, -1.79692759],\n",
       "       [-2.19123111, -2.11918154],\n",
       "       [-2.03986417, -2.08933726],\n",
       "       [-2.09270389, -2.50280114],\n",
       "       [-1.65430053, -1.67611442],\n",
       "       [-2.24400928, -2.4399273 ],\n",
       "       [-1.84368054, -2.17273639],\n",
       "       [-1.95741405, -2.09579853],\n",
       "       [-1.79253837, -1.79157526],\n",
       "       [-2.21767921, -2.41500919],\n",
       "       [-2.47488152, -1.81688619],\n",
       "       [-2.35665778, -2.15204491],\n",
       "       [-2.17889421, -2.01577019],\n",
       "       [-2.58088394, -1.94336642],\n",
       "       [-1.84283269, -1.97347337],\n",
       "       [-2.09326585, -1.97077995],\n",
       "       [-1.8802861 , -2.83177783],\n",
       "       [-1.41322631, -1.882972  ],\n",
       "       [-2.19572257, -2.11728601],\n",
       "       [-1.85187747, -2.03483118],\n",
       "       [-2.60920534, -1.38065214],\n",
       "       [-2.0331622 , -1.69394819],\n",
       "       [-2.20761495, -1.53908688],\n",
       "       [-1.91409689, -1.81734685],\n",
       "       [-2.31357601, -1.63665641],\n",
       "       [-1.79305455, -1.60944613],\n",
       "       [-2.18842627, -2.14430814],\n",
       "       [-1.30882499, -2.31800475],\n",
       "       [-2.04078491, -1.65893259],\n",
       "       [-1.97068251, -1.8251139 ],\n",
       "       [-2.11983471, -1.88898323],\n",
       "       [-2.39195806, -1.5025608 ],\n",
       "       [-2.03544921, -2.20405346],\n",
       "       [-1.80008508, -2.13821594],\n",
       "       [-2.40027754, -2.40401525],\n",
       "       [-1.79186805, -2.04787203],\n",
       "       [-2.04011047, -1.67667686],\n",
       "       [-2.33804774, -2.21920333],\n",
       "       [-2.11546394, -1.97169452],\n",
       "       [-2.01265144, -2.08606616],\n",
       "       [-2.01848792, -2.03219158],\n",
       "       [-2.21588132, -2.2438979 ],\n",
       "       [-1.91764509, -2.26727452],\n",
       "       [-2.34720658, -2.09368768],\n",
       "       [-2.0473001 , -1.32298295],\n",
       "       [-2.21141008, -1.71702178],\n",
       "       [-1.7758435 , -2.35668349],\n",
       "       [-1.76802411, -2.35516419],\n",
       "       [-2.79775167, -1.81810414],\n",
       "       [-2.52676718, -1.86471966],\n",
       "       [-2.20520327, -1.50213476],\n",
       "       [-1.67944718, -2.13601574],\n",
       "       [-2.20635128, -2.36422322],\n",
       "       [-2.13227679, -2.08410665],\n",
       "       [-2.10940806, -1.95298884],\n",
       "       [-1.82644355, -1.89510366],\n",
       "       [-2.22924318, -2.43133744],\n",
       "       [-1.59064045, -2.20683476],\n",
       "       [-2.19568808, -2.15635679],\n",
       "       [-2.55292087, -2.1433922 ],\n",
       "       [-2.14389674, -1.81389251],\n",
       "       [-1.79046286, -1.99886873],\n",
       "       [-1.72044549, -1.8980105 ],\n",
       "       [-2.00470463, -1.95172155],\n",
       "       [-2.05719605, -2.11845485],\n",
       "       [-2.08032006, -2.3384034 ],\n",
       "       [-1.91586749, -2.29793708],\n",
       "       [-1.74751062, -2.07483757],\n",
       "       [-1.98515151, -1.85184897],\n",
       "       [-1.80700566, -2.47118702],\n",
       "       [-2.0620711 , -1.73594633],\n",
       "       [-2.50943175, -1.88381586],\n",
       "       [-2.67666927, -2.30675205],\n",
       "       [-1.98841083, -2.49701453],\n",
       "       [-2.29565322, -2.4415505 ],\n",
       "       [-1.50555952, -1.95073167],\n",
       "       [-1.82981292, -2.06680253],\n",
       "       [-2.10602952, -2.48494226],\n",
       "       [-2.08755121, -2.22844766],\n",
       "       [-1.74262282, -1.65766944],\n",
       "       [-1.56002639, -1.74423442],\n",
       "       [ 4.82040382, -5.3347691 ],\n",
       "       [ 5.22999895, -4.89311215],\n",
       "       [ 4.46943846, -4.89335546],\n",
       "       [ 5.24435595, -4.98232232],\n",
       "       [ 4.9444839 , -5.24229455],\n",
       "       [ 4.56603959, -4.75991062],\n",
       "       [ 4.90726567, -5.07004   ],\n",
       "       [ 5.51981636, -4.79464967],\n",
       "       [ 5.1112475 , -4.95738146],\n",
       "       [ 5.45599846, -4.48412321],\n",
       "       [ 5.27885153, -4.82533262],\n",
       "       [ 4.37161908, -4.96288343],\n",
       "       [ 4.96096791, -4.97181403],\n",
       "       [ 5.28291383, -5.82190315],\n",
       "       [ 4.82920638, -4.91902869],\n",
       "       [ 4.85994634, -5.42507183],\n",
       "       [ 5.26068905, -4.91693843],\n",
       "       [ 4.70866863, -4.90555484],\n",
       "       [ 5.24647571, -4.99841221],\n",
       "       [ 5.24016944, -4.97652195]])"
      ]
     },
     "execution_count": 10,
     "metadata": {},
     "output_type": "execute_result"
    }
   ],
   "source": [
    "data"
   ]
  },
  {
   "cell_type": "code",
   "execution_count": 11,
   "id": "5d3f05e4",
   "metadata": {},
   "outputs": [],
   "source": [
    "#Set Parameters\n",
    "eps = 0.5\n",
    "min_samples = 5"
   ]
  },
  {
   "cell_type": "code",
   "execution_count": 13,
   "id": "ee40cd8c",
   "metadata": {},
   "outputs": [],
   "source": [
    "#Run DBSCAN Clustering\n",
    "cluster_labels = DBSCAN(data, eps, min_samples)"
   ]
  },
  {
   "cell_type": "code",
   "execution_count": 14,
   "id": "a5a4caf4",
   "metadata": {},
   "outputs": [
    {
     "data": {
      "image/png": "[encoded data removed]",
      "text/plain": [
       "<Figure size 640x480 with 1 Axes>"
      ]
     },
     "metadata": {},
     "output_type": "display_data"
    }
   ],
   "source": [
    "#Plot the results\n",
    "plt.scatter(data[:, 0], data[:, 1], c=cluster_labels, cmap='viridis', s=50)\n",
    "plt.title('DBSCAN Clustering')\n",
    "plt.show()"
   ]
  },
  {
   "cell_type": "code",
   "execution_count": null,
   "id": "82839cc6",
   "metadata": {},
   "outputs": [],
   "source": []
  },
  {
   "cell_type": "markdown",
   "id": "2bc9c915",
   "metadata": {},
   "source": [
    "## 2. using Sklean"
   ]
  },
  {
   "cell_type": "code",
   "execution_count": 17,
   "id": "5bc9e524",
   "metadata": {},
   "outputs": [],
   "source": [
    "from sklearn.cluster import DBSCAN"
   ]
  },
  {
   "cell_type": "code",
   "execution_count": 18,
   "id": "41fbc4a3",
   "metadata": {},
   "outputs": [],
   "source": [
    "np.random.seed(0)\n",
    "data = np.concatenate([np.random.randn(100, 2) * 0.3 + np.array([2, 2]),\n",
    "                      np.random.randn(100, 2) * 0.3 + np.array([-2, -2]),\n",
    "                      np.random.randn(20, 2) * 0.3 + np.array([5, -5]),\n",
    "                      ])"
   ]
  },
  {
   "cell_type": "code",
   "execution_count": 19,
   "id": "5d211836",
   "metadata": {},
   "outputs": [],
   "source": [
    "#Set Parameters\n",
    "eps = 0.5\n",
    "min_samples = 5"
   ]
  },
  {
   "cell_type": "code",
   "execution_count": 20,
   "id": "76b28605",
   "metadata": {},
   "outputs": [],
   "source": [
    "#Run DBSCAN Clustering\n",
    "dbscan = DBSCAN(eps = eps, min_samples = min_samples)\n",
    "cluster_labels = dbscan.fit_predict(data)"
   ]
  },
  {
   "cell_type": "code",
   "execution_count": 21,
   "id": "9b7784e9",
   "metadata": {},
   "outputs": [
    {
     "data": {
      "image/png": "[encoded data removed]",
      "text/plain": [
       "<Figure size 640x480 with 1 Axes>"
      ]
     },
     "metadata": {},
     "output_type": "display_data"
    }
   ],
   "source": [
    "#Plot the results\n",
    "plt.scatter(data[:, 0], data[:, 1], c=cluster_labels, cmap='viridis', s=50)\n",
    "plt.title('DBSCAN Clustering using SKlearn')\n",
    "plt.show()"
   ]
  },
  {
   "cell_type": "code",
   "execution_count": null,
   "id": "275e6c4b",
   "metadata": {},
   "outputs": [],
   "source": []
  },
  {
   "cell_type": "code",
   "execution_count": null,
   "id": "fa1345cb",
   "metadata": {},
   "outputs": [],
   "source": []
  },
  {
   "cell_type": "code",
   "execution_count": null,
   "id": "7db789eb",
   "metadata": {},
   "outputs": [],
   "source": []
  },
  {
   "cell_type": "code",
   "execution_count": null,
   "id": "03621f6c",
   "metadata": {},
   "outputs": [],
   "source": []
  },
  {
   "cell_type": "code",
   "execution_count": null,
   "id": "9af31379",
   "metadata": {},
   "outputs": [],
   "source": []
  },
  {
   "cell_type": "code",
   "execution_count": null,
   "id": "75688e52",
   "metadata": {},
   "outputs": [],
   "source": []
  },
  {
   "cell_type": "code",
   "execution_count": null,
   "id": "31054028",
   "metadata": {},
   "outputs": [],
   "source": []
  },
  {
   "cell_type": "code",
   "execution_count": null,
   "id": "dc5274c8",
   "metadata": {},
   "outputs": [],
   "source": []
  },
  {
   "cell_type": "code",
   "execution_count": null,
   "id": "d6116f70",
   "metadata": {},
   "outputs": [],
   "source": []
  },
  {
   "cell_type": "code",
   "execution_count": null,
   "id": "f641fe2e",
   "metadata": {},
   "outputs": [],
   "source": []
  },
  {
   "cell_type": "code",
   "execution_count": null,
   "id": "dd8729da",
   "metadata": {},
   "outputs": [],
   "source": []
  }
 ],
 "metadata": {
  "kernelspec": {
   "display_name": "Python 3 (ipykernel)",
   "language": "python",
   "name": "python3"
  },
  "language_info": {
   "codemirror_mode": {
    "name": "ipython",
    "version": 3
   },
   "file_extension": ".py",
   "mimetype": "text/x-python",
   "name": "python",
   "nbconvert_exporter": "python",
   "pygments_lexer": "ipython3",
   "version": "3.11.5"
  }
 },
 "nbformat": 4,
 "nbformat_minor": 5
}
