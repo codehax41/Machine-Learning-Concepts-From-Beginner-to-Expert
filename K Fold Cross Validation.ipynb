{
 "cells": [
  {
   "cell_type": "markdown",
   "id": "94f1bc92",
   "metadata": {},
   "source": [
    "# Manually"
   ]
  },
  {
   "cell_type": "code",
   "execution_count": 10,
   "id": "0884adc2",
   "metadata": {},
   "outputs": [],
   "source": [
    "import numpy as np\n",
    "from sklearn.linear_model import LogisticRegression"
   ]
  },
  {
   "cell_type": "code",
   "execution_count": 2,
   "id": "f0d41d73",
   "metadata": {},
   "outputs": [],
   "source": [
    "#Example data\n",
    "data = np.random.rand(100, 2)\n",
    "labels = np.random.randint(0, 2, 100)"
   ]
  },
  {
   "cell_type": "code",
   "execution_count": 3,
   "id": "c73cfd85",
   "metadata": {},
   "outputs": [
    {
     "data": {
      "text/plain": [
       "array([1, 1, 1, 1, 1, 0, 0, 1, 0, 0, 1, 1, 0, 0, 1, 0, 1, 1, 0, 1, 0, 0,\n",
       "       0, 1, 1, 0, 0, 1, 1, 0, 0, 0, 1, 0, 0, 0, 0, 1, 0, 1, 1, 1, 1, 1,\n",
       "       1, 0, 0, 0, 0, 0, 1, 1, 0, 1, 1, 0, 0, 1, 1, 1, 0, 1, 0, 0, 1, 0,\n",
       "       1, 1, 1, 1, 1, 1, 0, 1, 0, 1, 1, 1, 1, 1, 1, 1, 1, 0, 1, 0, 1, 1,\n",
       "       0, 0, 0, 1, 0, 1, 0, 1, 1, 1, 1, 1])"
      ]
     },
     "execution_count": 3,
     "metadata": {},
     "output_type": "execute_result"
    }
   ],
   "source": [
    "labels"
   ]
  },
  {
   "cell_type": "code",
   "execution_count": 6,
   "id": "92fe88c7",
   "metadata": {},
   "outputs": [],
   "source": [
    "#Number of folds\n",
    "k = 5"
   ]
  },
  {
   "cell_type": "code",
   "execution_count": 7,
   "id": "d76e7bec",
   "metadata": {},
   "outputs": [],
   "source": [
    "#Shuffle and split data into number of k folds\n",
    "indices = np.arange(len(data))\n",
    "np.random.shuffle(indices)\n",
    "fold_indices = np.array_split(indices, k)"
   ]
  },
  {
   "cell_type": "code",
   "execution_count": 8,
   "id": "71394bd4",
   "metadata": {},
   "outputs": [
    {
     "data": {
      "text/plain": [
       "[array([31, 10, 68, 75, 34, 60, 97, 94, 77, 29, 53, 50, 90, 42, 19, 27, 13,\n",
       "        11, 14, 41]),\n",
       " array([57, 43, 79, 49, 59, 45,  4, 98,  6, 48, 89, 81, 61, 35, 28, 64, 18,\n",
       "        65, 88,  9]),\n",
       " array([56, 70, 93, 95, 78, 17, 38, 83, 99, 22, 55, 62, 30, 47, 26, 40,  3,\n",
       "        84, 12, 71]),\n",
       " array([25, 67, 66, 46, 69, 96, 63, 20, 72, 58, 86, 39, 82, 16, 76,  0, 54,\n",
       "         2, 36, 33]),\n",
       " array([24, 23, 80, 21, 73, 85, 74, 91,  1, 32, 51, 92,  5,  8, 15, 44,  7,\n",
       "        37, 87, 52])]"
      ]
     },
     "execution_count": 8,
     "metadata": {},
     "output_type": "execute_result"
    }
   ],
   "source": [
    "fold_indices"
   ]
  },
  {
   "cell_type": "code",
   "execution_count": 9,
   "id": "feca2452",
   "metadata": {},
   "outputs": [],
   "source": [
    "#Store eval. results\n",
    "evaluation_results = []"
   ]
  },
  {
   "cell_type": "code",
   "execution_count": 17,
   "id": "478e2f96",
   "metadata": {},
   "outputs": [
    {
     "name": "stdout",
     "output_type": "stream",
     "text": [
      "Fold Number 1\n",
      "Mean Accuracy 0.546875\n",
      "Variance Accuracy 0.003896484375\n",
      "Fold Number 2\n",
      "Mean Accuracy 0.5441176470588235\n",
      "Variance Accuracy 0.003788927335640139\n",
      "Fold Number 3\n",
      "Mean Accuracy 0.5416666666666666\n",
      "Variance Accuracy 0.003680555555555556\n",
      "Fold Number 4\n",
      "Mean Accuracy 0.5473684210526316\n",
      "Variance Accuracy 0.004072022160664821\n",
      "Fold Number 5\n",
      "Mean Accuracy 0.55\n",
      "Variance Accuracy 0.003999999999999999\n"
     ]
    }
   ],
   "source": [
    "for i in range(k):\n",
    "    print(\"Fold Number\", i+1)\n",
    "    #Split the data into train and test\n",
    "    test_indices = fold_indices[i]\n",
    "    train_indices = np.concatenate([fold_indices[j] for j in range(k) if j !=i])\n",
    "    X_train, y_train = data[train_indices], labels[train_indices]\n",
    "    X_test, y_test = data[test_indices], labels[test_indices]\n",
    "    \n",
    "    #Train our ML model\n",
    "    model = LogisticRegression()\n",
    "    \n",
    "    #Fit model\n",
    "    model.fit(X_train, y_train)\n",
    "    \n",
    "    #accuracy\n",
    "    accuracy = model.score(X_test, y_test)\n",
    "    \n",
    "    #Append the evaluation result\n",
    "    evaluation_results.append(accuracy)\n",
    "    \n",
    "    #Calculate mean and variance of evaluation results\n",
    "    mean_accuracy = np.mean(evaluation_results)\n",
    "    variance_accuracy = np.var(evaluation_results)\n",
    "    \n",
    "    print(\"Mean Accuracy\", mean_accuracy)\n",
    "    print(\"Variance Accuracy\", variance_accuracy)"
   ]
  },
  {
   "cell_type": "code",
   "execution_count": null,
   "id": "4380cb0a",
   "metadata": {},
   "outputs": [],
   "source": []
  },
  {
   "cell_type": "code",
   "execution_count": null,
   "id": "9cf6b597",
   "metadata": {},
   "outputs": [],
   "source": []
  },
  {
   "cell_type": "code",
   "execution_count": null,
   "id": "acebc535",
   "metadata": {},
   "outputs": [],
   "source": []
  },
  {
   "cell_type": "markdown",
   "id": "0862d4cc",
   "metadata": {},
   "source": [
    "# using sklearn"
   ]
  },
  {
   "cell_type": "code",
   "execution_count": 20,
   "id": "e8d672c8",
   "metadata": {},
   "outputs": [],
   "source": [
    "from sklearn.datasets import load_wine\n",
    "from sklearn.model_selection import cross_val_score"
   ]
  },
  {
   "cell_type": "code",
   "execution_count": 21,
   "id": "f0972c31",
   "metadata": {},
   "outputs": [],
   "source": [
    "#Load wine dataset\n",
    "wine = load_wine()\n",
    "X = wine.data\n",
    "y = wine.target"
   ]
  },
  {
   "cell_type": "code",
   "execution_count": 22,
   "id": "99a2e6ab",
   "metadata": {},
   "outputs": [
    {
     "data": {
      "text/plain": [
       "array([0, 0, 0, 0, 0, 0, 0, 0, 0, 0, 0, 0, 0, 0, 0, 0, 0, 0, 0, 0, 0, 0,\n",
       "       0, 0, 0, 0, 0, 0, 0, 0, 0, 0, 0, 0, 0, 0, 0, 0, 0, 0, 0, 0, 0, 0,\n",
       "       0, 0, 0, 0, 0, 0, 0, 0, 0, 0, 0, 0, 0, 0, 0, 1, 1, 1, 1, 1, 1, 1,\n",
       "       1, 1, 1, 1, 1, 1, 1, 1, 1, 1, 1, 1, 1, 1, 1, 1, 1, 1, 1, 1, 1, 1,\n",
       "       1, 1, 1, 1, 1, 1, 1, 1, 1, 1, 1, 1, 1, 1, 1, 1, 1, 1, 1, 1, 1, 1,\n",
       "       1, 1, 1, 1, 1, 1, 1, 1, 1, 1, 1, 1, 1, 1, 1, 1, 1, 1, 1, 1, 2, 2,\n",
       "       2, 2, 2, 2, 2, 2, 2, 2, 2, 2, 2, 2, 2, 2, 2, 2, 2, 2, 2, 2, 2, 2,\n",
       "       2, 2, 2, 2, 2, 2, 2, 2, 2, 2, 2, 2, 2, 2, 2, 2, 2, 2, 2, 2, 2, 2,\n",
       "       2, 2])"
      ]
     },
     "execution_count": 22,
     "metadata": {},
     "output_type": "execute_result"
    }
   ],
   "source": [
    "y"
   ]
  },
  {
   "cell_type": "code",
   "execution_count": 23,
   "id": "3ca637af",
   "metadata": {},
   "outputs": [
    {
     "data": {
      "text/plain": [
       "array([[1.423e+01, 1.710e+00, 2.430e+00, ..., 1.040e+00, 3.920e+00,\n",
       "        1.065e+03],\n",
       "       [1.320e+01, 1.780e+00, 2.140e+00, ..., 1.050e+00, 3.400e+00,\n",
       "        1.050e+03],\n",
       "       [1.316e+01, 2.360e+00, 2.670e+00, ..., 1.030e+00, 3.170e+00,\n",
       "        1.185e+03],\n",
       "       ...,\n",
       "       [1.327e+01, 4.280e+00, 2.260e+00, ..., 5.900e-01, 1.560e+00,\n",
       "        8.350e+02],\n",
       "       [1.317e+01, 2.590e+00, 2.370e+00, ..., 6.000e-01, 1.620e+00,\n",
       "        8.400e+02],\n",
       "       [1.413e+01, 4.100e+00, 2.740e+00, ..., 6.100e-01, 1.600e+00,\n",
       "        5.600e+02]])"
      ]
     },
     "execution_count": 23,
     "metadata": {},
     "output_type": "execute_result"
    }
   ],
   "source": [
    "X"
   ]
  },
  {
   "cell_type": "code",
   "execution_count": 24,
   "id": "7608a681",
   "metadata": {
    "scrolled": true
   },
   "outputs": [
    {
     "name": "stderr",
     "output_type": "stream",
     "text": [
      "C:\\Users\\ramsu\\anaconda3\\Lib\\site-packages\\sklearn\\linear_model\\_logistic.py:460: ConvergenceWarning: lbfgs failed to converge (status=1):\n",
      "STOP: TOTAL NO. of ITERATIONS REACHED LIMIT.\n",
      "\n",
      "Increase the number of iterations (max_iter) or scale the data as shown in:\n",
      "    https://scikit-learn.org/stable/modules/preprocessing.html\n",
      "Please also refer to the documentation for alternative solver options:\n",
      "    https://scikit-learn.org/stable/modules/linear_model.html#logistic-regression\n",
      "  n_iter_i = _check_optimize_result(\n",
      "C:\\Users\\ramsu\\anaconda3\\Lib\\site-packages\\sklearn\\linear_model\\_logistic.py:460: ConvergenceWarning: lbfgs failed to converge (status=1):\n",
      "STOP: TOTAL NO. of ITERATIONS REACHED LIMIT.\n",
      "\n",
      "Increase the number of iterations (max_iter) or scale the data as shown in:\n",
      "    https://scikit-learn.org/stable/modules/preprocessing.html\n",
      "Please also refer to the documentation for alternative solver options:\n",
      "    https://scikit-learn.org/stable/modules/linear_model.html#logistic-regression\n",
      "  n_iter_i = _check_optimize_result(\n",
      "C:\\Users\\ramsu\\anaconda3\\Lib\\site-packages\\sklearn\\linear_model\\_logistic.py:460: ConvergenceWarning: lbfgs failed to converge (status=1):\n",
      "STOP: TOTAL NO. of ITERATIONS REACHED LIMIT.\n",
      "\n",
      "Increase the number of iterations (max_iter) or scale the data as shown in:\n",
      "    https://scikit-learn.org/stable/modules/preprocessing.html\n",
      "Please also refer to the documentation for alternative solver options:\n",
      "    https://scikit-learn.org/stable/modules/linear_model.html#logistic-regression\n",
      "  n_iter_i = _check_optimize_result(\n",
      "C:\\Users\\ramsu\\anaconda3\\Lib\\site-packages\\sklearn\\linear_model\\_logistic.py:460: ConvergenceWarning: lbfgs failed to converge (status=1):\n",
      "STOP: TOTAL NO. of ITERATIONS REACHED LIMIT.\n",
      "\n",
      "Increase the number of iterations (max_iter) or scale the data as shown in:\n",
      "    https://scikit-learn.org/stable/modules/preprocessing.html\n",
      "Please also refer to the documentation for alternative solver options:\n",
      "    https://scikit-learn.org/stable/modules/linear_model.html#logistic-regression\n",
      "  n_iter_i = _check_optimize_result(\n",
      "C:\\Users\\ramsu\\anaconda3\\Lib\\site-packages\\sklearn\\linear_model\\_logistic.py:460: ConvergenceWarning: lbfgs failed to converge (status=1):\n",
      "STOP: TOTAL NO. of ITERATIONS REACHED LIMIT.\n",
      "\n",
      "Increase the number of iterations (max_iter) or scale the data as shown in:\n",
      "    https://scikit-learn.org/stable/modules/preprocessing.html\n",
      "Please also refer to the documentation for alternative solver options:\n",
      "    https://scikit-learn.org/stable/modules/linear_model.html#logistic-regression\n",
      "  n_iter_i = _check_optimize_result(\n"
     ]
    }
   ],
   "source": [
    "model = LogisticRegression(max_iter=1000)\n",
    "\n",
    "#number of folds\n",
    "K =5\n",
    "score = cross_val_score(model, X, y, cv=k, scoring='accuracy')"
   ]
  },
  {
   "cell_type": "code",
   "execution_count": 27,
   "id": "9358812b",
   "metadata": {},
   "outputs": [
    {
     "name": "stdout",
     "output_type": "stream",
     "text": [
      "Cross validation (k=5) Mean Accuracy 0.961111111111111\n",
      "Individual Fold Score [0.91666667 0.94444444 0.94444444 1.         1.        ]\n"
     ]
    }
   ],
   "source": [
    "mean_accuracy = np.mean(score)\n",
    "print(f\"Cross validation (k={k}) Mean Accuracy\", mean_accuracy)\n",
    "print(\"Individual Fold Score\", score)"
   ]
  },
  {
   "cell_type": "code",
   "execution_count": null,
   "id": "b6f6048f",
   "metadata": {},
   "outputs": [],
   "source": []
  },
  {
   "cell_type": "code",
   "execution_count": null,
   "id": "ddbfae51",
   "metadata": {},
   "outputs": [],
   "source": []
  },
  {
   "cell_type": "code",
   "execution_count": null,
   "id": "f1e98c82",
   "metadata": {},
   "outputs": [],
   "source": []
  },
  {
   "cell_type": "code",
   "execution_count": null,
   "id": "a9d58d43",
   "metadata": {},
   "outputs": [],
   "source": []
  },
  {
   "cell_type": "code",
   "execution_count": null,
   "id": "907cbd71",
   "metadata": {},
   "outputs": [],
   "source": []
  },
  {
   "cell_type": "code",
   "execution_count": null,
   "id": "c0ef7b45",
   "metadata": {},
   "outputs": [],
   "source": []
  },
  {
   "cell_type": "code",
   "execution_count": null,
   "id": "491cda6a",
   "metadata": {},
   "outputs": [],
   "source": []
  }
 ],
 "metadata": {
  "kernelspec": {
   "display_name": "Python 3 (ipykernel)",
   "language": "python",
   "name": "python3"
  },
  "language_info": {
   "codemirror_mode": {
    "name": "ipython",
    "version": 3
   },
   "file_extension": ".py",
   "mimetype": "text/x-python",
   "name": "python",
   "nbconvert_exporter": "python",
   "pygments_lexer": "ipython3",
   "version": "3.11.5"
  }
 },
 "nbformat": 4,
 "nbformat_minor": 5
}
