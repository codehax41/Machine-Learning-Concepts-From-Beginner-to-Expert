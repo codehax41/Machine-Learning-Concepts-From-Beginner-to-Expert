{
 "cells": [
  {
   "cell_type": "code",
   "execution_count": 8,
   "id": "99d4bb86",
   "metadata": {},
   "outputs": [],
   "source": [
    "from sklearn.datasets import load_iris\n",
    "from sklearn.model_selection import train_test_split\n",
    "from sklearn.metrics import accuracy_score"
   ]
  },
  {
   "cell_type": "markdown",
   "id": "dbd4a7e7",
   "metadata": {},
   "source": [
    "## Decision Tree Classifier using Numpy"
   ]
  },
  {
   "cell_type": "code",
   "execution_count": 2,
   "id": "49e762ae",
   "metadata": {},
   "outputs": [],
   "source": [
    "class Node:\n",
    "    def __init__(self, feature=None, threshold=None, left=None, right=None, value=None):\n",
    "        self.feature = feature\n",
    "        self.threshold = threshold\n",
    "        self.left = left\n",
    "        self.right = right\n",
    "        self.value = value\n",
    "\n",
    "class DecisionTreeClassifier:\n",
    "    def __init__(self, max_depth=None):\n",
    "        self.root = None\n",
    "        self.max_depth = max_depth\n",
    "\n",
    "    def fit(self, X, y):\n",
    "        self.root = self._grow_tree(X, y)\n",
    "\n",
    "    def _grow_tree(self, X, y, depth=0):\n",
    "        n_samples, n_features = X.shape\n",
    "        n_classes = len(set(y))\n",
    "\n",
    "        if depth >= self.max_depth or n_classes == 1 or n_samples <= 2:\n",
    "            return Node(value=max(y))\n",
    "\n",
    "        best_gini = float('inf')\n",
    "        best_feature, best_threshold = None, None\n",
    "\n",
    "        for feature in range(n_features):\n",
    "            thresholds = sorted(set(X[:, feature]))\n",
    "\n",
    "            for threshold in thresholds:\n",
    "                left_indices = X[:, feature] <= threshold\n",
    "                right_indices = X[:, feature] > threshold\n",
    "\n",
    "                if sum(left_indices) == 0 or sum(right_indices) == 0:\n",
    "                    continue\n",
    "\n",
    "                gini = self._calculate_gini(y[left_indices], y[right_indices])\n",
    "                \n",
    "                if gini < best_gini:\n",
    "                    best_gini = gini\n",
    "                    best_feature = feature\n",
    "                    best_threshold = threshold\n",
    "\n",
    "        left_indices = X[:, best_feature] <= best_threshold\n",
    "        right_indices = X[:, best_feature] > best_threshold\n",
    "\n",
    "        left = self._grow_tree(X[left_indices], y[left_indices], depth + 1)\n",
    "        right = self._grow_tree(X[right_indices], y[right_indices], depth + 1)\n",
    "\n",
    "        return Node(feature=best_feature, threshold=best_threshold, left=left, right=right)\n",
    "\n",
    "    def _calculate_gini(self, left_labels, right_labels):\n",
    "        total = len(left_labels) + len(right_labels)\n",
    "        gini_left = 1.0 - sum([(left_labels == c).mean()**2 for c in set(left_labels)])\n",
    "        gini_right = 1.0 - sum([(right_labels == c).mean()**2 for c in set(right_labels)])\n",
    "        return (len(left_labels) / total) * gini_left + (len(right_labels) / total) * gini_right\n",
    "\n",
    "    def predict(self, X):\n",
    "        return [self._traverse_tree(x, self.root) for x in X]\n",
    "\n",
    "    def _traverse_tree(self, x, node):\n",
    "        if node.value is not None:\n",
    "            return node.value\n",
    "        \n",
    "        if x[node.feature] <= node.threshold:\n",
    "            return self._traverse_tree(x, node.left)\n",
    "        else:\n",
    "            return self._traverse_tree(x, node.right)"
   ]
  },
  {
   "cell_type": "code",
   "execution_count": 3,
   "id": "5ae0e9b2",
   "metadata": {},
   "outputs": [],
   "source": [
    "#Load Iris Data\n",
    "iris = load_iris()\n",
    "X, y = iris.data, iris.target"
   ]
  },
  {
   "cell_type": "code",
   "execution_count": 4,
   "id": "43920cea",
   "metadata": {},
   "outputs": [],
   "source": [
    "#Split the data\n",
    "X_train, X_test, y_train, y_test = train_test_split(X, y, test_size=.2, random_state=42)"
   ]
  },
  {
   "cell_type": "code",
   "execution_count": 5,
   "id": "100f514e",
   "metadata": {},
   "outputs": [
    {
     "name": "stdout",
     "output_type": "stream",
     "text": [
      "Accuracy: 0.9666666666666667\n"
     ]
    }
   ],
   "source": [
    "#Create the DT classifier instance\n",
    "clf = DecisionTreeClassifier(max_depth=3)\n",
    "clf.fit(X_train, y_train)\n",
    "\n",
    "#Predict our test set\n",
    "y_pred = clf.predict(X_test)\n",
    "\n",
    "#Accuracy\n",
    "accuracy = accuracy_score(y_test, y_pred)\n",
    "print(f\"Accuracy: {accuracy}\")"
   ]
  },
  {
   "cell_type": "markdown",
   "id": "8a2efee1",
   "metadata": {},
   "source": [
    "## Decision Tree Regression using Numpy"
   ]
  },
  {
   "cell_type": "code",
   "execution_count": 3,
   "id": "320616a4",
   "metadata": {},
   "outputs": [],
   "source": [
    "import warnings\n",
    "warnings.filterwarnings('ignore')"
   ]
  },
  {
   "cell_type": "code",
   "execution_count": 2,
   "id": "3fb17ed6",
   "metadata": {},
   "outputs": [],
   "source": [
    "class Node:\n",
    "    def __init__(self, feature=None, threshold=None, left=None, right=None, value=None):\n",
    "        self.feature = feature\n",
    "        self.threshold = threshold\n",
    "        self.left = left\n",
    "        self.right = right\n",
    "        self.value = value\n",
    "\n",
    "class DecisionTreeRegressor:\n",
    "    def __init__(self, max_depth=None):\n",
    "        self.root = None\n",
    "        self.max_depth = max_depth\n",
    "\n",
    "    def fit(self, X, y):\n",
    "        self.root = self._grow_tree(X, y)\n",
    "\n",
    "    def _grow_tree(self, X, y, depth=0):\n",
    "        n_samples, n_features = X.shape\n",
    "\n",
    "        if depth >= self.max_depth or n_samples <= 2:\n",
    "            return Node(value=np.mean(y))\n",
    "\n",
    "        best_variance = float('inf')\n",
    "        best_feature, best_threshold = None, None\n",
    "\n",
    "        for feature in range(n_features):\n",
    "            thresholds = sorted(set(X[:, feature]))\n",
    "\n",
    "            for threshold in thresholds:\n",
    "                left_indices = X[:, feature] <= threshold\n",
    "                right_indices = X[:, feature] > threshold\n",
    "\n",
    "                if sum(left_indices) == 0 or sum(right_indices) == 0:\n",
    "                    continue\n",
    "\n",
    "                variance = self._calculate_variance(y[left_indices], y[right_indices])\n",
    "                \n",
    "                if variance < best_variance:\n",
    "                    best_variance = variance\n",
    "                    best_feature = feature\n",
    "                    best_threshold = threshold\n",
    "\n",
    "        left_indices = X[:, best_feature] <= best_threshold\n",
    "        right_indices = X[:, best_feature] > best_threshold\n",
    "\n",
    "        left = self._grow_tree(X[left_indices], y[left_indices], depth + 1)\n",
    "        right = self._grow_tree(X[right_indices], y[right_indices], depth + 1)\n",
    "\n",
    "        return Node(feature=best_feature, threshold=best_threshold, left=left, right=right)\n",
    "\n",
    "    def _calculate_variance(self, left_value, right_value):\n",
    "        var_left = np.var(left_value)\n",
    "        var_right = np.var(right_value)\n",
    "        return (len(left_value) * var_left + len(right_value) * var_right) / (len(left_value) + len(right_value))\n",
    "        \n",
    "\n",
    "    def predict(self, X):\n",
    "        return [self._traverse_tree(x, self.root) for x in X]\n",
    "\n",
    "    def _traverse_tree(self, x, node):\n",
    "        if node.value is not None:\n",
    "            return node.value\n",
    "        \n",
    "        if x[node.feature] <= node.threshold:\n",
    "            return self._traverse_tree(x, node.left)\n",
    "        else:\n",
    "            return self._traverse_tree(x, node.right)"
   ]
  },
  {
   "cell_type": "code",
   "execution_count": 11,
   "id": "bb248182",
   "metadata": {},
   "outputs": [],
   "source": [
    "from sklearn.datasets import load_diabetes\n",
    "import numpy as np\n",
    "from sklearn.metrics import mean_squared_error"
   ]
  },
  {
   "cell_type": "code",
   "execution_count": 6,
   "id": "feb0d607",
   "metadata": {},
   "outputs": [],
   "source": [
    "#Load Diabetes Data\n",
    "diabetes = load_diabetes()\n",
    "X, y = diabetes.data, diabetes.target"
   ]
  },
  {
   "cell_type": "code",
   "execution_count": 9,
   "id": "cecf78a0",
   "metadata": {},
   "outputs": [],
   "source": [
    "#Split the data\n",
    "X_train, X_test, y_train, y_test = train_test_split(X, y, test_size=.2, random_state=42)"
   ]
  },
  {
   "cell_type": "code",
   "execution_count": 13,
   "id": "2402ac0a",
   "metadata": {},
   "outputs": [
    {
     "name": "stdout",
     "output_type": "stream",
     "text": [
      "Mean Squared Error: 3656.186930948001\n"
     ]
    }
   ],
   "source": [
    "#Create the DT Regressor instance\n",
    "clf = DecisionTreeRegressor(max_depth=3)\n",
    "clf.fit(X_train, y_train)\n",
    "\n",
    "#Predict our test set\n",
    "y_pred = clf.predict(X_test)\n",
    "\n",
    "#Accuracy\n",
    "accuracy = mean_squared_error(y_test, y_pred)\n",
    "print(f\"Mean Squared Error: {accuracy}\")"
   ]
  },
  {
   "cell_type": "code",
   "execution_count": 14,
   "id": "2639245d",
   "metadata": {},
   "outputs": [
    {
     "name": "stdout",
     "output_type": "stream",
     "text": [
      "Mean Squared Error: 3773.658597184514\n"
     ]
    }
   ],
   "source": [
    "#Create the DT Regressor instance\n",
    "clf = DecisionTreeRegressor(max_depth=5)\n",
    "clf.fit(X_train, y_train)\n",
    "\n",
    "#Predict our test set\n",
    "y_pred = clf.predict(X_test)\n",
    "\n",
    "#Accuracy\n",
    "accuracy = mean_squared_error(y_test, y_pred)\n",
    "print(f\"Mean Squared Error: {accuracy}\")"
   ]
  },
  {
   "cell_type": "code",
   "execution_count": 15,
   "id": "d6e9bc24",
   "metadata": {},
   "outputs": [
    {
     "name": "stdout",
     "output_type": "stream",
     "text": [
      "Mean Squared Error: 3866.038156768628\n"
     ]
    }
   ],
   "source": [
    "#Create the DT Regressor instance\n",
    "clf = DecisionTreeRegressor(max_depth=2)\n",
    "clf.fit(X_train, y_train)\n",
    "\n",
    "#Predict our test set\n",
    "y_pred = clf.predict(X_test)\n",
    "\n",
    "#Accuracy\n",
    "accuracy = mean_squared_error(y_test, y_pred)\n",
    "print(f\"Mean Squared Error: {accuracy}\")"
   ]
  },
  {
   "cell_type": "code",
   "execution_count": null,
   "id": "3984db56",
   "metadata": {},
   "outputs": [],
   "source": []
  },
  {
   "cell_type": "markdown",
   "id": "670eb778",
   "metadata": {},
   "source": [
    "## Sklearn Implementation of DT Classifier"
   ]
  },
  {
   "cell_type": "code",
   "execution_count": 16,
   "id": "b1924379",
   "metadata": {},
   "outputs": [],
   "source": [
    "from sklearn.datasets import load_iris\n",
    "from sklearn.tree import DecisionTreeClassifier\n",
    "from sklearn.model_selection import train_test_split\n",
    "from sklearn.metrics import accuracy_score"
   ]
  },
  {
   "cell_type": "code",
   "execution_count": 17,
   "id": "910f5f39",
   "metadata": {},
   "outputs": [],
   "source": [
    "#Load Iris Data\n",
    "iris = load_iris()\n",
    "X, y = iris.data, iris.target"
   ]
  },
  {
   "cell_type": "code",
   "execution_count": 18,
   "id": "17d1c672",
   "metadata": {},
   "outputs": [],
   "source": [
    "#Split the data\n",
    "X_train, X_test, y_train, y_test = train_test_split(X, y, test_size=.2, random_state=42)"
   ]
  },
  {
   "cell_type": "code",
   "execution_count": 19,
   "id": "a3664f69",
   "metadata": {
    "scrolled": true
   },
   "outputs": [
    {
     "name": "stdout",
     "output_type": "stream",
     "text": [
      "Accuracy: 1.0\n"
     ]
    }
   ],
   "source": [
    "#Create the DT classifier instance\n",
    "clf = DecisionTreeClassifier(random_state=10)\n",
    "clf.fit(X_train, y_train)\n",
    "\n",
    "#Predict our test set\n",
    "y_pred = clf.predict(X_test)\n",
    "\n",
    "#Accuracy\n",
    "accuracy = accuracy_score(y_test, y_pred)\n",
    "print(f\"Accuracy: {accuracy}\")"
   ]
  },
  {
   "cell_type": "code",
   "execution_count": null,
   "id": "c5d59659",
   "metadata": {},
   "outputs": [],
   "source": []
  },
  {
   "cell_type": "markdown",
   "id": "087e7f1c",
   "metadata": {},
   "source": [
    "## Sklearn Implementation of DT Regressor"
   ]
  },
  {
   "cell_type": "code",
   "execution_count": 20,
   "id": "8aef17bf",
   "metadata": {},
   "outputs": [],
   "source": [
    "## Sklearn Implementation of DT Regressor\n",
    "from sklearn.datasets import load_iris\n",
    "from sklearn.tree import DecisionTreeRegressor\n",
    "from sklearn.model_selection import train_test_split\n",
    "from sklearn.metrics import mean_squared_error"
   ]
  },
  {
   "cell_type": "code",
   "execution_count": 21,
   "id": "e2bdd2ef",
   "metadata": {},
   "outputs": [],
   "source": [
    "#Load Diabetes Data\n",
    "diabetes = load_diabetes()\n",
    "X, y = diabetes.data, diabetes.target"
   ]
  },
  {
   "cell_type": "code",
   "execution_count": 22,
   "id": "3cb71410",
   "metadata": {},
   "outputs": [],
   "source": [
    "#Split the data\n",
    "X_train, X_test, y_train, y_test = train_test_split(X, y, test_size=.2, random_state=42)"
   ]
  },
  {
   "cell_type": "code",
   "execution_count": 23,
   "id": "ede87f8b",
   "metadata": {},
   "outputs": [
    {
     "name": "stdout",
     "output_type": "stream",
     "text": [
      "Mean Squared Error: 4686.191011235955\n"
     ]
    }
   ],
   "source": [
    "#Create the DT Regressor instance\n",
    "clf = DecisionTreeRegressor(random_state=11)\n",
    "clf.fit(X_train, y_train)\n",
    "\n",
    "#Predict our test set\n",
    "y_pred = clf.predict(X_test)\n",
    "\n",
    "#Accuracy\n",
    "accuracy = mean_squared_error(y_test, y_pred)\n",
    "print(f\"Mean Squared Error: {accuracy}\")"
   ]
  },
  {
   "cell_type": "code",
   "execution_count": null,
   "id": "5c2df28a",
   "metadata": {},
   "outputs": [],
   "source": []
  }
 ],
 "metadata": {
  "kernelspec": {
   "display_name": "Python 3 (ipykernel)",
   "language": "python",
   "name": "python3"
  },
  "language_info": {
   "codemirror_mode": {
    "name": "ipython",
    "version": 3
   },
   "file_extension": ".py",
   "mimetype": "text/x-python",
   "name": "python",
   "nbconvert_exporter": "python",
   "pygments_lexer": "ipython3",
   "version": "3.11.5"
  }
 },
 "nbformat": 4,
 "nbformat_minor": 5
}
