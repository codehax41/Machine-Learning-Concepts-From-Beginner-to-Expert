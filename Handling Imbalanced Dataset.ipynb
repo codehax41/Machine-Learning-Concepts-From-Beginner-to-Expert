{
 "cells": [
  {
   "cell_type": "markdown",
   "id": "81303cf5",
   "metadata": {},
   "source": [
    "1. Undersampling\n",
    "2. Oversampling/SMOTE\n",
    "3. Cost Sensitive Learning\n",
    "4. Ensemble Method"
   ]
  },
  {
   "cell_type": "code",
   "execution_count": 8,
   "id": "56971c8c",
   "metadata": {},
   "outputs": [],
   "source": [
    "#Import necessary libraries\n",
    "import pandas as pd\n",
    "import numpy as np"
   ]
  },
  {
   "cell_type": "code",
   "execution_count": 9,
   "id": "6f6b7156",
   "metadata": {},
   "outputs": [],
   "source": [
    "#Creating imbalanced dataset\n",
    "data = {\n",
    "    'Feature1': np.random.randint(1, 100, 100),\n",
    "    'Feature2': np.random.rand(100),\n",
    "    'Label': np.random.choice(['A','B','C'], size=100, p = [0.7, 0.2, 0.1])\n",
    "}\n",
    "df = pd.DataFrame(data)\n"
   ]
  },
  {
   "cell_type": "code",
   "execution_count": 3,
   "id": "da81fe09",
   "metadata": {
    "scrolled": true
   },
   "outputs": [
    {
     "data": {
      "text/html": [
       "<div>\n",
       "<style scoped>\n",
       "    .dataframe tbody tr th:only-of-type {\n",
       "        vertical-align: middle;\n",
       "    }\n",
       "\n",
       "    .dataframe tbody tr th {\n",
       "        vertical-align: top;\n",
       "    }\n",
       "\n",
       "    .dataframe thead th {\n",
       "        text-align: right;\n",
       "    }\n",
       "</style>\n",
       "<table border=\"1\" class=\"dataframe\">\n",
       "  <thead>\n",
       "    <tr style=\"text-align: right;\">\n",
       "      <th></th>\n",
       "      <th>Feature1</th>\n",
       "      <th>Feature2</th>\n",
       "      <th>Label</th>\n",
       "    </tr>\n",
       "  </thead>\n",
       "  <tbody>\n",
       "    <tr>\n",
       "      <th>0</th>\n",
       "      <td>7</td>\n",
       "      <td>0.518193</td>\n",
       "      <td>A</td>\n",
       "    </tr>\n",
       "    <tr>\n",
       "      <th>1</th>\n",
       "      <td>40</td>\n",
       "      <td>0.501147</td>\n",
       "      <td>B</td>\n",
       "    </tr>\n",
       "    <tr>\n",
       "      <th>2</th>\n",
       "      <td>47</td>\n",
       "      <td>0.062595</td>\n",
       "      <td>A</td>\n",
       "    </tr>\n",
       "    <tr>\n",
       "      <th>3</th>\n",
       "      <td>38</td>\n",
       "      <td>0.215300</td>\n",
       "      <td>A</td>\n",
       "    </tr>\n",
       "    <tr>\n",
       "      <th>4</th>\n",
       "      <td>14</td>\n",
       "      <td>0.754391</td>\n",
       "      <td>A</td>\n",
       "    </tr>\n",
       "    <tr>\n",
       "      <th>...</th>\n",
       "      <td>...</td>\n",
       "      <td>...</td>\n",
       "      <td>...</td>\n",
       "    </tr>\n",
       "    <tr>\n",
       "      <th>95</th>\n",
       "      <td>61</td>\n",
       "      <td>0.834793</td>\n",
       "      <td>A</td>\n",
       "    </tr>\n",
       "    <tr>\n",
       "      <th>96</th>\n",
       "      <td>6</td>\n",
       "      <td>0.120615</td>\n",
       "      <td>A</td>\n",
       "    </tr>\n",
       "    <tr>\n",
       "      <th>97</th>\n",
       "      <td>34</td>\n",
       "      <td>0.079443</td>\n",
       "      <td>B</td>\n",
       "    </tr>\n",
       "    <tr>\n",
       "      <th>98</th>\n",
       "      <td>58</td>\n",
       "      <td>0.895560</td>\n",
       "      <td>A</td>\n",
       "    </tr>\n",
       "    <tr>\n",
       "      <th>99</th>\n",
       "      <td>68</td>\n",
       "      <td>0.741014</td>\n",
       "      <td>A</td>\n",
       "    </tr>\n",
       "  </tbody>\n",
       "</table>\n",
       "<p>100 rows × 3 columns</p>\n",
       "</div>"
      ],
      "text/plain": [
       "    Feature1  Feature2 Label\n",
       "0          7  0.518193     A\n",
       "1         40  0.501147     B\n",
       "2         47  0.062595     A\n",
       "3         38  0.215300     A\n",
       "4         14  0.754391     A\n",
       "..       ...       ...   ...\n",
       "95        61  0.834793     A\n",
       "96         6  0.120615     A\n",
       "97        34  0.079443     B\n",
       "98        58  0.895560     A\n",
       "99        68  0.741014     A\n",
       "\n",
       "[100 rows x 3 columns]"
      ]
     },
     "execution_count": 3,
     "metadata": {},
     "output_type": "execute_result"
    }
   ],
   "source": [
    "df"
   ]
  },
  {
   "cell_type": "code",
   "execution_count": 4,
   "id": "4ad34b54",
   "metadata": {},
   "outputs": [
    {
     "name": "stdout",
     "output_type": "stream",
     "text": [
      "original Class Distribution\n"
     ]
    },
    {
     "data": {
      "text/plain": [
       "Label\n",
       "A    68\n",
       "B    26\n",
       "C     6\n",
       "Name: count, dtype: int64"
      ]
     },
     "execution_count": 4,
     "metadata": {},
     "output_type": "execute_result"
    }
   ],
   "source": [
    "print(\"original Class Distribution\")\n",
    "df['Label'].value_counts()"
   ]
  },
  {
   "cell_type": "markdown",
   "id": "38207abf",
   "metadata": {},
   "source": [
    "### 1. Oversampling"
   ]
  },
  {
   "cell_type": "code",
   "execution_count": 11,
   "id": "22e73116",
   "metadata": {},
   "outputs": [],
   "source": [
    "from imblearn.over_sampling import RandomOverSampler"
   ]
  },
  {
   "cell_type": "code",
   "execution_count": 10,
   "id": "ad2aa272",
   "metadata": {},
   "outputs": [],
   "source": [
    "X = df[['Feature1', 'Feature2']]\n",
    "y = df['Label']"
   ]
  },
  {
   "cell_type": "code",
   "execution_count": 12,
   "id": "501d8d55",
   "metadata": {},
   "outputs": [
    {
     "name": "stdout",
     "output_type": "stream",
     "text": [
      "Class Distribution after Random Overampling\n",
      "Label\n",
      "A    75\n",
      "B    75\n",
      "C    75\n",
      "Name: count, dtype: int64\n"
     ]
    }
   ],
   "source": [
    "#Create the instance for RandomOverSampler\n",
    "ros = RandomOverSampler(random_state=42)\n",
    "\n",
    "#Resample the dataset\n",
    "X_resampled, y_resampled = ros.fit_resample(X, y)\n",
    "\n",
    "#Convert the resampled data back to a dataframe if needed\n",
    "oversampled_df = pd.concat([pd.DataFrame(X_resampled, columns=X.columns), pd.DataFrame({'Label': y_resampled})],axis=1)\n",
    "\n",
    "print('Class Distribution after Random Overampling')\n",
    "print(oversampled_df['Label'].value_counts())"
   ]
  },
  {
   "cell_type": "markdown",
   "id": "f0bd5e83",
   "metadata": {},
   "source": [
    "### Cost Sensitive Learning"
   ]
  },
  {
   "cell_type": "code",
   "execution_count": 13,
   "id": "a0862af7",
   "metadata": {},
   "outputs": [],
   "source": [
    "from sklearn.model_selection import train_test_split"
   ]
  },
  {
   "cell_type": "code",
   "execution_count": 14,
   "id": "5e47f030",
   "metadata": {},
   "outputs": [],
   "source": [
    "from sklearn.preprocessing import LabelEncoder\n",
    "from sklearn.ensemble import RandomForestClassifier\n",
    "from sklearn.utils import class_weight"
   ]
  },
  {
   "cell_type": "code",
   "execution_count": 15,
   "id": "39815fec",
   "metadata": {},
   "outputs": [],
   "source": [
    "#Initialize the label encoder\n",
    "label_encoder = LabelEncoder()"
   ]
  },
  {
   "cell_type": "code",
   "execution_count": 16,
   "id": "5d560277",
   "metadata": {},
   "outputs": [],
   "source": [
    "X_train, X_test, y_train, y_test = train_test_split(X, y, test_size=0.2, random_state=42)"
   ]
  },
  {
   "cell_type": "code",
   "execution_count": 17,
   "id": "8f683e35",
   "metadata": {},
   "outputs": [],
   "source": [
    "#Encode the target labels\n",
    "y_train_encoded = label_encoder.fit_transform(y_train)\n",
    "\n",
    "#Calculate class weight\n",
    "class_weights = class_weight.compute_class_weight('balanced', classes=np.unique(y_train), y=y_train)"
   ]
  },
  {
   "cell_type": "code",
   "execution_count": 25,
   "id": "6eccc72e",
   "metadata": {},
   "outputs": [],
   "source": [
    "#Create a dict with class weights for each label\n",
    "class_Weights_dict = dict(zip(np.unique(y_train), class_weights))"
   ]
  },
  {
   "cell_type": "code",
   "execution_count": 26,
   "id": "3c327ee8",
   "metadata": {},
   "outputs": [
    {
     "name": "stdout",
     "output_type": "stream",
     "text": [
      "Accuracy 0.75\n"
     ]
    }
   ],
   "source": [
    "#Train the model\n",
    "clf = RandomForestClassifier(class_weight=class_Weights_dict, random_state=42)\n",
    "clf.fit(X_train, y_train)\n",
    "\n",
    "#Evaluate the model\n",
    "accuracy = clf.score(X_test, y_test)\n",
    "print('Accuracy', accuracy)"
   ]
  },
  {
   "cell_type": "markdown",
   "id": "4c9b2737",
   "metadata": {},
   "source": [
    "### Ensemble Method"
   ]
  },
  {
   "cell_type": "code",
   "execution_count": 27,
   "id": "ada6b17a",
   "metadata": {},
   "outputs": [],
   "source": [
    "#Import Necessary libraries\n",
    "from sklearn.ensemble import BaggingClassifier\n",
    "from sklearn.tree import DecisionTreeClassifier"
   ]
  },
  {
   "cell_type": "code",
   "execution_count": 28,
   "id": "3ef24606",
   "metadata": {},
   "outputs": [],
   "source": [
    "#Define the base estimator (DecisionTreeClassifier)\n",
    "base_estimator = DecisionTreeClassifier(random_state=42)"
   ]
  },
  {
   "cell_type": "code",
   "execution_count": 30,
   "id": "377aeecc",
   "metadata": {},
   "outputs": [
    {
     "name": "stdout",
     "output_type": "stream",
     "text": [
      "Accuracy 0.6\n"
     ]
    }
   ],
   "source": [
    "#Train the ensemble model using Bagging Classifier\n",
    "bagging_clf = BaggingClassifier(base_estimator, n_estimators=10, random_state=42)\n",
    "bagging_clf.fit(X_train, y_train)\n",
    "\n",
    "#Evaluate the model\n",
    "accuracy = bagging_clf.score(X_test, y_test)\n",
    "print('Accuracy', accuracy)"
   ]
  },
  {
   "cell_type": "code",
   "execution_count": null,
   "id": "4b1dab83",
   "metadata": {},
   "outputs": [],
   "source": []
  },
  {
   "cell_type": "code",
   "execution_count": null,
   "id": "9ff1dbd7",
   "metadata": {},
   "outputs": [],
   "source": []
  },
  {
   "cell_type": "code",
   "execution_count": null,
   "id": "5caa5859",
   "metadata": {},
   "outputs": [],
   "source": []
  },
  {
   "cell_type": "code",
   "execution_count": null,
   "id": "7bda0b98",
   "metadata": {},
   "outputs": [],
   "source": []
  },
  {
   "cell_type": "code",
   "execution_count": null,
   "id": "e2e72615",
   "metadata": {},
   "outputs": [],
   "source": []
  },
  {
   "cell_type": "code",
   "execution_count": null,
   "id": "c05ae270",
   "metadata": {},
   "outputs": [],
   "source": []
  },
  {
   "cell_type": "code",
   "execution_count": null,
   "id": "4c83a26f",
   "metadata": {},
   "outputs": [],
   "source": []
  },
  {
   "cell_type": "code",
   "execution_count": null,
   "id": "3977df18",
   "metadata": {},
   "outputs": [],
   "source": []
  },
  {
   "cell_type": "code",
   "execution_count": null,
   "id": "555ade94",
   "metadata": {},
   "outputs": [],
   "source": []
  }
 ],
 "metadata": {
  "kernelspec": {
   "display_name": "Python 3 (ipykernel)",
   "language": "python",
   "name": "python3"
  },
  "language_info": {
   "codemirror_mode": {
    "name": "ipython",
    "version": 3
   },
   "file_extension": ".py",
   "mimetype": "text/x-python",
   "name": "python",
   "nbconvert_exporter": "python",
   "pygments_lexer": "ipython3",
   "version": "3.11.5"
  }
 },
 "nbformat": 4,
 "nbformat_minor": 5
}
