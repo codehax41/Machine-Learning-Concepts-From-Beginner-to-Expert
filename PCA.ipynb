{
 "cells": [
  {
   "cell_type": "markdown",
   "id": "e5b3c5aa",
   "metadata": {},
   "source": [
    "# using Numpy"
   ]
  },
  {
   "cell_type": "code",
   "execution_count": 1,
   "id": "26e2d594",
   "metadata": {},
   "outputs": [],
   "source": [
    "import numpy as np"
   ]
  },
  {
   "cell_type": "code",
   "execution_count": 6,
   "id": "2c5d0291",
   "metadata": {},
   "outputs": [],
   "source": [
    "def generate_synthetic_data(n_samples, n_features):\n",
    "    X = np.random.randn(n_samples, n_features)\n",
    "    X = X / np.linalg.norm(X, axis=1)[:, np.newaxis]\n",
    "    return X"
   ]
  },
  {
   "cell_type": "code",
   "execution_count": 10,
   "id": "9e90e4b5",
   "metadata": {},
   "outputs": [],
   "source": [
    "def pca(data, num_components=None):\n",
    "    #Centring the Data\n",
    "    data -= np.mean(data, axis=0)\n",
    "    #Compute COV matrix\n",
    "    convariance = np.cov(data, rowvar=False)\n",
    "    \n",
    "    #Calculate Eigen value and vector\n",
    "    eigenvalues, eigenvectors = np.linalg.eig(convariance)\n",
    "    \n",
    "    #Sort the eigenvalue and vector in desc order\n",
    "    sorted_vec = np.argsort(eigenvalues)[::-1]\n",
    "    eigenvalues = eigenvalues[sorted_vec]\n",
    "    eigenvectors = eigenvectors[:, sorted_vec]\n",
    "    \n",
    "    #Select the top n comp. for eigenvector\n",
    "    p_component = eigenvectors[: , :num_components]\n",
    "    \n",
    "    #Projecting the data\n",
    "    projected_data = np.dot(data, p_component)\n",
    "    \n",
    "    #Explained variance\n",
    "    explained_variance = eigenvalues/np.sum(eigenvalues)\n",
    "    \n",
    "    return projected_data, explained_variance"
   ]
  },
  {
   "cell_type": "code",
   "execution_count": 11,
   "id": "2c214139",
   "metadata": {},
   "outputs": [
    {
     "name": "stdout",
     "output_type": "stream",
     "text": [
      "Original shape of data (1000, 5)\n",
      "Project shape of data (1000, 3)\n",
      "Explained variances [0.22200045 0.2096647  0.20288186 0.19098192 0.17447106]\n"
     ]
    }
   ],
   "source": [
    "X = generate_synthetic_data(1000, 5)\n",
    "projected_data, explained_variance = pca(X, 3)\n",
    "\n",
    "print(\"Original shape of data\", X.shape)\n",
    "print('Project shape of data', projected_data.shape)\n",
    "print(\"Explained variances\", explained_variance)"
   ]
  },
  {
   "cell_type": "code",
   "execution_count": 12,
   "id": "ac7bc9f3",
   "metadata": {},
   "outputs": [
    {
     "data": {
      "text/plain": [
       "array([[-0.41230283,  0.49106111, -0.73215907],\n",
       "       [ 0.82192289,  0.2432551 ,  0.2227165 ],\n",
       "       [-0.89520504, -0.19664945, -0.33253233],\n",
       "       ...,\n",
       "       [-0.55113156, -0.07947803, -0.62984474],\n",
       "       [-0.30431149, -0.14061403,  0.6798042 ],\n",
       "       [-0.21028067,  0.05371506, -0.69618273]])"
      ]
     },
     "execution_count": 12,
     "metadata": {},
     "output_type": "execute_result"
    }
   ],
   "source": [
    "projected_data"
   ]
  },
  {
   "cell_type": "markdown",
   "id": "8e7381e0",
   "metadata": {},
   "source": [
    "## pca using sklearn"
   ]
  },
  {
   "cell_type": "code",
   "execution_count": 13,
   "id": "cd83887f",
   "metadata": {},
   "outputs": [],
   "source": [
    "from sklearn.decomposition import PCA\n",
    "import numpy as np\n",
    "import matplotlib.pyplot as plt"
   ]
  },
  {
   "cell_type": "code",
   "execution_count": 16,
   "id": "027742b8",
   "metadata": {},
   "outputs": [
    {
     "name": "stdout",
     "output_type": "stream",
     "text": [
      "Original shape of data (1000, 5)\n",
      "Project shape of data (1000, 3)\n",
      "Explained variances [0.22200045 0.2096647  0.20288186]\n"
     ]
    }
   ],
   "source": [
    "#PCA\n",
    "num_components = 3\n",
    "pca = PCA(n_components=num_components)\n",
    "preojected_data_sklearn = pca.fit_transform(X)\n",
    "\n",
    "print(\"Original shape of data\", X.shape)\n",
    "print('Project shape of data', preojected_data_sklearn.shape)\n",
    "\n",
    "explained_var_ratio = pca.explained_variance_ratio_\n",
    "print(\"Explained variances\", explained_var_ratio)"
   ]
  },
  {
   "cell_type": "code",
   "execution_count": null,
   "id": "59d7f7f7",
   "metadata": {},
   "outputs": [],
   "source": []
  },
  {
   "cell_type": "code",
   "execution_count": null,
   "id": "92350f5a",
   "metadata": {},
   "outputs": [],
   "source": []
  },
  {
   "cell_type": "code",
   "execution_count": null,
   "id": "718d9b71",
   "metadata": {},
   "outputs": [],
   "source": []
  },
  {
   "cell_type": "code",
   "execution_count": null,
   "id": "a34fcf7d",
   "metadata": {},
   "outputs": [],
   "source": []
  },
  {
   "cell_type": "code",
   "execution_count": null,
   "id": "941cfee2",
   "metadata": {},
   "outputs": [],
   "source": []
  },
  {
   "cell_type": "code",
   "execution_count": null,
   "id": "3cebb780",
   "metadata": {},
   "outputs": [],
   "source": []
  },
  {
   "cell_type": "code",
   "execution_count": null,
   "id": "4c9f63d0",
   "metadata": {},
   "outputs": [],
   "source": []
  },
  {
   "cell_type": "code",
   "execution_count": null,
   "id": "c6968d07",
   "metadata": {},
   "outputs": [],
   "source": []
  },
  {
   "cell_type": "code",
   "execution_count": null,
   "id": "2375ea13",
   "metadata": {},
   "outputs": [],
   "source": []
  },
  {
   "cell_type": "code",
   "execution_count": null,
   "id": "5a6de552",
   "metadata": {},
   "outputs": [],
   "source": []
  },
  {
   "cell_type": "code",
   "execution_count": null,
   "id": "a93b3db0",
   "metadata": {},
   "outputs": [],
   "source": []
  },
  {
   "cell_type": "code",
   "execution_count": null,
   "id": "1006bd84",
   "metadata": {},
   "outputs": [],
   "source": []
  },
  {
   "cell_type": "code",
   "execution_count": null,
   "id": "f0ae6eb1",
   "metadata": {},
   "outputs": [],
   "source": []
  }
 ],
 "metadata": {
  "kernelspec": {
   "display_name": "Python 3 (ipykernel)",
   "language": "python",
   "name": "python3"
  },
  "language_info": {
   "codemirror_mode": {
    "name": "ipython",
    "version": 3
   },
   "file_extension": ".py",
   "mimetype": "text/x-python",
   "name": "python",
   "nbconvert_exporter": "python",
   "pygments_lexer": "ipython3",
   "version": "3.11.5"
  }
 },
 "nbformat": 4,
 "nbformat_minor": 5
}
