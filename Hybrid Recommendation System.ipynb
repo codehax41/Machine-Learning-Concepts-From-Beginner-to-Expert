{
 "cells": [
  {
   "cell_type": "code",
   "execution_count": 1,
   "id": "98c504ba",
   "metadata": {},
   "outputs": [],
   "source": [
    "#Import necessary libraries\n",
    "import random"
   ]
  },
  {
   "cell_type": "code",
   "execution_count": 2,
   "id": "d5fd36a6",
   "metadata": {},
   "outputs": [],
   "source": [
    "#Define a user_id\n",
    "user_id = 123"
   ]
  },
  {
   "cell_type": "code",
   "execution_count": 4,
   "id": "5b601f9a",
   "metadata": {},
   "outputs": [],
   "source": [
    "#Simulating Collaborative filtering\n",
    "def get_collaborative_recommendations(user_id):\n",
    "    book_list = ['Book A', 'Book B', 'Book C', 'Book D', 'Book E']\n",
    "    return {book: random.uniform(0.0, 1.0) for book in random.sample(book_list, 3)}"
   ]
  },
  {
   "cell_type": "code",
   "execution_count": 5,
   "id": "40562e31",
   "metadata": {},
   "outputs": [],
   "source": [
    "#Simulating content based recommendation\n",
    "def get_content_based_recommendation(user_id):\n",
    "    book_list = ['Book A', 'Book B', 'Book C', 'Book D', 'Book E']\n",
    "    return {book: random.uniform(0.0, 1.0) for book in random.sample(book_list, 3)}"
   ]
  },
  {
   "cell_type": "code",
   "execution_count": 6,
   "id": "49dd7c52",
   "metadata": {},
   "outputs": [],
   "source": [
    "#Get top N Recommendation\n",
    "top_n = 3"
   ]
  },
  {
   "cell_type": "code",
   "execution_count": 7,
   "id": "e936c2a7",
   "metadata": {},
   "outputs": [],
   "source": [
    "#Assuming we have collaborative and content based recommendation\n",
    "collab_recs = get_collaborative_recommendations(user_id)\n",
    "content_recs = get_content_based_recommendation(user_id)"
   ]
  },
  {
   "cell_type": "code",
   "execution_count": 8,
   "id": "beb11421",
   "metadata": {},
   "outputs": [
    {
     "data": {
      "text/plain": [
       "{'Book E': 0.8721864396380739,\n",
       " 'Book A': 0.6073617143513923,\n",
       " 'Book C': 0.7497663692458637}"
      ]
     },
     "execution_count": 8,
     "metadata": {},
     "output_type": "execute_result"
    }
   ],
   "source": [
    "collab_recs"
   ]
  },
  {
   "cell_type": "code",
   "execution_count": 9,
   "id": "f2c91c01",
   "metadata": {},
   "outputs": [
    {
     "data": {
      "text/plain": [
       "{'Book A': 0.5487053161448714,\n",
       " 'Book D': 0.5699527412244859,\n",
       " 'Book E': 0.8994970867042664}"
      ]
     },
     "execution_count": 9,
     "metadata": {},
     "output_type": "execute_result"
    }
   ],
   "source": [
    "content_recs"
   ]
  },
  {
   "cell_type": "code",
   "execution_count": 10,
   "id": "3d1ead2c",
   "metadata": {},
   "outputs": [],
   "source": [
    "#Combine recommendation (AVG)\n",
    "#Get the intersection of books between collaborative and content based recommendations\n",
    "common_books = set(collab_recs.keys()).intersection(content_recs.keys())"
   ]
  },
  {
   "cell_type": "code",
   "execution_count": 12,
   "id": "ff8d3596",
   "metadata": {},
   "outputs": [
    {
     "name": "stdout",
     "output_type": "stream",
     "text": [
      "Hybrid Recommendation for User 123\n",
      "Book: Book E, Score: 0.8858417631711701\n",
      "Book: Book A, Score: 0.5780335152481318\n"
     ]
    }
   ],
   "source": [
    "#Combine the recommendation for common books\n",
    "hybrid_recs = {}\n",
    "for book in common_books:\n",
    "    hybrid_recs[book] = (collab_recs[book] + content_recs[book])/2\n",
    "    \n",
    "#Display the hybrid recommendation\n",
    "print('Hybrid Recommendation for User', user_id)\n",
    "for book, score in sorted(hybrid_recs.items(), key=lambda x: x[1], reverse=True):\n",
    "    print(f\"Book: {book}, Score: {score}\")"
   ]
  },
  {
   "cell_type": "code",
   "execution_count": null,
   "id": "501aa9df",
   "metadata": {},
   "outputs": [],
   "source": []
  },
  {
   "cell_type": "code",
   "execution_count": null,
   "id": "6b46478c",
   "metadata": {},
   "outputs": [],
   "source": []
  },
  {
   "cell_type": "code",
   "execution_count": null,
   "id": "7b463f1c",
   "metadata": {},
   "outputs": [],
   "source": []
  },
  {
   "cell_type": "code",
   "execution_count": null,
   "id": "7878e290",
   "metadata": {},
   "outputs": [],
   "source": []
  },
  {
   "cell_type": "code",
   "execution_count": null,
   "id": "f8f0c6bd",
   "metadata": {},
   "outputs": [],
   "source": []
  },
  {
   "cell_type": "code",
   "execution_count": null,
   "id": "3eb07e80",
   "metadata": {},
   "outputs": [],
   "source": []
  },
  {
   "cell_type": "code",
   "execution_count": null,
   "id": "5f94ec98",
   "metadata": {},
   "outputs": [],
   "source": []
  }
 ],
 "metadata": {
  "kernelspec": {
   "display_name": "Python 3 (ipykernel)",
   "language": "python",
   "name": "python3"
  },
  "language_info": {
   "codemirror_mode": {
    "name": "ipython",
    "version": 3
   },
   "file_extension": ".py",
   "mimetype": "text/x-python",
   "name": "python",
   "nbconvert_exporter": "python",
   "pygments_lexer": "ipython3",
   "version": "3.11.5"
  }
 },
 "nbformat": 4,
 "nbformat_minor": 5
}
