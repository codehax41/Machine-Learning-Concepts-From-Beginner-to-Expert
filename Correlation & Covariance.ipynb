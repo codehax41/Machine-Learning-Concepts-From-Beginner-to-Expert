{
 "cells": [
  {
   "cell_type": "code",
   "execution_count": 1,
   "id": "86f764d1",
   "metadata": {},
   "outputs": [],
   "source": [
    "import numpy as np"
   ]
  },
  {
   "cell_type": "code",
   "execution_count": 2,
   "id": "e1a344c4",
   "metadata": {},
   "outputs": [],
   "source": [
    "#Data\n",
    "temperature = np.array([25, 28, 30])\n",
    "ice_cream_sales = np.array([50, 70, 80])"
   ]
  },
  {
   "cell_type": "code",
   "execution_count": 3,
   "id": "47f82342",
   "metadata": {},
   "outputs": [],
   "source": [
    "#Calculate Mean\n",
    "mean_temp = np.mean(temperature)\n",
    "mean_icecreamsales = np.mean(ice_cream_sales)"
   ]
  },
  {
   "cell_type": "code",
   "execution_count": 4,
   "id": "626faa37",
   "metadata": {},
   "outputs": [],
   "source": [
    "#Covarianc\n",
    "covariance = np.sum((temperature - mean_temp) * (ice_cream_sales - mean_icecreamsales)) / len(temperature)"
   ]
  },
  {
   "cell_type": "code",
   "execution_count": 6,
   "id": "3f55a37c",
   "metadata": {},
   "outputs": [],
   "source": [
    "#Std\n",
    "std_temp = np.std(temperature)\n",
    "std_ice_cream_sales = np.std(ice_cream_sales)"
   ]
  },
  {
   "cell_type": "code",
   "execution_count": 7,
   "id": "efa9893c",
   "metadata": {},
   "outputs": [
    {
     "name": "stdout",
     "output_type": "stream",
     "text": [
      "Correlation Coefficient: 1.00\n"
     ]
    }
   ],
   "source": [
    "#Calculate corr coef\n",
    "corr_coef = covariance / (std_temp * std_ice_cream_sales)\n",
    "print(f\"Correlation Coefficient: {corr_coef:.2f}\")"
   ]
  },
  {
   "cell_type": "code",
   "execution_count": null,
   "id": "0283deea",
   "metadata": {},
   "outputs": [],
   "source": []
  }
 ],
 "metadata": {
  "kernelspec": {
   "display_name": "Python 3 (ipykernel)",
   "language": "python",
   "name": "python3"
  },
  "language_info": {
   "codemirror_mode": {
    "name": "ipython",
    "version": 3
   },
   "file_extension": ".py",
   "mimetype": "text/x-python",
   "name": "python",
   "nbconvert_exporter": "python",
   "pygments_lexer": "ipython3",
   "version": "3.11.5"
  }
 },
 "nbformat": 4,
 "nbformat_minor": 5
}
