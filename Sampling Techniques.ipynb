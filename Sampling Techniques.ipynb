{
 "cells": [
  {
   "cell_type": "markdown",
   "id": "3f550d16",
   "metadata": {},
   "source": [
    "1. Random Sampling\n",
    "2. Stratified Sampling\n",
    "3. Bootstraping\n",
    "4. Oversampling\n",
    "5. Undersampling"
   ]
  },
  {
   "cell_type": "code",
   "execution_count": 1,
   "id": "0cca849a",
   "metadata": {},
   "outputs": [],
   "source": [
    "#Import necessary libraries\n",
    "import pandas as pd\n",
    "import numpy as np"
   ]
  },
  {
   "cell_type": "code",
   "execution_count": 2,
   "id": "08d76f94",
   "metadata": {},
   "outputs": [],
   "source": [
    "#Create a sample dataset with 20 datapoints\n",
    "np.random.seed(42)\n",
    "data = {\n",
    "    'Feature1': np.random.randint(1, 100, 20),\n",
    "    'Feature2': np.random.uniform(0, 1, 20),\n",
    "    'Label': np.random.choice(['A', 'B', 'C'], size=20)\n",
    "}\n",
    "df = pd.DataFrame(data)"
   ]
  },
  {
   "cell_type": "code",
   "execution_count": 4,
   "id": "26f12701",
   "metadata": {
    "scrolled": true
   },
   "outputs": [
    {
     "data": {
      "text/html": [
       "<div>\n",
       "<style scoped>\n",
       "    .dataframe tbody tr th:only-of-type {\n",
       "        vertical-align: middle;\n",
       "    }\n",
       "\n",
       "    .dataframe tbody tr th {\n",
       "        vertical-align: top;\n",
       "    }\n",
       "\n",
       "    .dataframe thead th {\n",
       "        text-align: right;\n",
       "    }\n",
       "</style>\n",
       "<table border=\"1\" class=\"dataframe\">\n",
       "  <thead>\n",
       "    <tr style=\"text-align: right;\">\n",
       "      <th></th>\n",
       "      <th>Feature1</th>\n",
       "      <th>Feature2</th>\n",
       "      <th>Label</th>\n",
       "    </tr>\n",
       "  </thead>\n",
       "  <tbody>\n",
       "    <tr>\n",
       "      <th>0</th>\n",
       "      <td>52</td>\n",
       "      <td>0.181825</td>\n",
       "      <td>B</td>\n",
       "    </tr>\n",
       "    <tr>\n",
       "      <th>1</th>\n",
       "      <td>93</td>\n",
       "      <td>0.183405</td>\n",
       "      <td>B</td>\n",
       "    </tr>\n",
       "    <tr>\n",
       "      <th>2</th>\n",
       "      <td>15</td>\n",
       "      <td>0.304242</td>\n",
       "      <td>B</td>\n",
       "    </tr>\n",
       "    <tr>\n",
       "      <th>3</th>\n",
       "      <td>72</td>\n",
       "      <td>0.524756</td>\n",
       "      <td>A</td>\n",
       "    </tr>\n",
       "    <tr>\n",
       "      <th>4</th>\n",
       "      <td>61</td>\n",
       "      <td>0.431945</td>\n",
       "      <td>B</td>\n",
       "    </tr>\n",
       "    <tr>\n",
       "      <th>5</th>\n",
       "      <td>21</td>\n",
       "      <td>0.291229</td>\n",
       "      <td>A</td>\n",
       "    </tr>\n",
       "    <tr>\n",
       "      <th>6</th>\n",
       "      <td>83</td>\n",
       "      <td>0.611853</td>\n",
       "      <td>B</td>\n",
       "    </tr>\n",
       "    <tr>\n",
       "      <th>7</th>\n",
       "      <td>87</td>\n",
       "      <td>0.139494</td>\n",
       "      <td>C</td>\n",
       "    </tr>\n",
       "    <tr>\n",
       "      <th>8</th>\n",
       "      <td>75</td>\n",
       "      <td>0.292145</td>\n",
       "      <td>C</td>\n",
       "    </tr>\n",
       "    <tr>\n",
       "      <th>9</th>\n",
       "      <td>75</td>\n",
       "      <td>0.366362</td>\n",
       "      <td>A</td>\n",
       "    </tr>\n",
       "    <tr>\n",
       "      <th>10</th>\n",
       "      <td>88</td>\n",
       "      <td>0.456070</td>\n",
       "      <td>C</td>\n",
       "    </tr>\n",
       "    <tr>\n",
       "      <th>11</th>\n",
       "      <td>24</td>\n",
       "      <td>0.785176</td>\n",
       "      <td>C</td>\n",
       "    </tr>\n",
       "    <tr>\n",
       "      <th>12</th>\n",
       "      <td>3</td>\n",
       "      <td>0.199674</td>\n",
       "      <td>B</td>\n",
       "    </tr>\n",
       "    <tr>\n",
       "      <th>13</th>\n",
       "      <td>22</td>\n",
       "      <td>0.514234</td>\n",
       "      <td>A</td>\n",
       "    </tr>\n",
       "    <tr>\n",
       "      <th>14</th>\n",
       "      <td>53</td>\n",
       "      <td>0.592415</td>\n",
       "      <td>B</td>\n",
       "    </tr>\n",
       "    <tr>\n",
       "      <th>15</th>\n",
       "      <td>2</td>\n",
       "      <td>0.046450</td>\n",
       "      <td>B</td>\n",
       "    </tr>\n",
       "    <tr>\n",
       "      <th>16</th>\n",
       "      <td>88</td>\n",
       "      <td>0.607545</td>\n",
       "      <td>B</td>\n",
       "    </tr>\n",
       "    <tr>\n",
       "      <th>17</th>\n",
       "      <td>30</td>\n",
       "      <td>0.170524</td>\n",
       "      <td>B</td>\n",
       "    </tr>\n",
       "    <tr>\n",
       "      <th>18</th>\n",
       "      <td>38</td>\n",
       "      <td>0.065052</td>\n",
       "      <td>B</td>\n",
       "    </tr>\n",
       "    <tr>\n",
       "      <th>19</th>\n",
       "      <td>2</td>\n",
       "      <td>0.948886</td>\n",
       "      <td>B</td>\n",
       "    </tr>\n",
       "  </tbody>\n",
       "</table>\n",
       "</div>"
      ],
      "text/plain": [
       "    Feature1  Feature2 Label\n",
       "0         52  0.181825     B\n",
       "1         93  0.183405     B\n",
       "2         15  0.304242     B\n",
       "3         72  0.524756     A\n",
       "4         61  0.431945     B\n",
       "5         21  0.291229     A\n",
       "6         83  0.611853     B\n",
       "7         87  0.139494     C\n",
       "8         75  0.292145     C\n",
       "9         75  0.366362     A\n",
       "10        88  0.456070     C\n",
       "11        24  0.785176     C\n",
       "12         3  0.199674     B\n",
       "13        22  0.514234     A\n",
       "14        53  0.592415     B\n",
       "15         2  0.046450     B\n",
       "16        88  0.607545     B\n",
       "17        30  0.170524     B\n",
       "18        38  0.065052     B\n",
       "19         2  0.948886     B"
      ]
     },
     "execution_count": 4,
     "metadata": {},
     "output_type": "execute_result"
    }
   ],
   "source": [
    "df"
   ]
  },
  {
   "cell_type": "markdown",
   "id": "b645bf7f",
   "metadata": {},
   "source": [
    "### Random Sampling"
   ]
  },
  {
   "cell_type": "code",
   "execution_count": 5,
   "id": "c175e79a",
   "metadata": {},
   "outputs": [
    {
     "name": "stdout",
     "output_type": "stream",
     "text": [
      "Random Sampling:\n",
      "    Feature1  Feature2 Label\n",
      "6         83  0.611853     B\n",
      "2         15  0.304242     B\n",
      "4         61  0.431945     B\n",
      "8         75  0.292145     C\n",
      "17        30  0.170524     B\n",
      "7         87  0.139494     C\n",
      "16        88  0.607545     B\n",
      "9         75  0.366362     A\n",
      "12         3  0.199674     B\n",
      "1         93  0.183405     B\n"
     ]
    }
   ],
   "source": [
    "random_sample = df.sample(n=10, random_state=52)\n",
    "print('Random Sampling:')\n",
    "print(random_sample)"
   ]
  },
  {
   "cell_type": "markdown",
   "id": "434b0001",
   "metadata": {},
   "source": [
    "### Stratified Sampling"
   ]
  },
  {
   "cell_type": "code",
   "execution_count": 6,
   "id": "90b683ad",
   "metadata": {},
   "outputs": [
    {
     "name": "stdout",
     "output_type": "stream",
     "text": [
      "Satratified Sampling:\n",
      "    Feature1  Feature2 Label\n",
      "5         21  0.291229     A\n",
      "13        22  0.514234     A\n",
      "18        38  0.065052     B\n",
      "17        30  0.170524     B\n",
      "8         75  0.292145     C\n",
      "11        24  0.785176     C\n"
     ]
    }
   ],
   "source": [
    "stratified_sample = df.groupby('Label', group_keys=False).apply(lambda x: x.sample(min(len(x), 2), random_state=42))\n",
    "print('Satratified Sampling:')\n",
    "print(stratified_sample)"
   ]
  },
  {
   "cell_type": "markdown",
   "id": "09fcb71c",
   "metadata": {},
   "source": [
    "### Bootstraping"
   ]
  },
  {
   "cell_type": "code",
   "execution_count": 7,
   "id": "10b44800",
   "metadata": {},
   "outputs": [
    {
     "name": "stdout",
     "output_type": "stream",
     "text": [
      "Bootstrapped Sampling:\n",
      "    Feature1  Feature2 Label\n",
      "6         83  0.611853     B\n",
      "19         2  0.948886     B\n",
      "14        53  0.592415     B\n",
      "10        88  0.456070     C\n",
      "7         87  0.139494     C\n",
      "6         83  0.611853     B\n",
      "18        38  0.065052     B\n",
      "10        88  0.456070     C\n",
      "10        88  0.456070     C\n",
      "3         72  0.524756     A\n",
      "7         87  0.139494     C\n",
      "2         15  0.304242     B\n",
      "1         93  0.183405     B\n",
      "11        24  0.785176     C\n",
      "5         21  0.291229     A\n",
      "1         93  0.183405     B\n",
      "0         52  0.181825     B\n",
      "11        24  0.785176     C\n",
      "11        24  0.785176     C\n",
      "16        88  0.607545     B\n"
     ]
    }
   ],
   "source": [
    "bootstrapped_sample = df.sample(n=20, replace=True, random_state=42)\n",
    "print('Bootstrapped Sampling:')\n",
    "print(bootstrapped_sample)"
   ]
  },
  {
   "cell_type": "markdown",
   "id": "0e352199",
   "metadata": {},
   "source": [
    "### Oversampling"
   ]
  },
  {
   "cell_type": "code",
   "execution_count": 3,
   "id": "b4129a39",
   "metadata": {
    "scrolled": true
   },
   "outputs": [],
   "source": [
    "#pip uninstall imbalanced-learn scikit-learn\n",
    "#pip install imbalanced-learn scikit-learn"
   ]
  },
  {
   "cell_type": "code",
   "execution_count": 6,
   "id": "0f6fd2de",
   "metadata": {
    "scrolled": true
   },
   "outputs": [],
   "source": [
    "from imblearn.over_sampling import SMOTE"
   ]
  },
  {
   "cell_type": "code",
   "execution_count": 7,
   "id": "27841459",
   "metadata": {},
   "outputs": [],
   "source": [
    "#Create imbalanced dataset\n",
    "np.random.seed(42)\n",
    "data = {\n",
    "    'Feature1': np.random.randint(1, 100, 100),\n",
    "    'Feature2': np.random.uniform(0, 1, 100),\n",
    "    'Label': np.random.choice(['A', 'B', 'C'], size=100, p=[0.7, 0.2, 0.1])\n",
    "}\n",
    "df = pd.DataFrame(data)"
   ]
  },
  {
   "cell_type": "code",
   "execution_count": 15,
   "id": "0a1c33e6",
   "metadata": {},
   "outputs": [
    {
     "name": "stdout",
     "output_type": "stream",
     "text": [
      "Class distribution before oversampling\n",
      "Label\n",
      "A    71\n",
      "B    17\n",
      "C    12\n",
      "Name: count, dtype: int64\n",
      "\n",
      "Class Distribution after Oversampling\n",
      "Label\n",
      "A    71\n",
      "B    71\n",
      "C    71\n",
      "Name: count, dtype: int64\n"
     ]
    }
   ],
   "source": [
    "#Check class distribution before oversampling\n",
    "print(\"Class distribution before oversampling\")\n",
    "print(df['Label'].value_counts())\n",
    "\n",
    "#Apply the SMOTE for oversampling\n",
    "oversample = SMOTE(random_state=42)\n",
    "X, y = df[['Feature1', 'Feature2']], df[\"Label\"]\n",
    "X_oversampled, y_oversampled = oversample.fit_resample(X, y)\n",
    "\n",
    "#Create a new dataframe with oversamples data\n",
    "oversampled_df = pd.concat([pd.DataFrame(X_oversampled, columns=['Feature1', 'Feature2']), pd.DataFrame({'Label':y_oversampled})])\n",
    "\n",
    "#Check the class distribution after applying SMOTE oversampling\n",
    "print(\"\\nClass Distribution after Oversampling\")\n",
    "print(oversampled_df['Label'].value_counts())"
   ]
  },
  {
   "cell_type": "markdown",
   "id": "f1a4b50a",
   "metadata": {},
   "source": [
    "### Undersampling"
   ]
  },
  {
   "cell_type": "code",
   "execution_count": 18,
   "id": "97c31157",
   "metadata": {},
   "outputs": [
    {
     "data": {
      "text/plain": [
       "(12, 3)"
      ]
     },
     "execution_count": 18,
     "metadata": {},
     "output_type": "execute_result"
    }
   ],
   "source": [
    "class_C.shape"
   ]
  },
  {
   "cell_type": "code",
   "execution_count": 16,
   "id": "8cda67f6",
   "metadata": {},
   "outputs": [
    {
     "name": "stdout",
     "output_type": "stream",
     "text": [
      "Undersampling:\n",
      "    Feature1  Feature2 Label\n",
      "29        91  0.561277     A\n",
      "0         52  0.280935     A\n",
      "67        81  0.222108     A\n",
      "5         21  0.986887     A\n",
      "74         4  0.363630     A\n",
      "1         93  0.542696     B\n",
      "19         2  0.063558     B\n",
      "22        21  0.729606     B\n",
      "27        89  0.713245     B\n",
      "32        92  0.522733     B\n",
      "33        60  0.427541     B\n",
      "34        80  0.025419     B\n",
      "35        15  0.107891     B\n",
      "39        62  0.508571     B\n",
      "50         4  0.633404     B\n",
      "53        14  0.186570     B\n",
      "55        90  0.539342     B\n",
      "64        47  0.006952     B\n",
      "66        78  0.417411     B\n",
      "71         2  0.323203     B\n",
      "85        95  0.278646     B\n",
      "88        72  0.144895     B\n",
      "14        53  0.358466     C\n",
      "18        38  0.330898     C\n",
      "28        49  0.760785     C\n",
      "62        44  0.818015     C\n",
      "76        93  0.962447     C\n",
      "77        63  0.251782     C\n",
      "78        18  0.497249     C\n",
      "81        34  0.036887     C\n",
      "83        62  0.502679     C\n",
      "84        14  0.051479     C\n",
      "92        40  0.672136     C\n",
      "97        24  0.632306     C\n"
     ]
    }
   ],
   "source": [
    "#Assume A is majority class\n",
    "class_A = df[df['Label']=='A']\n",
    "class_B = df[df['Label']=='B']\n",
    "class_C = df[df['Label']=='C']\n",
    "\n",
    "undersampled_df = pd.concat([class_A.sample(n=5, random_state=42), class_B, class_C])\n",
    "print('Undersampling:')\n",
    "print(undersampled_df)"
   ]
  },
  {
   "cell_type": "code",
   "execution_count": null,
   "id": "2e219355",
   "metadata": {},
   "outputs": [],
   "source": []
  },
  {
   "cell_type": "code",
   "execution_count": null,
   "id": "bd4fe031",
   "metadata": {},
   "outputs": [],
   "source": []
  },
  {
   "cell_type": "code",
   "execution_count": null,
   "id": "fe438100",
   "metadata": {},
   "outputs": [],
   "source": []
  },
  {
   "cell_type": "code",
   "execution_count": null,
   "id": "6179e3be",
   "metadata": {},
   "outputs": [],
   "source": []
  },
  {
   "cell_type": "code",
   "execution_count": null,
   "id": "8ed19dc3",
   "metadata": {},
   "outputs": [],
   "source": []
  },
  {
   "cell_type": "code",
   "execution_count": null,
   "id": "7d6afd30",
   "metadata": {},
   "outputs": [],
   "source": []
  },
  {
   "cell_type": "code",
   "execution_count": null,
   "id": "d7e5518c",
   "metadata": {},
   "outputs": [],
   "source": []
  },
  {
   "cell_type": "code",
   "execution_count": null,
   "id": "bc7eeb06",
   "metadata": {},
   "outputs": [],
   "source": []
  },
  {
   "cell_type": "code",
   "execution_count": null,
   "id": "f5a62392",
   "metadata": {},
   "outputs": [],
   "source": []
  }
 ],
 "metadata": {
  "kernelspec": {
   "display_name": "Python 3 (ipykernel)",
   "language": "python",
   "name": "python3"
  },
  "language_info": {
   "codemirror_mode": {
    "name": "ipython",
    "version": 3
   },
   "file_extension": ".py",
   "mimetype": "text/x-python",
   "name": "python",
   "nbconvert_exporter": "python",
   "pygments_lexer": "ipython3",
   "version": "3.11.5"
  }
 },
 "nbformat": 4,
 "nbformat_minor": 5
}
