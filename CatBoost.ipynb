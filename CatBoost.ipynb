{
 "cells": [
  {
   "cell_type": "code",
   "execution_count": 1,
   "id": "cb2cc2aa",
   "metadata": {},
   "outputs": [],
   "source": [
    "import numpy as np"
   ]
  },
  {
   "cell_type": "markdown",
   "id": "20507aa6",
   "metadata": {},
   "source": [
    "## Numpy way"
   ]
  },
  {
   "cell_type": "code",
   "execution_count": 2,
   "id": "8263f975",
   "metadata": {},
   "outputs": [],
   "source": [
    "class SimpleDicisionTree:\n",
    "    def __init__(self, max_depth=None):\n",
    "        self.max_depth = max_depth\n",
    "        self.left = None\n",
    "        self.right = None\n",
    "        self.feature_index = None\n",
    "        self.threshold = None\n",
    "        self.value = None\n",
    "        \n",
    "    def fit(self, X,y, depth=0):\n",
    "        if depth == self.max_depth or len(np.unique(y))==1:\n",
    "            self.value = np.argmax(np.bincount(y.astype(int)))\n",
    "            return\n",
    "        \n",
    "        n_samples, n_features = X.shape\n",
    "        best_gini = 1.0\n",
    "        for feature in range(n_features):\n",
    "            thresholds = np.unique(X[:, feature])\n",
    "            for threshold in thresholds:\n",
    "                left_indices = X[:, feature] <= threshold\n",
    "                right_indices = X[:, feature] > threshold\n",
    "            if sum(left_indices) == 0 or sum(right_indices)==0:\n",
    "                continue\n",
    "            gini = self._calculate_gini(y[left_indices], y[right_indices])\n",
    "            if gini < best_gini:\n",
    "                best_gini = gini\n",
    "                self.feature_index = feature\n",
    "                self.threshold = threshold\n",
    "        if self.feature_index is not None:\n",
    "            left_indices = X[:, self.feature_index] <= self.threhold\n",
    "            right_indices = X[:, self.feature_index] > self.threhold\n",
    "            self.left = SimpleDicisionTree(max_depth=self.max_depth)\n",
    "            self.left.fit(X[left_indices], y[left_indices], deph+1)\n",
    "            self.right = SimpleDicisionTree(max_depth=self.max_depth)\n",
    "            self.right.fit(X[right_indices], y[right_indices], deph+1)\n",
    "        else:\n",
    "            self.value = np.argmax(np.bincount(y.astype(int)))\n",
    "            \n",
    "    def _calulate_gini(self, left_labels, right_labels):\n",
    "        total = len(left_labels) + len(right_labels)\n",
    "        gini_left = 1.0 - sum([(left_labels == c).mean()**2 for c in np.unique(left_labels)])\n",
    "        gini_right = 1.0 - sum([(right_labels == c).mean()**2 for c in np.unique(right_labels)])\n",
    "        return (len(left_labels) * gini_left + len(right_labels) * gini_right)/total\n",
    "        \n",
    "    def predict(self, X):\n",
    "        if self.feature_index is None:\n",
    "            return np.array([self.value] * len(X))\n",
    "        else:\n",
    "            left_indices = X[:, self.feature_index] <= self.threshold\n",
    "            right_indices = X[:, self.feature_index] > self.threshold\n",
    "            predictions = np.zeros(len(X), dtype=int)\n",
    "            predictions[left_indices] = self.left.predict(X[left_indices])\n",
    "            predictions[right_indices] = self.right.predict(X[right_indices])\n",
    "            return predictions"
   ]
  },
  {
   "cell_type": "code",
   "execution_count": 7,
   "id": "5876f9a0",
   "metadata": {},
   "outputs": [],
   "source": [
    "class SimpleCatBoost:\n",
    "    def __init__(self, n_estimator=100, learning_rate=0.1):\n",
    "        self.n_estimator = n_estimator\n",
    "        self.learning_rate = learning_rate\n",
    "        self.estimators = []\n",
    "        self.target_means = {}\n",
    "        \n",
    "    def fit(self, X, y, cat_features):\n",
    "        y_pred = np.zeros(len(y))\n",
    "        \n",
    "        for feature in cat_features:\n",
    "            self.target_means[feature] = {}\n",
    "            unique_values = np.unique(X[:, feature])\n",
    "            for value in unique_values:\n",
    "                mask = X[:, feature]==value\n",
    "                self.target_means[feature][value] = np.mean(y[mask])\n",
    "                \n",
    "        for _ in range(self.n_estimator):\n",
    "            residual = y - y_pred\n",
    "            tree = SimpleDicisionTree()\n",
    "            tree.fit(X, residual)\n",
    "            y_pred += self.learning_rate * tree.predict(X)\n",
    "            self.estimators.append(tree)\n",
    "            \n",
    "    def predict(self, X):\n",
    "        y_pred = np.zeros(len(X))\n",
    "        for tree in self.estimators:\n",
    "            y_pred += self.learning_rate * tree.predict(X)\n",
    "        return y_pred"
   ]
  },
  {
   "cell_type": "code",
   "execution_count": 3,
   "id": "4ff1e418",
   "metadata": {},
   "outputs": [],
   "source": [
    "from sklearn.datasets import load_wine\n",
    "from sklearn.model_selection import train_test_split\n",
    "from sklearn.metrics import accuracy_score"
   ]
  },
  {
   "cell_type": "code",
   "execution_count": 4,
   "id": "0652565b",
   "metadata": {},
   "outputs": [],
   "source": [
    "#Load the dataset\n",
    "wine = load_wine()\n",
    "X, y = wine.data, wine.target"
   ]
  },
  {
   "cell_type": "code",
   "execution_count": 5,
   "id": "2fdd0159",
   "metadata": {},
   "outputs": [],
   "source": [
    "#Split the data into training & testing\n",
    "X_train, X_test, y_train, y_test = train_test_split(X, y, test_size=0.2, random_state=42)"
   ]
  },
  {
   "cell_type": "code",
   "execution_count": 6,
   "id": "584497c4",
   "metadata": {},
   "outputs": [],
   "source": [
    "cat_features = []"
   ]
  },
  {
   "cell_type": "code",
   "execution_count": 8,
   "id": "3e66cb79",
   "metadata": {},
   "outputs": [],
   "source": [
    "#Initialize the simplecatboost model\n",
    "model = SimpleCatBoost(n_estimator = 100, learning_rate=0.1)"
   ]
  },
  {
   "cell_type": "code",
   "execution_count": 9,
   "id": "ce8094d5",
   "metadata": {},
   "outputs": [],
   "source": [
    "model.fit(X_train, y_train, cat_features)"
   ]
  },
  {
   "cell_type": "code",
   "execution_count": 10,
   "id": "fc988ea7",
   "metadata": {},
   "outputs": [],
   "source": [
    "#Make predictions\n",
    "y_pred = model.predict(X_test)"
   ]
  },
  {
   "cell_type": "code",
   "execution_count": 11,
   "id": "a196b064",
   "metadata": {},
   "outputs": [],
   "source": [
    "#Round predicion to the nearest integer for classification\n",
    "y_pred_rounded = np.round(y_pred)"
   ]
  },
  {
   "cell_type": "code",
   "execution_count": 12,
   "id": "15e0485e",
   "metadata": {},
   "outputs": [
    {
     "name": "stdout",
     "output_type": "stream",
     "text": [
      "Accuracy: 0.3888888888888889\n"
     ]
    }
   ],
   "source": [
    "#Calculate accuracy\n",
    "accuracy = accuracy_score(y_test, y_pred_rounded)\n",
    "print(f\"Accuracy: {accuracy}\")"
   ]
  },
  {
   "cell_type": "code",
   "execution_count": null,
   "id": "47ea6757",
   "metadata": {},
   "outputs": [],
   "source": []
  },
  {
   "cell_type": "markdown",
   "id": "394795cc",
   "metadata": {},
   "source": [
    "## 2. sklearn way"
   ]
  },
  {
   "cell_type": "code",
   "execution_count": 1,
   "id": "b5925cd1",
   "metadata": {},
   "outputs": [],
   "source": [
    "from sklearn.datasets import load_iris\n",
    "from sklearn.model_selection import train_test_split\n",
    "from catboost import CatBoostClassifier"
   ]
  },
  {
   "cell_type": "code",
   "execution_count": 2,
   "id": "8f842e7a",
   "metadata": {},
   "outputs": [],
   "source": [
    "#Load the dataset\n",
    "iris = load_iris()\n",
    "X, y = iris.data, iris.target"
   ]
  },
  {
   "cell_type": "code",
   "execution_count": 3,
   "id": "4b6d0e23",
   "metadata": {},
   "outputs": [],
   "source": [
    "#Split the data into training & testing\n",
    "X_train, X_test, y_train, y_test = train_test_split(X, y, test_size=0.2, random_state=42)"
   ]
  },
  {
   "cell_type": "code",
   "execution_count": 4,
   "id": "f1cd4087",
   "metadata": {
    "scrolled": true
   },
   "outputs": [
    {
     "name": "stdout",
     "output_type": "stream",
     "text": [
      "0:\tlearn: 0.9726042\ttotal: 137ms\tremaining: 13.6s\n",
      "1:\tlearn: 0.8721248\ttotal: 139ms\tremaining: 6.8s\n",
      "2:\tlearn: 0.7954929\ttotal: 139ms\tremaining: 4.51s\n",
      "3:\tlearn: 0.7257164\ttotal: 140ms\tremaining: 3.36s\n",
      "4:\tlearn: 0.6618108\ttotal: 141ms\tremaining: 2.67s\n",
      "5:\tlearn: 0.6062682\ttotal: 142ms\tremaining: 2.22s\n",
      "6:\tlearn: 0.5574738\ttotal: 142ms\tremaining: 1.89s\n",
      "7:\tlearn: 0.5222422\ttotal: 143ms\tremaining: 1.65s\n",
      "8:\tlearn: 0.4880434\ttotal: 144ms\tremaining: 1.45s\n",
      "9:\tlearn: 0.4533366\ttotal: 144ms\tremaining: 1.3s\n",
      "10:\tlearn: 0.4235642\ttotal: 145ms\tremaining: 1.17s\n",
      "11:\tlearn: 0.4012245\ttotal: 145ms\tremaining: 1.06s\n",
      "12:\tlearn: 0.3792420\ttotal: 146ms\tremaining: 974ms\n",
      "13:\tlearn: 0.3584687\ttotal: 146ms\tremaining: 897ms\n",
      "14:\tlearn: 0.3403932\ttotal: 146ms\tremaining: 830ms\n",
      "15:\tlearn: 0.3229021\ttotal: 147ms\tremaining: 772ms\n",
      "16:\tlearn: 0.3077965\ttotal: 148ms\tremaining: 721ms\n",
      "17:\tlearn: 0.2923473\ttotal: 148ms\tremaining: 675ms\n",
      "18:\tlearn: 0.2778841\ttotal: 149ms\tremaining: 634ms\n",
      "19:\tlearn: 0.2638524\ttotal: 149ms\tremaining: 598ms\n",
      "20:\tlearn: 0.2550542\ttotal: 150ms\tremaining: 564ms\n",
      "21:\tlearn: 0.2441858\ttotal: 150ms\tremaining: 533ms\n",
      "22:\tlearn: 0.2343605\ttotal: 151ms\tremaining: 505ms\n",
      "23:\tlearn: 0.2253981\ttotal: 151ms\tremaining: 479ms\n",
      "24:\tlearn: 0.2181528\ttotal: 152ms\tremaining: 455ms\n",
      "25:\tlearn: 0.2119938\ttotal: 152ms\tremaining: 433ms\n",
      "26:\tlearn: 0.2028671\ttotal: 153ms\tremaining: 413ms\n",
      "27:\tlearn: 0.1964470\ttotal: 153ms\tremaining: 394ms\n",
      "28:\tlearn: 0.1900294\ttotal: 154ms\tremaining: 376ms\n",
      "29:\tlearn: 0.1860042\ttotal: 154ms\tremaining: 360ms\n",
      "30:\tlearn: 0.1806791\ttotal: 155ms\tremaining: 344ms\n",
      "31:\tlearn: 0.1747981\ttotal: 155ms\tremaining: 330ms\n",
      "32:\tlearn: 0.1695741\ttotal: 156ms\tremaining: 316ms\n",
      "33:\tlearn: 0.1649584\ttotal: 156ms\tremaining: 303ms\n",
      "34:\tlearn: 0.1598299\ttotal: 156ms\tremaining: 291ms\n",
      "35:\tlearn: 0.1548881\ttotal: 157ms\tremaining: 279ms\n",
      "36:\tlearn: 0.1507985\ttotal: 157ms\tremaining: 268ms\n",
      "37:\tlearn: 0.1471131\ttotal: 158ms\tremaining: 258ms\n",
      "38:\tlearn: 0.1429986\ttotal: 158ms\tremaining: 248ms\n",
      "39:\tlearn: 0.1400926\ttotal: 159ms\tremaining: 238ms\n",
      "40:\tlearn: 0.1365035\ttotal: 159ms\tremaining: 229ms\n",
      "41:\tlearn: 0.1335369\ttotal: 160ms\tremaining: 221ms\n",
      "42:\tlearn: 0.1304711\ttotal: 160ms\tremaining: 213ms\n",
      "43:\tlearn: 0.1281780\ttotal: 161ms\tremaining: 205ms\n",
      "44:\tlearn: 0.1242253\ttotal: 161ms\tremaining: 197ms\n",
      "45:\tlearn: 0.1221943\ttotal: 162ms\tremaining: 190ms\n",
      "46:\tlearn: 0.1195872\ttotal: 162ms\tremaining: 183ms\n",
      "47:\tlearn: 0.1171163\ttotal: 163ms\tremaining: 176ms\n",
      "48:\tlearn: 0.1141672\ttotal: 163ms\tremaining: 170ms\n",
      "49:\tlearn: 0.1122893\ttotal: 164ms\tremaining: 164ms\n",
      "50:\tlearn: 0.1098129\ttotal: 164ms\tremaining: 158ms\n",
      "51:\tlearn: 0.1072449\ttotal: 165ms\tremaining: 152ms\n",
      "52:\tlearn: 0.1047252\ttotal: 165ms\tremaining: 146ms\n",
      "53:\tlearn: 0.1024333\ttotal: 165ms\tremaining: 141ms\n",
      "54:\tlearn: 0.0998325\ttotal: 166ms\tremaining: 136ms\n",
      "55:\tlearn: 0.0980242\ttotal: 166ms\tremaining: 131ms\n",
      "56:\tlearn: 0.0960770\ttotal: 167ms\tremaining: 126ms\n",
      "57:\tlearn: 0.0944392\ttotal: 167ms\tremaining: 121ms\n",
      "58:\tlearn: 0.0926246\ttotal: 168ms\tremaining: 117ms\n",
      "59:\tlearn: 0.0911239\ttotal: 169ms\tremaining: 112ms\n",
      "60:\tlearn: 0.0896315\ttotal: 169ms\tremaining: 108ms\n",
      "61:\tlearn: 0.0878848\ttotal: 169ms\tremaining: 104ms\n",
      "62:\tlearn: 0.0865534\ttotal: 170ms\tremaining: 99.8ms\n",
      "63:\tlearn: 0.0843751\ttotal: 171ms\tremaining: 96.1ms\n",
      "64:\tlearn: 0.0822578\ttotal: 172ms\tremaining: 92.5ms\n",
      "65:\tlearn: 0.0811699\ttotal: 172ms\tremaining: 88.8ms\n",
      "66:\tlearn: 0.0800694\ttotal: 173ms\tremaining: 85.2ms\n",
      "67:\tlearn: 0.0784126\ttotal: 173ms\tremaining: 81.6ms\n",
      "68:\tlearn: 0.0775918\ttotal: 174ms\tremaining: 78.2ms\n",
      "69:\tlearn: 0.0760686\ttotal: 174ms\tremaining: 74.7ms\n",
      "70:\tlearn: 0.0749315\ttotal: 175ms\tremaining: 71.5ms\n",
      "71:\tlearn: 0.0733648\ttotal: 175ms\tremaining: 68.2ms\n",
      "72:\tlearn: 0.0721660\ttotal: 176ms\tremaining: 65.2ms\n",
      "73:\tlearn: 0.0707186\ttotal: 177ms\tremaining: 62.1ms\n",
      "74:\tlearn: 0.0693721\ttotal: 177ms\tremaining: 59.1ms\n",
      "75:\tlearn: 0.0682979\ttotal: 178ms\tremaining: 56.2ms\n",
      "76:\tlearn: 0.0669970\ttotal: 178ms\tremaining: 53.3ms\n",
      "77:\tlearn: 0.0659363\ttotal: 179ms\tremaining: 50.4ms\n",
      "78:\tlearn: 0.0650920\ttotal: 179ms\tremaining: 47.7ms\n",
      "79:\tlearn: 0.0637710\ttotal: 180ms\tremaining: 45ms\n",
      "80:\tlearn: 0.0625356\ttotal: 180ms\tremaining: 42.3ms\n",
      "81:\tlearn: 0.0615333\ttotal: 181ms\tremaining: 39.7ms\n",
      "82:\tlearn: 0.0606667\ttotal: 181ms\tremaining: 37.2ms\n",
      "83:\tlearn: 0.0597940\ttotal: 182ms\tremaining: 34.7ms\n",
      "84:\tlearn: 0.0588456\ttotal: 182ms\tremaining: 32.2ms\n",
      "85:\tlearn: 0.0580218\ttotal: 183ms\tremaining: 29.8ms\n",
      "86:\tlearn: 0.0571790\ttotal: 183ms\tremaining: 27.4ms\n",
      "87:\tlearn: 0.0563884\ttotal: 184ms\tremaining: 25.1ms\n",
      "88:\tlearn: 0.0559566\ttotal: 184ms\tremaining: 22.8ms\n",
      "89:\tlearn: 0.0554159\ttotal: 185ms\tremaining: 20.5ms\n",
      "90:\tlearn: 0.0546494\ttotal: 185ms\tremaining: 18.3ms\n",
      "91:\tlearn: 0.0539042\ttotal: 186ms\tremaining: 16.1ms\n",
      "92:\tlearn: 0.0532343\ttotal: 186ms\tremaining: 14ms\n",
      "93:\tlearn: 0.0526767\ttotal: 187ms\tremaining: 11.9ms\n",
      "94:\tlearn: 0.0520312\ttotal: 187ms\tremaining: 9.85ms\n",
      "95:\tlearn: 0.0514760\ttotal: 188ms\tremaining: 7.81ms\n",
      "96:\tlearn: 0.0506369\ttotal: 188ms\tremaining: 5.81ms\n",
      "97:\tlearn: 0.0497949\ttotal: 188ms\tremaining: 3.85ms\n",
      "98:\tlearn: 0.0490889\ttotal: 189ms\tremaining: 1.91ms\n",
      "99:\tlearn: 0.0483417\ttotal: 189ms\tremaining: 0us\n"
     ]
    },
    {
     "data": {
      "text/plain": [
       "<catboost.core.CatBoostClassifier at 0x233e3d62990>"
      ]
     },
     "execution_count": 4,
     "metadata": {},
     "output_type": "execute_result"
    }
   ],
   "source": [
    "#Initialize catboost classifier model and fit\n",
    "catboost_model = CatBoostClassifier(n_estimators=100, learning_rate=0.1, depth=5)\n",
    "catboost_model.fit(X_train, y_train)"
   ]
  },
  {
   "cell_type": "code",
   "execution_count": 5,
   "id": "ad1ba313",
   "metadata": {},
   "outputs": [],
   "source": [
    "y_Pred = catboost_model.predict(X_test)"
   ]
  },
  {
   "cell_type": "code",
   "execution_count": 7,
   "id": "be42cd41",
   "metadata": {},
   "outputs": [],
   "source": [
    "from sklearn.metrics import accuracy_score"
   ]
  },
  {
   "cell_type": "code",
   "execution_count": 9,
   "id": "f4f635de",
   "metadata": {
    "scrolled": true
   },
   "outputs": [
    {
     "name": "stdout",
     "output_type": "stream",
     "text": [
      "Accracy: 1.0\n"
     ]
    }
   ],
   "source": [
    "accuracy = accuracy_score(y_test, y_Pred)\n",
    "print(f\"Accracy: {accuracy}\")"
   ]
  },
  {
   "cell_type": "code",
   "execution_count": null,
   "id": "8c090ed5",
   "metadata": {},
   "outputs": [],
   "source": []
  },
  {
   "cell_type": "code",
   "execution_count": null,
   "id": "8ba577f3",
   "metadata": {},
   "outputs": [],
   "source": []
  },
  {
   "cell_type": "code",
   "execution_count": null,
   "id": "be626f9f",
   "metadata": {},
   "outputs": [],
   "source": []
  },
  {
   "cell_type": "code",
   "execution_count": null,
   "id": "08774c07",
   "metadata": {},
   "outputs": [],
   "source": []
  },
  {
   "cell_type": "code",
   "execution_count": null,
   "id": "27000067",
   "metadata": {},
   "outputs": [],
   "source": []
  }
 ],
 "metadata": {
  "kernelspec": {
   "display_name": "Python 3 (ipykernel)",
   "language": "python",
   "name": "python3"
  },
  "language_info": {
   "codemirror_mode": {
    "name": "ipython",
    "version": 3
   },
   "file_extension": ".py",
   "mimetype": "text/x-python",
   "name": "python",
   "nbconvert_exporter": "python",
   "pygments_lexer": "ipython3",
   "version": "3.11.5"
  }
 },
 "nbformat": 4,
 "nbformat_minor": 5
}
